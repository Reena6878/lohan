{
  "nbformat": 4,
  "nbformat_minor": 0,
  "metadata": {
    "colab": {
      "provenance": [],
      "authorship_tag": "ABX9TyPm+KZCa7SgMAJkk5YXC5oC",
      "include_colab_link": true
    },
    "kernelspec": {
      "name": "python3",
      "display_name": "Python 3"
    },
    "language_info": {
      "name": "python"
    }
  },
  "cells": [
    {
      "cell_type": "markdown",
      "metadata": {
        "id": "view-in-github",
        "colab_type": "text"
      },
      "source": [
        "<a href=\"https://colab.research.google.com/github/Reena6878/lohan/blob/master/Exctracting%20emails.ipynb\" target=\"_parent\"><img src=\"https://colab.research.google.com/assets/colab-badge.svg\" alt=\"Open In Colab\"/></a>"
      ]
    },
    {
      "cell_type": "code",
      "execution_count": 14,
      "metadata": {
        "id": "GJYpeLWG5gcs"
      },
      "outputs": [],
      "source": [
        "import re"
      ]
    },
    {
      "cell_type": "code",
      "source": [
        "pattern=r\"[a-zA-Z0-9._%+-]+@[a-zA-Z0-9._]+\\.[a-zA-z]{2,3}\""
      ],
      "metadata": {
        "id": "1Mecl50A58eZ"
      },
      "execution_count": 15,
      "outputs": []
    },
    {
      "cell_type": "code",
      "source": [
        "text=\"\"\"\n",
        "hello my name is reena lohan and you can reach at me reenalohan035@gmail.com.\n",
        "and also don't forget to contect at reenalohan15@gmail.com for further details.\n",
        "\"\"\""
      ],
      "metadata": {
        "id": "DcDNERVK6fwt"
      },
      "execution_count": 16,
      "outputs": []
    },
    {
      "cell_type": "code",
      "source": [
        "#serach text for email adress\n",
        "emails=re.findall(pattern,text)\n",
        "print(emails)"
      ],
      "metadata": {
        "colab": {
          "base_uri": "https://localhost:8080/"
        },
        "id": "BM_Yjsm_7CPF",
        "outputId": "c113a49f-8b07-4dd9-e668-55674db8f937"
      },
      "execution_count": 17,
      "outputs": [
        {
          "output_type": "stream",
          "name": "stdout",
          "text": [
            "['reenalohan035@gmail.com', 'reenalohan15@gmail.com']\n"
          ]
        }
      ]
    }
  ]
}