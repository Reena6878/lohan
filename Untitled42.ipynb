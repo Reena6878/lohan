{
  "cells": [
    {
      "cell_type": "markdown",
      "metadata": {
        "id": "view-in-github",
        "colab_type": "text"
      },
      "source": [
        "<a href=\"https://colab.research.google.com/github/Reena6878/lohan/blob/master/Untitled42.ipynb\" target=\"_parent\"><img src=\"https://colab.research.google.com/assets/colab-badge.svg\" alt=\"Open In Colab\"/></a>"
      ]
    },
    {
      "cell_type": "code",
      "execution_count": null,
      "metadata": {
        "id": "VlyK1LKEI6_h"
      },
      "outputs": [],
      "source": []
    },
    {
      "cell_type": "markdown",
      "metadata": {
        "id": "ozYYhfMgI8fB"
      },
      "source": [
        "liuterals"
      ]
    },
    {
      "cell_type": "code",
      "execution_count": null,
      "metadata": {
        "id": "u9fLT4LgI9qm"
      },
      "outputs": [],
      "source": [
        "a=0b1010#binary literals\n",
        "b=100#decimal lierals\n",
        "c=0o310#octal literals\n",
        "d=0x12c#hexadecimal literals\n"
      ]
    },
    {
      "cell_type": "code",
      "execution_count": null,
      "metadata": {
        "colab": {
          "base_uri": "https://localhost:8080/"
        },
        "id": "IkmFlB5zJXz3",
        "outputId": "276d2c6b-57d4-4b44-f4ef-1adc4973cb30"
      },
      "outputs": [
        {
          "name": "stdout",
          "output_type": "stream",
          "text": [
            "10 100 200 300\n",
            "10.5 150.0 0.0015\n",
            "3.14j 3.14 0.0\n"
          ]
        }
      ],
      "source": [
        "#float literals\n",
        "f_1=10.5\n",
        "f_2=1.5e2\n",
        "f_3=1.5e-3\n",
        "\n",
        "#complex literals\n",
        "x=3.14j\n",
        "\n",
        "print(a,b,c,d)\n",
        "print(f_1,f_2,f_3)\n",
        "print(x,x.imag,x.real)"
      ]
    },
    {
      "cell_type": "code",
      "execution_count": null,
      "metadata": {
        "id": "wmZgsd9kKLpv"
      },
      "outputs": [],
      "source": [
        "strings=\"this is python\"\n",
        "string=\"this is python\"\n",
        "\n",
        "char=\"c\"\n",
        "multiline_string=\"\"\" this is multiline string with more than one line code\"\"\"\n",
        "unicode=u\"\\U0001f600\\U0001f606\\U0001f923\"\n",
        "rwa_str=r\"raw\\n string\""
      ]
    },
    {
      "cell_type": "code",
      "execution_count": null,
      "metadata": {
        "colab": {
          "base_uri": "https://localhost:8080/"
        },
        "id": "60qDuPi5LT6l",
        "outputId": "5380cb55-0a2a-4d22-874b-2291341a1868"
      },
      "outputs": [
        {
          "name": "stdout",
          "output_type": "stream",
          "text": [
            "this is python\n",
            "this is python\n",
            "c\n",
            " this is multiline string with more than one line code\n",
            "😀😆🤣\n",
            "raw\\n string\n"
          ]
        }
      ],
      "source": [
        "print(strings)\n",
        "print(string)\n",
        "print(char)\n",
        "print(multiline_string)\n",
        "print(unicode)\n",
        "print(rwa_str)"
      ]
    },
    {
      "cell_type": "code",
      "execution_count": null,
      "metadata": {
        "id": "oFr4XLPNLjyR"
      },
      "outputs": [],
      "source": []
    },
    {
      "cell_type": "markdown",
      "metadata": {
        "id": "y2xDfES-ML0w"
      },
      "source": [
        "indentation"
      ]
    },
    {
      "cell_type": "code",
      "execution_count": null,
      "metadata": {
        "id": "NTNq3LoFMhqo"
      },
      "outputs": [],
      "source": []
    },
    {
      "cell_type": "markdown",
      "metadata": {
        "id": "SmL4KeuyPXiD"
      },
      "source": [
        "while loop"
      ]
    },
    {
      "cell_type": "code",
      "execution_count": null,
      "metadata": {
        "colab": {
          "base_uri": "https://localhost:8080/"
        },
        "id": "XiwnyJFyPZX3",
        "outputId": "c28b08cc-5630-46d7-a4b9-ccd6e28366d3"
      },
      "outputs": [
        {
          "name": "stdout",
          "output_type": "stream",
          "text": [
            "enter the number:65\n",
            "65\n",
            "130\n",
            "195\n",
            "260\n",
            "325\n",
            "390\n",
            "455\n",
            "520\n",
            "585\n",
            "650\n"
          ]
        }
      ],
      "source": [
        "num=int(input(\"enter the number:\"))\n",
        "i=1\n",
        "while i<11:\n",
        "  print(num*i)\n",
        "  i+=1"
      ]
    },
    {
      "cell_type": "code",
      "execution_count": null,
      "metadata": {
        "id": "eN_6Sy9BQ4lU"
      },
      "outputs": [],
      "source": []
    },
    {
      "cell_type": "markdown",
      "metadata": {
        "id": "w4QL8kP0RhFw"
      },
      "source": [
        "guessing game"
      ]
    },
    {
      "cell_type": "code",
      "execution_count": null,
      "metadata": {
        "id": "8DzfxYLURjHI"
      },
      "outputs": [],
      "source": [
        "import random"
      ]
    },
    {
      "cell_type": "code",
      "execution_count": null,
      "metadata": {
        "colab": {
          "base_uri": "https://localhost:8080/"
        },
        "id": "HgQEemk3RqGN",
        "outputId": "1908260c-f57d-40f9-fd48-b97f6c5cb57b"
      },
      "outputs": [
        {
          "output_type": "execute_result",
          "data": {
            "text/plain": [
              "10"
            ]
          },
          "metadata": {},
          "execution_count": 4
        }
      ],
      "source": [
        "random.randint(1,100)"
      ]
    },
    {
      "cell_type": "code",
      "execution_count": null,
      "metadata": {
        "colab": {
          "base_uri": "https://localhost:8080/",
          "height": 1000
        },
        "id": "Yhbe2kVxRwCW",
        "outputId": "f581e7b5-3077-4c34-c406-fe0e785deeb4"
      },
      "outputs": [
        {
          "name": "stdout",
          "output_type": "stream",
          "text": [
            "chal guess kar23\n",
            "guess lower\n",
            "chal guess kar34\n",
            "guess lower\n",
            "chal guess kar56\n",
            "guess lower\n",
            "chal guess kar78\n",
            "guess lower\n",
            "chal guess kar90\n",
            "guess lower\n",
            "chal guess kar90\n",
            "guess lower\n",
            "chal guess kar100\n",
            "guess lower\n",
            "chal guess kar50\n",
            "guess lower\n",
            "chal guess kar190\n",
            "guess lower\n",
            "chal guess kar54\n",
            "guess lower\n",
            "chal guess kar45\n",
            "guess lower\n",
            "chal guess kar78\n",
            "guess lower\n",
            "chal guess kar56\n",
            "guess lower\n",
            "chal guess kar4\n",
            "guess lower\n",
            "chal guess kar12\n",
            "guess lower\n",
            "chal guess kar0\n",
            "guess higher\n",
            "chal guess kar56\n",
            "guess lower\n",
            "chal guess kar70\n",
            "guess lower\n",
            "chal guess kar50\n",
            "guess lower\n",
            "chal guess kar20\n",
            "guess lower\n",
            "chal guess kar30\n",
            "guess lower\n",
            "chal guess kar40\n",
            "guess lower\n",
            "chal guess kar50\n",
            "guess lower\n",
            "chal guess kar60\n",
            "guess lower\n",
            "chal guess kar70\n",
            "guess lower\n",
            "chal guess kar80\n",
            "guess lower\n",
            "chal guess kar90\n",
            "guess lower\n",
            "chal guess kar100\n",
            "guess lower\n",
            "chal guess kar101\n",
            "guess lower\n",
            "chal guess kar58\n",
            "guess lower\n",
            "chal guess kar55\n",
            "guess lower\n",
            "chal guess kar62\n",
            "guess lower\n",
            "chal guess kar22\n",
            "guess lower\n",
            "chal guess kar33\n",
            "guess lower\n",
            "chal guess kar44\n",
            "guess lower\n",
            "chal guess kar55\n",
            "guess lower\n",
            "chal guess kar66\n",
            "guess lower\n",
            "chal guess kar77\n",
            "guess lower\n",
            "chal guess kar88\n",
            "guess lower\n",
            "chal guess kar99\n",
            "guess lower\n",
            "chal guess kar51\n",
            "guess lower\n",
            "chal guess kar52\n",
            "guess lower\n",
            "chal guess kar\n"
          ]
        },
        {
          "output_type": "error",
          "ename": "ValueError",
          "evalue": "ignored",
          "traceback": [
            "\u001b[0;31m---------------------------------------------------------------------------\u001b[0m",
            "\u001b[0;31mValueError\u001b[0m                                Traceback (most recent call last)",
            "\u001b[0;32m<ipython-input-5-5c3d443d6e8d>\u001b[0m in \u001b[0;36m<cell line: 5>\u001b[0;34m()\u001b[0m\n\u001b[1;32m      9\u001b[0m     \u001b[0mprint\u001b[0m\u001b[0;34m(\u001b[0m\u001b[0;34m\"guess lower\"\u001b[0m\u001b[0;34m)\u001b[0m\u001b[0;34m\u001b[0m\u001b[0;34m\u001b[0m\u001b[0m\n\u001b[1;32m     10\u001b[0m \u001b[0;34m\u001b[0m\u001b[0m\n\u001b[0;32m---> 11\u001b[0;31m   \u001b[0mguess\u001b[0m\u001b[0;34m=\u001b[0m\u001b[0mint\u001b[0m\u001b[0;34m(\u001b[0m\u001b[0minput\u001b[0m\u001b[0;34m(\u001b[0m\u001b[0;34m\"chal guess kar\"\u001b[0m\u001b[0;34m)\u001b[0m\u001b[0;34m)\u001b[0m\u001b[0;34m\u001b[0m\u001b[0;34m\u001b[0m\u001b[0m\n\u001b[0m\u001b[1;32m     12\u001b[0m   \u001b[0;31m#counter+=1\u001b[0m\u001b[0;34m\u001b[0m\u001b[0;34m\u001b[0m\u001b[0m\n\u001b[1;32m     13\u001b[0m \u001b[0mprint\u001b[0m\u001b[0;34m(\u001b[0m\u001b[0;34m\"sah jawab\"\u001b[0m\u001b[0;34m)\u001b[0m\u001b[0;34m\u001b[0m\u001b[0;34m\u001b[0m\u001b[0m\n",
            "\u001b[0;31mValueError\u001b[0m: invalid literal for int() with base 10: ''"
          ]
        }
      ],
      "source": [
        "4809\n",
        "jacpot=random.randint(1,100)\n",
        "counter=1\n",
        "\n",
        "guess=int(input(\"chal guess kar\"))\n",
        "while guess!=jacpot:\n",
        "  if guess < jacpot:\n",
        "    print(\"guess higher\")\n",
        "  else:\n",
        "    print(\"guess lower\")\n",
        "\n",
        "  guess=int(input(\"chal guess kar\"))\n",
        "  counter+=1\n",
        "print(\"sah jawab\")\n",
        "print(\"you took\",counter,\"attempts\")"
      ]
    },
    {
      "cell_type": "code",
      "execution_count": null,
      "metadata": {
        "id": "wnKlG-OhSt0r",
        "colab": {
          "base_uri": "https://localhost:8080/"
        },
        "outputId": "991a6714-140a-43e2-cc7c-5f0a7fc4012d"
      },
      "outputs": [
        {
          "output_type": "execute_result",
          "data": {
            "text/plain": [
              "[1, 2, 3, 4, 5, 6, 7, 8, 9, 10]"
            ]
          },
          "metadata": {},
          "execution_count": 6
        }
      ],
      "source": [
        "#range function\n",
        "list(range(1,11))\n"
      ]
    },
    {
      "cell_type": "code",
      "source": [
        "list(range(5))\n"
      ],
      "metadata": {
        "colab": {
          "base_uri": "https://localhost:8080/"
        },
        "id": "GQ1bLUBwakPr",
        "outputId": "2abb3446-c2c3-436c-d8d9-ccdb51a60ce0"
      },
      "execution_count": null,
      "outputs": [
        {
          "output_type": "execute_result",
          "data": {
            "text/plain": [
              "[0, 1, 2, 3, 4]"
            ]
          },
          "metadata": {},
          "execution_count": 7
        }
      ]
    },
    {
      "cell_type": "code",
      "source": [
        "list(range(1,11,3))"
      ],
      "metadata": {
        "colab": {
          "base_uri": "https://localhost:8080/"
        },
        "id": "GuLcMHEKa5a9",
        "outputId": "fc34c4c2-1424-4fde-e1a7-1969ad7c0c32"
      },
      "execution_count": null,
      "outputs": [
        {
          "output_type": "execute_result",
          "data": {
            "text/plain": [
              "[1, 4, 7, 10]"
            ]
          },
          "metadata": {},
          "execution_count": 8
        }
      ]
    },
    {
      "cell_type": "code",
      "source": [
        "list(range(10,0,-1))"
      ],
      "metadata": {
        "colab": {
          "base_uri": "https://localhost:8080/"
        },
        "id": "gGM6Zufga8LE",
        "outputId": "a1228a6d-fc92-42c9-d692-eac052c1bde2"
      },
      "execution_count": null,
      "outputs": [
        {
          "output_type": "execute_result",
          "data": {
            "text/plain": [
              "[10, 9, 8, 7, 6, 5, 4, 3, 2, 1]"
            ]
          },
          "metadata": {},
          "execution_count": 9
        }
      ]
    },
    {
      "cell_type": "code",
      "source": [
        "for i in range(1,11,3\n",
        "              ):\n",
        "  print(i)"
      ],
      "metadata": {
        "colab": {
          "base_uri": "https://localhost:8080/"
        },
        "id": "GNTWcGAwbBBR",
        "outputId": "7119f38a-0d70-47e7-e7d5-7e0f6c88dacc"
      },
      "execution_count": null,
      "outputs": [
        {
          "output_type": "stream",
          "name": "stdout",
          "text": [
            "1\n",
            "4\n",
            "7\n",
            "10\n"
          ]
        }
      ]
    },
    {
      "cell_type": "code",
      "source": [
        "for i in \"kolkata\":\n",
        "  print(i)"
      ],
      "metadata": {
        "colab": {
          "base_uri": "https://localhost:8080/"
        },
        "id": "fHXVqrsBbr1L",
        "outputId": "bc8f22c6-6be5-4e6f-cef8-11438556629f"
      },
      "execution_count": null,
      "outputs": [
        {
          "output_type": "stream",
          "name": "stdout",
          "text": [
            "k\n",
            "o\n",
            "l\n",
            "k\n",
            "a\n",
            "t\n",
            "a\n"
          ]
        }
      ]
    },
    {
      "cell_type": "code",
      "source": [
        "for i in {1,2,3,4}:\n",
        "\n",
        "  print(i)"
      ],
      "metadata": {
        "colab": {
          "base_uri": "https://localhost:8080/"
        },
        "id": "UytguuLecAE9",
        "outputId": "7dd92ac0-1860-4112-94af-47e2bfc45081"
      },
      "execution_count": null,
      "outputs": [
        {
          "output_type": "stream",
          "name": "stdout",
          "text": [
            "1\n",
            "2\n",
            "3\n",
            "4\n"
          ]
        }
      ]
    },
    {
      "cell_type": "code",
      "source": [],
      "metadata": {
        "id": "Qy5LsBabcF7c"
      },
      "execution_count": null,
      "outputs": []
    },
    {
      "cell_type": "markdown",
      "source": [
        "nested loop"
      ],
      "metadata": {
        "id": "d9zyfh0YcYX_"
      }
    },
    {
      "cell_type": "code",
      "source": [
        "rows=int(input(\"enter the number of rows\"))\n",
        "for i in range(1,rows+1):\n",
        "  for j in range(0,i):\n",
        "    print(\"*\",end=\"\")\n",
        "  print(\"\")"
      ],
      "metadata": {
        "colab": {
          "base_uri": "https://localhost:8080/"
        },
        "id": "RxAVWlfBcaL7",
        "outputId": "42df7a4f-b110-42d7-aa1f-9e728214f771"
      },
      "execution_count": null,
      "outputs": [
        {
          "output_type": "stream",
          "name": "stdout",
          "text": [
            "enter the number of rows10\n",
            "*\n",
            "**\n",
            "***\n",
            "****\n",
            "*****\n",
            "******\n",
            "*******\n",
            "********\n",
            "*********\n",
            "**********\n"
          ]
        }
      ]
    },
    {
      "cell_type": "code",
      "source": [],
      "metadata": {
        "id": "O2ydcDLsdKcQ"
      },
      "execution_count": null,
      "outputs": []
    },
    {
      "cell_type": "markdown",
      "source": [
        "break,past,continue"
      ],
      "metadata": {
        "id": "mT2YzJ6Tg7wL"
      }
    },
    {
      "cell_type": "code",
      "source": [
        "for i in range(1,11):\n",
        "  if i==5:\n",
        "    break\n",
        "  print(i)"
      ],
      "metadata": {
        "colab": {
          "base_uri": "https://localhost:8080/"
        },
        "id": "sW3rJGt-g9_9",
        "outputId": "683912c2-c85f-4667-fe4a-4f1dc77f9725"
      },
      "execution_count": null,
      "outputs": [
        {
          "output_type": "stream",
          "name": "stdout",
          "text": [
            "1\n",
            "2\n",
            "3\n",
            "4\n"
          ]
        }
      ]
    },
    {
      "cell_type": "code",
      "source": [
        "for i in range(1,11):\n",
        "  if i==5:\n",
        "    continue\n",
        "  print(i)\n",
        "  print(\"hello\")"
      ],
      "metadata": {
        "colab": {
          "base_uri": "https://localhost:8080/"
        },
        "id": "DTvlDSHdhOHk",
        "outputId": "98c1d7fd-6450-4aad-a248-5657afbdd3f7"
      },
      "execution_count": null,
      "outputs": [
        {
          "output_type": "stream",
          "name": "stdout",
          "text": [
            "1\n",
            "hello\n",
            "2\n",
            "hello\n",
            "3\n",
            "hello\n",
            "4\n",
            "hello\n",
            "6\n",
            "hello\n",
            "7\n",
            "hello\n",
            "8\n",
            "hello\n",
            "9\n",
            "hello\n",
            "10\n",
            "hello\n"
          ]
        }
      ]
    },
    {
      "cell_type": "code",
      "source": [
        "for i in range(1,11):\n",
        "  pass"
      ],
      "metadata": {
        "id": "nia4FuGIh1kK"
      },
      "execution_count": null,
      "outputs": []
    },
    {
      "cell_type": "code",
      "source": [],
      "metadata": {
        "id": "2lZOm8YQi2QJ"
      },
      "execution_count": null,
      "outputs": []
    },
    {
      "cell_type": "markdown",
      "source": [
        "built in functions"
      ],
      "metadata": {
        "id": "gHNqyashjAei"
      }
    },
    {
      "cell_type": "code",
      "source": [
        "pow(9,-3)"
      ],
      "metadata": {
        "colab": {
          "base_uri": "https://localhost:8080/"
        },
        "id": "17h-ZSuZjCNp",
        "outputId": "96ea7b98-8335-4c87-90d1-f0a928445e7e"
      },
      "execution_count": null,
      "outputs": [
        {
          "output_type": "execute_result",
          "data": {
            "text/plain": [
              "0.0013717421124828531"
            ]
          },
          "metadata": {},
          "execution_count": 29
        }
      ]
    },
    {
      "cell_type": "code",
      "source": [
        "min([2,1,3,0])"
      ],
      "metadata": {
        "colab": {
          "base_uri": "https://localhost:8080/"
        },
        "id": "x-hF6Qbnjlal",
        "outputId": "872b055c-fab4-4114-d8e9-d2877fbf4d32"
      },
      "execution_count": null,
      "outputs": [
        {
          "output_type": "execute_result",
          "data": {
            "text/plain": [
              "0"
            ]
          },
          "metadata": {},
          "execution_count": 30
        }
      ]
    },
    {
      "cell_type": "code",
      "source": [
        "max([2,3,4,5])"
      ],
      "metadata": {
        "colab": {
          "base_uri": "https://localhost:8080/"
        },
        "id": "AqX-cTv3jvsG",
        "outputId": "d7c52c60-7ff3-424e-ed9e-403af839add0"
      },
      "execution_count": null,
      "outputs": [
        {
          "output_type": "execute_result",
          "data": {
            "text/plain": [
              "5"
            ]
          },
          "metadata": {},
          "execution_count": 31
        }
      ]
    },
    {
      "cell_type": "code",
      "source": [
        "round(3.45678,3)"
      ],
      "metadata": {
        "colab": {
          "base_uri": "https://localhost:8080/"
        },
        "id": "uJAyqCYIjzCK",
        "outputId": "2abbe2a2-3381-4586-8f0e-4d413201b50b"
      },
      "execution_count": null,
      "outputs": [
        {
          "output_type": "execute_result",
          "data": {
            "text/plain": [
              "3.457"
            ]
          },
          "metadata": {},
          "execution_count": 32
        }
      ]
    },
    {
      "cell_type": "code",
      "source": [
        "bin(8)"
      ],
      "metadata": {
        "colab": {
          "base_uri": "https://localhost:8080/",
          "height": 35
        },
        "id": "B_qpkVKzj4vD",
        "outputId": "7160d17e-1a84-40bf-b703-592c061d9f84"
      },
      "execution_count": null,
      "outputs": [
        {
          "output_type": "execute_result",
          "data": {
            "text/plain": [
              "'0b1000'"
            ],
            "application/vnd.google.colaboratory.intrinsic+json": {
              "type": "string"
            }
          },
          "metadata": {},
          "execution_count": 33
        }
      ]
    },
    {
      "cell_type": "code",
      "source": [
        "oct(7)"
      ],
      "metadata": {
        "colab": {
          "base_uri": "https://localhost:8080/",
          "height": 35
        },
        "id": "C3rDOcKlkInP",
        "outputId": "73c8e25d-8733-478d-8728-7ab52453d2cb"
      },
      "execution_count": null,
      "outputs": [
        {
          "output_type": "execute_result",
          "data": {
            "text/plain": [
              "'0o7'"
            ],
            "application/vnd.google.colaboratory.intrinsic+json": {
              "type": "string"
            }
          },
          "metadata": {},
          "execution_count": 35
        }
      ]
    },
    {
      "cell_type": "code",
      "source": [
        "a=15\n",
        "id(a)"
      ],
      "metadata": {
        "colab": {
          "base_uri": "https://localhost:8080/"
        },
        "id": "TPMPPO2lkKgr",
        "outputId": "acca1d43-a9cf-41d4-d188-40ca6cb8fdba"
      },
      "execution_count": null,
      "outputs": [
        {
          "output_type": "execute_result",
          "data": {
            "text/plain": [
              "139144819819184"
            ]
          },
          "metadata": {},
          "execution_count": 36
        }
      ]
    },
    {
      "cell_type": "code",
      "source": [
        "ord('C')#asciicode"
      ],
      "metadata": {
        "colab": {
          "base_uri": "https://localhost:8080/"
        },
        "id": "7H0TaXwZkT1A",
        "outputId": "ba7f5de9-7f64-495b-d5d2-c602f0461b5c"
      },
      "execution_count": null,
      "outputs": [
        {
          "output_type": "execute_result",
          "data": {
            "text/plain": [
              "67"
            ]
          },
          "metadata": {},
          "execution_count": 39
        }
      ]
    },
    {
      "cell_type": "code",
      "source": [
        "help('print')"
      ],
      "metadata": {
        "colab": {
          "base_uri": "https://localhost:8080/"
        },
        "id": "IqWJHGxgka7F",
        "outputId": "f398e20e-6291-473e-fe7c-3083e8d7158e"
      },
      "execution_count": null,
      "outputs": [
        {
          "output_type": "stream",
          "name": "stdout",
          "text": [
            "Help on built-in function print in module builtins:\n",
            "\n",
            "print(...)\n",
            "    print(value, ..., sep=' ', end='\\n', file=sys.stdout, flush=False)\n",
            "    \n",
            "    Prints the values to a stream, or to sys.stdout by default.\n",
            "    Optional keyword arguments:\n",
            "    file:  a file-like object (stream); defaults to the current sys.stdout.\n",
            "    sep:   string inserted between values, default a space.\n",
            "    end:   string appended after the last value, default a newline.\n",
            "    flush: whether to forcibly flush the stream.\n",
            "\n"
          ]
        }
      ]
    },
    {
      "cell_type": "code",
      "source": [
        "#modules\n",
        "#math\n",
        "#os\n",
        "#random\n",
        "#time\n",
        "help('modules')"
      ],
      "metadata": {
        "colab": {
          "base_uri": "https://localhost:8080/"
        },
        "id": "tIjg8MRiktVH",
        "outputId": "be1cae41-385a-4aa3-845b-6625a71e7e21"
      },
      "execution_count": null,
      "outputs": [
        {
          "output_type": "stream",
          "name": "stdout",
          "text": [
            "\n",
            "Please wait a moment while I gather a list of all available modules...\n",
            "\n"
          ]
        },
        {
          "output_type": "stream",
          "name": "stderr",
          "text": [
            "/usr/local/lib/python3.10/dist-packages/IPython/kernel/__init__.py:12: ShimWarning: The `IPython.kernel` package has been deprecated since IPython 4.0.You should import from ipykernel or jupyter_client instead.\n",
            "  warn(\"The `IPython.kernel` package has been deprecated since IPython 4.0.\"\n",
            "/usr/local/lib/python3.10/dist-packages/altair/vega/v5/__init__.py:18: AltairDeprecationWarning: The module altair.vega.v5 is deprecated and will be removed in Altair 5.\n",
            "  warnings.warn(\n",
            "/usr/local/lib/python3.10/dist-packages/altair/vegalite/v3/__init__.py:29: AltairDeprecationWarning: The module altair.vegalite.v3 is deprecated and will be removed in Altair 5. Use `import altair as alt` instead of `import altair.vegalite.v3 as alt`.\n",
            "  warnings.warn(\n",
            "/usr/local/lib/python3.10/dist-packages/jupyter_client/ssh/tunnel.py:57: DeprecationWarning:\n",
            "\n",
            "zmq.utils.strtypes is deprecated in pyzmq 23.\n",
            "\n",
            "/usr/local/lib/python3.10/dist-packages/llvmlite/llvmpy/__init__.py:3: UserWarning:\n",
            "\n",
            "The module `llvmlite.llvmpy` is deprecated and will be removed in the future.\n",
            "\n"
          ]
        },
        {
          "output_type": "stream",
          "name": "stdout",
          "text": [
            "Downloading https://dlib.net/files/shape_predictor_68_face_landmarks.dat.bz2 to /root/mlxtend_data/shape_predictor_68_face_landmarks.dat.bz2\n"
          ]
        },
        {
          "output_type": "stream",
          "name": "stderr",
          "text": [
            "/usr/local/lib/python3.10/dist-packages/moviepy/video/fx/painting.py:7: DeprecationWarning:\n",
            "\n",
            "Please use `sobel` from the `scipy.ndimage` namespace, the `scipy.ndimage.filters` namespace is deprecated.\n",
            "\n",
            "/usr/lib/python3.10/pkgutil.py:92: UserWarning:\n",
            "\n",
            "The DICOM readers are highly experimental, unstable, and only work for Siemens time-series at the moment\n",
            "Please use with caution.  We would be grateful for your help in improving them\n",
            "\n",
            "/usr/local/lib/python3.10/dist-packages/nltk/twitter/__init__.py:20: UserWarning:\n",
            "\n",
            "The twython library has not been installed. Some functionality from the twitter package will not be available.\n",
            "\n",
            "/usr/local/lib/python3.10/dist-packages/notebook/utils.py:280: DeprecationWarning:\n",
            "\n",
            "distutils Version classes are deprecated. Use packaging.version instead.\n",
            "\n",
            "/usr/local/lib/python3.10/dist-packages/notebook/utils.py:280: DeprecationWarning:\n",
            "\n",
            "distutils Version classes are deprecated. Use packaging.version instead.\n",
            "\n",
            "/usr/local/lib/python3.10/dist-packages/numba/pycc/platform.py:6: DeprecationWarning:\n",
            "\n",
            "\n",
            "\n",
            "  `numpy.distutils` is deprecated since NumPy 1.23.0, as a result\n",
            "  of the deprecation of `distutils` itself. It will be removed for\n",
            "  Python >= 3.12. For older Python versions it will remain present.\n",
            "  It is recommended to use `setuptools < 60.0` for those Python versions.\n",
            "  For more details, see:\n",
            "    https://numpy.org/devdocs/reference/distutils_status_migration.html \n",
            "\n",
            "\n",
            "\n",
            "/usr/local/lib/python3.10/dist-packages/matplotlib_inline/config.py:68: DeprecationWarning:\n",
            "\n",
            "InlineBackend._figure_format_changed is deprecated in traitlets 4.1: use @observe and @unobserve instead.\n",
            "\n",
            "/usr/local/lib/python3.10/dist-packages/setuptools/_distutils/msvccompiler.py:66: DeprecationWarning:\n",
            "\n",
            "msvccompiler is deprecated and slated to be removed in the future. Please discontinue use or file an issue with pypa/distutils describing your use case.\n",
            "\n",
            "/usr/lib/python3.10/pkgutil.py:92: UserWarning:\n",
            "\n",
            "The numpy.array_api submodule is still experimental. See NEP 47.\n",
            "\n",
            "/usr/local/lib/python3.10/dist-packages/pandas_datareader/compat/__init__.py:11: DeprecationWarning:\n",
            "\n",
            "distutils Version classes are deprecated. Use packaging.version instead.\n",
            "\n",
            "/usr/local/lib/python3.10/dist-packages/pandas_datareader/compat/__init__.py:13: DeprecationWarning:\n",
            "\n",
            "distutils Version classes are deprecated. Use packaging.version instead.\n",
            "\n",
            "/usr/local/lib/python3.10/dist-packages/pandas_datareader/compat/__init__.py:14: DeprecationWarning:\n",
            "\n",
            "distutils Version classes are deprecated. Use packaging.version instead.\n",
            "\n",
            "/usr/local/lib/python3.10/dist-packages/pandas_datareader/compat/__init__.py:15: DeprecationWarning:\n",
            "\n",
            "distutils Version classes are deprecated. Use packaging.version instead.\n",
            "\n",
            "/usr/local/lib/python3.10/dist-packages/pip/_vendor/pkg_resources/__init__.py:121: DeprecationWarning:\n",
            "\n",
            "pkg_resources is deprecated as an API\n",
            "\n",
            "/usr/local/lib/python3.10/dist-packages/pip/_vendor/pkg_resources/__init__.py:2870: DeprecationWarning:\n",
            "\n",
            "Deprecated call to `pkg_resources.declare_namespace('google')`.\n",
            "Implementing implicit namespace packages (as specified in PEP 420) is preferred to `pkg_resources.declare_namespace`. See https://setuptools.pypa.io/en/latest/references/keywords.html#keyword-namespace-packages\n",
            "\n",
            "/usr/local/lib/python3.10/dist-packages/pip/_vendor/pkg_resources/__init__.py:2870: DeprecationWarning:\n",
            "\n",
            "Deprecated call to `pkg_resources.declare_namespace('google')`.\n",
            "Implementing implicit namespace packages (as specified in PEP 420) is preferred to `pkg_resources.declare_namespace`. See https://setuptools.pypa.io/en/latest/references/keywords.html#keyword-namespace-packages\n",
            "\n",
            "/usr/local/lib/python3.10/dist-packages/pip/_vendor/pkg_resources/__init__.py:2870: DeprecationWarning:\n",
            "\n",
            "Deprecated call to `pkg_resources.declare_namespace('google')`.\n",
            "Implementing implicit namespace packages (as specified in PEP 420) is preferred to `pkg_resources.declare_namespace`. See https://setuptools.pypa.io/en/latest/references/keywords.html#keyword-namespace-packages\n",
            "\n",
            "/usr/local/lib/python3.10/dist-packages/pip/_vendor/pkg_resources/__init__.py:2870: DeprecationWarning:\n",
            "\n",
            "Deprecated call to `pkg_resources.declare_namespace('google.cloud')`.\n",
            "Implementing implicit namespace packages (as specified in PEP 420) is preferred to `pkg_resources.declare_namespace`. See https://setuptools.pypa.io/en/latest/references/keywords.html#keyword-namespace-packages\n",
            "\n",
            "/usr/local/lib/python3.10/dist-packages/pip/_vendor/pkg_resources/__init__.py:2349: DeprecationWarning:\n",
            "\n",
            "Deprecated call to `pkg_resources.declare_namespace('google')`.\n",
            "Implementing implicit namespace packages (as specified in PEP 420) is preferred to `pkg_resources.declare_namespace`. See https://setuptools.pypa.io/en/latest/references/keywords.html#keyword-namespace-packages\n",
            "\n",
            "/usr/local/lib/python3.10/dist-packages/pip/_vendor/pkg_resources/__init__.py:2870: DeprecationWarning:\n",
            "\n",
            "Deprecated call to `pkg_resources.declare_namespace('google')`.\n",
            "Implementing implicit namespace packages (as specified in PEP 420) is preferred to `pkg_resources.declare_namespace`. See https://setuptools.pypa.io/en/latest/references/keywords.html#keyword-namespace-packages\n",
            "\n",
            "/usr/local/lib/python3.10/dist-packages/pip/_vendor/pkg_resources/__init__.py:2870: DeprecationWarning:\n",
            "\n",
            "Deprecated call to `pkg_resources.declare_namespace('google.cloud')`.\n",
            "Implementing implicit namespace packages (as specified in PEP 420) is preferred to `pkg_resources.declare_namespace`. See https://setuptools.pypa.io/en/latest/references/keywords.html#keyword-namespace-packages\n",
            "\n",
            "/usr/local/lib/python3.10/dist-packages/pip/_vendor/pkg_resources/__init__.py:2870: DeprecationWarning:\n",
            "\n",
            "Deprecated call to `pkg_resources.declare_namespace('google')`.\n",
            "Implementing implicit namespace packages (as specified in PEP 420) is preferred to `pkg_resources.declare_namespace`. See https://setuptools.pypa.io/en/latest/references/keywords.html#keyword-namespace-packages\n",
            "\n",
            "/usr/local/lib/python3.10/dist-packages/pip/_vendor/pkg_resources/__init__.py:2870: DeprecationWarning:\n",
            "\n",
            "Deprecated call to `pkg_resources.declare_namespace('google.cloud')`.\n",
            "Implementing implicit namespace packages (as specified in PEP 420) is preferred to `pkg_resources.declare_namespace`. See https://setuptools.pypa.io/en/latest/references/keywords.html#keyword-namespace-packages\n",
            "\n",
            "/usr/local/lib/python3.10/dist-packages/pip/_vendor/pkg_resources/__init__.py:2870: DeprecationWarning:\n",
            "\n",
            "Deprecated call to `pkg_resources.declare_namespace('google')`.\n",
            "Implementing implicit namespace packages (as specified in PEP 420) is preferred to `pkg_resources.declare_namespace`. See https://setuptools.pypa.io/en/latest/references/keywords.html#keyword-namespace-packages\n",
            "\n",
            "/usr/local/lib/python3.10/dist-packages/pip/_vendor/pkg_resources/__init__.py:2870: DeprecationWarning:\n",
            "\n",
            "Deprecated call to `pkg_resources.declare_namespace('google.cloud')`.\n",
            "Implementing implicit namespace packages (as specified in PEP 420) is preferred to `pkg_resources.declare_namespace`. See https://setuptools.pypa.io/en/latest/references/keywords.html#keyword-namespace-packages\n",
            "\n",
            "/usr/local/lib/python3.10/dist-packages/pip/_vendor/pkg_resources/__init__.py:2870: DeprecationWarning:\n",
            "\n",
            "Deprecated call to `pkg_resources.declare_namespace('google')`.\n",
            "Implementing implicit namespace packages (as specified in PEP 420) is preferred to `pkg_resources.declare_namespace`. See https://setuptools.pypa.io/en/latest/references/keywords.html#keyword-namespace-packages\n",
            "\n",
            "/usr/local/lib/python3.10/dist-packages/pip/_vendor/pkg_resources/__init__.py:2870: DeprecationWarning:\n",
            "\n",
            "Deprecated call to `pkg_resources.declare_namespace('google.cloud')`.\n",
            "Implementing implicit namespace packages (as specified in PEP 420) is preferred to `pkg_resources.declare_namespace`. See https://setuptools.pypa.io/en/latest/references/keywords.html#keyword-namespace-packages\n",
            "\n",
            "/usr/local/lib/python3.10/dist-packages/pip/_vendor/pkg_resources/__init__.py:2870: DeprecationWarning:\n",
            "\n",
            "Deprecated call to `pkg_resources.declare_namespace('google')`.\n",
            "Implementing implicit namespace packages (as specified in PEP 420) is preferred to `pkg_resources.declare_namespace`. See https://setuptools.pypa.io/en/latest/references/keywords.html#keyword-namespace-packages\n",
            "\n",
            "/usr/local/lib/python3.10/dist-packages/pip/_vendor/pkg_resources/__init__.py:2870: DeprecationWarning:\n",
            "\n",
            "Deprecated call to `pkg_resources.declare_namespace('google.cloud')`.\n",
            "Implementing implicit namespace packages (as specified in PEP 420) is preferred to `pkg_resources.declare_namespace`. See https://setuptools.pypa.io/en/latest/references/keywords.html#keyword-namespace-packages\n",
            "\n",
            "/usr/local/lib/python3.10/dist-packages/pip/_vendor/pkg_resources/__init__.py:2870: DeprecationWarning:\n",
            "\n",
            "Deprecated call to `pkg_resources.declare_namespace('google')`.\n",
            "Implementing implicit namespace packages (as specified in PEP 420) is preferred to `pkg_resources.declare_namespace`. See https://setuptools.pypa.io/en/latest/references/keywords.html#keyword-namespace-packages\n",
            "\n",
            "/usr/local/lib/python3.10/dist-packages/pip/_vendor/pkg_resources/__init__.py:2870: DeprecationWarning:\n",
            "\n",
            "Deprecated call to `pkg_resources.declare_namespace('google.cloud')`.\n",
            "Implementing implicit namespace packages (as specified in PEP 420) is preferred to `pkg_resources.declare_namespace`. See https://setuptools.pypa.io/en/latest/references/keywords.html#keyword-namespace-packages\n",
            "\n",
            "/usr/local/lib/python3.10/dist-packages/pip/_vendor/pkg_resources/__init__.py:2870: DeprecationWarning:\n",
            "\n",
            "Deprecated call to `pkg_resources.declare_namespace('google')`.\n",
            "Implementing implicit namespace packages (as specified in PEP 420) is preferred to `pkg_resources.declare_namespace`. See https://setuptools.pypa.io/en/latest/references/keywords.html#keyword-namespace-packages\n",
            "\n",
            "/usr/local/lib/python3.10/dist-packages/pip/_vendor/pkg_resources/__init__.py:2870: DeprecationWarning:\n",
            "\n",
            "Deprecated call to `pkg_resources.declare_namespace('google.cloud')`.\n",
            "Implementing implicit namespace packages (as specified in PEP 420) is preferred to `pkg_resources.declare_namespace`. See https://setuptools.pypa.io/en/latest/references/keywords.html#keyword-namespace-packages\n",
            "\n",
            "/usr/local/lib/python3.10/dist-packages/pip/_vendor/pkg_resources/__init__.py:2870: DeprecationWarning:\n",
            "\n",
            "Deprecated call to `pkg_resources.declare_namespace('google')`.\n",
            "Implementing implicit namespace packages (as specified in PEP 420) is preferred to `pkg_resources.declare_namespace`. See https://setuptools.pypa.io/en/latest/references/keywords.html#keyword-namespace-packages\n",
            "\n",
            "/usr/local/lib/python3.10/dist-packages/pip/_vendor/pkg_resources/__init__.py:2870: DeprecationWarning:\n",
            "\n",
            "Deprecated call to `pkg_resources.declare_namespace('google.cloud')`.\n",
            "Implementing implicit namespace packages (as specified in PEP 420) is preferred to `pkg_resources.declare_namespace`. See https://setuptools.pypa.io/en/latest/references/keywords.html#keyword-namespace-packages\n",
            "\n",
            "/usr/local/lib/python3.10/dist-packages/pip/_vendor/pkg_resources/__init__.py:2870: DeprecationWarning:\n",
            "\n",
            "Deprecated call to `pkg_resources.declare_namespace('google')`.\n",
            "Implementing implicit namespace packages (as specified in PEP 420) is preferred to `pkg_resources.declare_namespace`. See https://setuptools.pypa.io/en/latest/references/keywords.html#keyword-namespace-packages\n",
            "\n",
            "/usr/local/lib/python3.10/dist-packages/pip/_vendor/pkg_resources/__init__.py:2870: DeprecationWarning:\n",
            "\n",
            "Deprecated call to `pkg_resources.declare_namespace('google.cloud')`.\n",
            "Implementing implicit namespace packages (as specified in PEP 420) is preferred to `pkg_resources.declare_namespace`. See https://setuptools.pypa.io/en/latest/references/keywords.html#keyword-namespace-packages\n",
            "\n",
            "/usr/local/lib/python3.10/dist-packages/pip/_vendor/pkg_resources/__init__.py:2870: DeprecationWarning:\n",
            "\n",
            "Deprecated call to `pkg_resources.declare_namespace('google')`.\n",
            "Implementing implicit namespace packages (as specified in PEP 420) is preferred to `pkg_resources.declare_namespace`. See https://setuptools.pypa.io/en/latest/references/keywords.html#keyword-namespace-packages\n",
            "\n",
            "/usr/local/lib/python3.10/dist-packages/pip/_vendor/pkg_resources/__init__.py:2870: DeprecationWarning:\n",
            "\n",
            "Deprecated call to `pkg_resources.declare_namespace('google')`.\n",
            "Implementing implicit namespace packages (as specified in PEP 420) is preferred to `pkg_resources.declare_namespace`. See https://setuptools.pypa.io/en/latest/references/keywords.html#keyword-namespace-packages\n",
            "\n",
            "/usr/local/lib/python3.10/dist-packages/pip/_vendor/pkg_resources/__init__.py:2870: DeprecationWarning:\n",
            "\n",
            "Deprecated call to `pkg_resources.declare_namespace('google')`.\n",
            "Implementing implicit namespace packages (as specified in PEP 420) is preferred to `pkg_resources.declare_namespace`. See https://setuptools.pypa.io/en/latest/references/keywords.html#keyword-namespace-packages\n",
            "\n",
            "/usr/local/lib/python3.10/dist-packages/pip/_vendor/pkg_resources/__init__.py:2870: DeprecationWarning:\n",
            "\n",
            "Deprecated call to `pkg_resources.declare_namespace('google.logging')`.\n",
            "Implementing implicit namespace packages (as specified in PEP 420) is preferred to `pkg_resources.declare_namespace`. See https://setuptools.pypa.io/en/latest/references/keywords.html#keyword-namespace-packages\n",
            "\n",
            "/usr/local/lib/python3.10/dist-packages/pip/_vendor/pkg_resources/__init__.py:2349: DeprecationWarning:\n",
            "\n",
            "Deprecated call to `pkg_resources.declare_namespace('google')`.\n",
            "Implementing implicit namespace packages (as specified in PEP 420) is preferred to `pkg_resources.declare_namespace`. See https://setuptools.pypa.io/en/latest/references/keywords.html#keyword-namespace-packages\n",
            "\n",
            "/usr/local/lib/python3.10/dist-packages/pip/_vendor/pkg_resources/__init__.py:2870: DeprecationWarning:\n",
            "\n",
            "Deprecated call to `pkg_resources.declare_namespace('google')`.\n",
            "Implementing implicit namespace packages (as specified in PEP 420) is preferred to `pkg_resources.declare_namespace`. See https://setuptools.pypa.io/en/latest/references/keywords.html#keyword-namespace-packages\n",
            "\n",
            "/usr/local/lib/python3.10/dist-packages/pip/_vendor/pkg_resources/__init__.py:2870: DeprecationWarning:\n",
            "\n",
            "Deprecated call to `pkg_resources.declare_namespace('google.iam')`.\n",
            "Implementing implicit namespace packages (as specified in PEP 420) is preferred to `pkg_resources.declare_namespace`. See https://setuptools.pypa.io/en/latest/references/keywords.html#keyword-namespace-packages\n",
            "\n",
            "/usr/local/lib/python3.10/dist-packages/pip/_vendor/pkg_resources/__init__.py:2349: DeprecationWarning:\n",
            "\n",
            "Deprecated call to `pkg_resources.declare_namespace('google')`.\n",
            "Implementing implicit namespace packages (as specified in PEP 420) is preferred to `pkg_resources.declare_namespace`. See https://setuptools.pypa.io/en/latest/references/keywords.html#keyword-namespace-packages\n",
            "\n",
            "/usr/local/lib/python3.10/dist-packages/pip/_vendor/pkg_resources/__init__.py:2870: DeprecationWarning:\n",
            "\n",
            "Deprecated call to `pkg_resources.declare_namespace('mpl_toolkits')`.\n",
            "Implementing implicit namespace packages (as specified in PEP 420) is preferred to `pkg_resources.declare_namespace`. See https://setuptools.pypa.io/en/latest/references/keywords.html#keyword-namespace-packages\n",
            "\n",
            "/usr/local/lib/python3.10/dist-packages/pip/_vendor/pkg_resources/__init__.py:2870: DeprecationWarning:\n",
            "\n",
            "Deprecated call to `pkg_resources.declare_namespace('google')`.\n",
            "Implementing implicit namespace packages (as specified in PEP 420) is preferred to `pkg_resources.declare_namespace`. See https://setuptools.pypa.io/en/latest/references/keywords.html#keyword-namespace-packages\n",
            "\n",
            "/usr/local/lib/python3.10/dist-packages/pip/_vendor/pkg_resources/__init__.py:2870: DeprecationWarning:\n",
            "\n",
            "Deprecated call to `pkg_resources.declare_namespace('sphinxcontrib')`.\n",
            "Implementing implicit namespace packages (as specified in PEP 420) is preferred to `pkg_resources.declare_namespace`. See https://setuptools.pypa.io/en/latest/references/keywords.html#keyword-namespace-packages\n",
            "\n",
            "/usr/lib/python3.10/pkgutil.py:92: UserWarning: viewer requires Qt\n",
            "/usr/local/lib/python3.10/dist-packages/tensorboard/_vendor/html5lib/filters/sanitizer.py:29: DeprecationWarning: html5lib's sanitizer is deprecated; see https://github.com/html5lib/html5lib-python/issues/443 and please let us know if Bleach is unsuitable for your needs\n",
            "/usr/local/lib/python3.10/dist-packages/tensorflow_datasets/core/tf_compat.py:20: DeprecationWarning: The distutils package is deprecated and slated for removal in Python 3.12. Use setuptools or check PEP 632 for potential alternatives\n",
            "/usr/local/lib/python3.10/dist-packages/torch/distributed/_shard/checkpoint/__init__.py:8: DeprecationWarning: torch.distributed._shard.checkpoint will be deprecated, use torch.distributed.checkpoint instead\n",
            "/usr/local/lib/python3.10/dist-packages/torch/distributed/_sharded_tensor/__init__.py:8: DeprecationWarning: torch.distributed._sharded_tensor will be deprecated, use torch.distributed._shard.sharded_tensor instead\n",
            "/usr/local/lib/python3.10/dist-packages/torch/distributed/_sharding_spec/__init__.py:8: DeprecationWarning: torch.distributed._sharding_spec will be deprecated, use torch.distributed._shard.sharding_spec instead\n",
            "No CUDA runtime is found, using CUDA_HOME='/usr/local/cuda'\n",
            "/usr/local/lib/python3.10/dist-packages/torchvision/datapoints/__init__.py:12: UserWarning: The torchvision.datapoints and torchvision.transforms.v2 namespaces are still Beta. While we do not expect major breaking changes, some APIs may still change according to user feedback. Please submit any feedback you may have in this issue: https://github.com/pytorch/vision/issues/6753, and you can also check out https://github.com/pytorch/vision/issues/7319 to learn more about the APIs that we suspect might involve future changes. You can silence this warning by calling torchvision.disable_beta_transforms_warning().\n",
            "/usr/local/lib/python3.10/dist-packages/torchvision/transforms/v2/__init__.py:54: UserWarning: The torchvision.datapoints and torchvision.transforms.v2 namespaces are still Beta. While we do not expect major breaking changes, some APIs may still change according to user feedback. Please submit any feedback you may have in this issue: https://github.com/pytorch/vision/issues/6753, and you can also check out https://github.com/pytorch/vision/issues/7319 to learn more about the APIs that we suspect might involve future changes. You can silence this warning by calling torchvision.disable_beta_transforms_warning().\n",
            "/usr/lib/python3.10/pkgutil.py:107: VisibleDeprecationWarning: zmq.eventloop.minitornado is deprecated in pyzmq 14.0 and will be removed.\n",
            "    Install tornado itself to use zmq with the tornado IOLoop.\n",
            "    \n"
          ]
        },
        {
          "output_type": "stream",
          "name": "stdout",
          "text": [
            "Cython              codecs              keras               requirements\n",
            "IPython             codeop              keyring             resource\n",
            "OpenGL              collections         keyword             rich\n",
            "OpenSSL             colorcet            kiwisolver          rlcompleter\n",
            "PIL                 colorlover          langcodes           rmagic\n",
            "__future__          colorsys            launchpadlib        rpds\n",
            "_abc                community           lazy_loader         rpy2\n",
            "_aix_support        compileall          lib2to3             rsa\n",
            "_argon2_cffi_bindings concurrent          libfuturize         runpy\n",
            "_ast                confection          libpasteurize       sched\n",
            "_asyncio            configparser        librosa             scipy\n",
            "_bisect             cons                lightgbm            scs\n",
            "_blake2             contextlib          linecache           seaborn\n",
            "_bootsubprocess     contextlib2         linkify_it          secrets\n",
            "_bz2                contextvars         lit                 secretstorage\n",
            "_cffi_backend       contourpy           llvmlite            select\n",
            "_codecs             convertdate         locale              selectors\n",
            "_codecs_cn          copy                locket              send2trash\n",
            "_codecs_hk          copyreg             logging             setuptools\n",
            "_codecs_iso2022     cpuinfo             lsb_release         shapely\n",
            "_codecs_jp          crypt               lunarcalendar       shelve\n",
            "_codecs_kr          cryptography        lxml                shlex\n",
            "_codecs_tw          csv                 lzma                shutil\n",
            "_collections        ctypes              mailbox             signal\n",
            "_collections_abc    cufflinks           mailcap             site\n",
            "_compat_pickle      curses              markdown            sitecustomize\n",
            "_compression        cv2                 markdown_it         six\n",
            "_contextvars        cvxopt              markupsafe          skimage\n",
            "_crypt              cvxpy               marshal             sklearn\n",
            "_csv                cycler              math                sklearn_pandas\n",
            "_ctypes             cymem               matplotlib          slugify\n",
            "_ctypes_test        cython              matplotlib_inline   smart_open\n",
            "_curses             cythonmagic         matplotlib_venn     smtpd\n",
            "_curses_panel       dask                mdit_py_plugins     smtplib\n",
            "_cvxcore            dataclasses         mdurl               sndhdr\n",
            "_datetime           datascience         mimetypes           sniffio\n",
            "_dbm                datetime            missingno           snowballstemmer\n",
            "_dbus_bindings      dateutil            mistune             socket\n",
            "_dbus_glib_bindings db_dtypes           mizani              socketserver\n",
            "_decimal            dbm                 ml_dtypes           socks\n",
            "_distutils_hack     dbus                mlxtend             sockshandler\n",
            "_distutils_system_mod debugpy             mmap                softwareproperties\n",
            "_dlib_pybind11      decimal             modulefinder        sortedcontainers\n",
            "_ecos               decorator           more_itertools      soundfile\n",
            "_elementtree        defusedxml          moviepy             soupsieve\n",
            "_functools          difflib             mpmath              soxr\n",
            "_hashlib            dis                 msgpack             spacy\n",
            "_heapq              distributed         multidict           spacy_legacy\n",
            "_imp                distro              multipledispatch    spacy_loggers\n",
            "_io                 distutils           multiprocessing     sphinx\n",
            "_json               dlib                multitasking        spwd\n",
            "_locale             doctest             murmurhash          sql\n",
            "_lsprof             docutils            music21             sqlalchemy\n",
            "_lzma               dopamine            natsort             sqlite3\n",
            "_markupbase         dot_parser          nbclient            sqlparse\n",
            "_md5                duckdb              nbconvert           sre_compile\n",
            "_multibytecodec     easydict            nbformat            sre_constants\n",
            "_multiprocessing    ecos                nest_asyncio        sre_parse\n",
            "_opcode             editdistance        netrc               srsly\n",
            "_operator           ee                  networkx            ssl\n",
            "_osx_support        email               nibabel             stat\n",
            "_pickle             en_core_web_sm      nis                 statistics\n",
            "_plotly_future_     encodings           nisext              statsmodels\n",
            "_plotly_utils       entrypoints         nltk                storemagic\n",
            "_posixshmem         enum                nntplib             string\n",
            "_posixsubprocess    ephem               notebook            stringprep\n",
            "_py_abc             erfa                ntpath              struct\n",
            "_pydecimal          errno               nturl2path          subprocess\n",
            "_pyio               et_xmlfile          numba               sunau\n",
            "_pytest             etils               numbergen           sympy\n",
            "_queue              etuples             numbers             sympyprinting\n",
            "_random             exceptiongroup      numexpr             symtable\n",
            "_rinterface_cffi_abi fastai              numpy               sys\n",
            "_rinterface_cffi_api fastcore            nvfuser             sysconfig\n",
            "_scs_direct         fastdownload        oauth2client        syslog\n",
            "_scs_indirect       fastjsonschema      oauthlib            tables\n",
            "_sha1               fastprogress        opcode              tabnanny\n",
            "_sha256             fastrlock           openpyxl            tabulate\n",
            "_sha3               faulthandler        operator            tarfile\n",
            "_sha512             fcntl               opt_einsum          tblib\n",
            "_signal             filecmp             optax               telnetlib\n",
            "_sitebuiltins       fileinput           optparse            tempfile\n",
            "_socket             filelock            os                  tenacity\n",
            "_soundfile          fiona               osgeo               tensorboard\n",
            "_soundfile_data     firebase_admin      osgeo_utils         tensorboard_data_server\n",
            "_sqlite3            flask               osqp                tensorflow\n",
            "_sre                flatbuffers         osqppurepy          tensorflow_datasets\n",
            "_ssl                flax                ossaudiodev         tensorflow_estimator\n",
            "_stat               fnmatch             packaging           tensorflow_gcs_config\n",
            "_statistics         folium              pandas              tensorflow_hub\n",
            "_string             fontTools           pandas_datareader   tensorflow_io_gcs_filesystem\n",
            "_strptime           fractions           pandas_gbq          tensorflow_metadata\n",
            "_struct             frozendict          pandocfilters       tensorflow_probability\n",
            "_symtable           frozenlist          panel               tensorstore\n",
            "_sysconfigdata__linux_x86_64-linux-gnu fsspec              param               termcolor\n",
            "_sysconfigdata__x86_64-linux-gnu ftplib              parso               terminado\n",
            "_testbuffer         functools           partd               termios\n",
            "_testcapi           functorch           past                test\n",
            "_testclinic         future              pasta               tests\n",
            "_testimportmultiple gast                pathlib             text_unidecode\n",
            "_testinternalcapi   gc                  pathy               textblob\n",
            "_testmultiphase     gcsfs               patsy               textwrap\n",
            "_thread             gdown               pdb                 tf_slim\n",
            "_threading_local    genericpath         pexpect             thinc\n",
            "_tkinter            gensim              pickle              this\n",
            "_tracemalloc        geographiclib       pickleshare         threading\n",
            "_uuid               geopandas           pickletools         threadpoolctl\n",
            "_warnings           geopy               pip                 tifffile\n",
            "_weakref            getopt              pipes               time\n",
            "_weakrefset         getpass             piptools            timeit\n",
            "_xxsubinterpreters  gettext             pkg_resources       tinycss2\n",
            "_xxtestfuzz         gi                  pkgutil             tkinter\n",
            "_yaml               gin                 platform            tlz\n",
            "_zoneinfo           glob                platformdirs        token\n",
            "abc                 glob2               plistlib            tokenize\n",
            "absl                google_auth_httplib2 plotly              toml\n",
            "aifc                google_auth_oauthlib plotnine            tomli\n",
            "aiohttp             google_crc32c       pluggy              toolz\n",
            "aiosignal           google_drive_downloader polars              torch\n",
            "alabaster           googleapiclient     pooch               torchaudio\n",
            "albumentations      googlesearch        poplib              torchdata\n",
            "altair              graphlib            portpicker          torchgen\n",
            "annotated_types     graphviz            posix               torchsummary\n",
            "antigravity         greenlet            posixpath           torchtext\n",
            "anyio               grp                 pprint              torchvision\n",
            "apiclient           grpc                prefetch_generator  tornado\n",
            "appdirs             grpc_status         preshed             tqdm\n",
            "apt                 gspread             prettytable         trace\n",
            "apt_inst            gspread_dataframe   profile             traceback\n",
            "apt_pkg             gym                 proglog             tracemalloc\n",
            "aptsources          gym_notices         progressbar         traitlets\n",
            "argon2              gzip                prometheus_client   tree\n",
            "argparse            h5netcdf            promise             triton\n",
            "array               h5py                prompt_toolkit      tty\n",
            "array_record        hashlib             prophet             turtle\n",
            "arviz               heapq               proto               tweepy\n",
            "ast                 hmac                pstats              typer\n",
            "astropy             holidays            psutil              types\n",
            "astunparse          holoviews           psycopg2            typing\n",
            "async_timeout       html                pty                 typing_extensions\n",
            "asynchat            html5lib            ptyprocess          tzlocal\n",
            "asyncio             http                pwd                 uc_micro\n",
            "asyncore            httpimport          py                  unicodedata\n",
            "atexit              httplib2            py4j                unification\n",
            "attr                humanize            py_compile          unittest\n",
            "attrs               hyperopt            pyarrow             uritemplate\n",
            "audioop             idna                pyasn1              urllib\n",
            "audioread           imageio             pyasn1_modules      urllib3\n",
            "autograd            imageio_ffmpeg      pyclbr              uu\n",
            "autoreload          imagesize           pycocotools         uuid\n",
            "babel               imaplib             pycparser           vega_datasets\n",
            "backcall            imblearn            pyct                venv\n",
            "base64              imgaug              pydantic            wadllib\n",
            "bdb                 imghdr              pydantic_core       warnings\n",
            "bin                 imp                 pydata_google_auth  wasabi\n",
            "binascii            importlib           pydoc               wave\n",
            "binhex              importlib_metadata  pydoc_data          wcwidth\n",
            "bisect              importlib_resources pydot               weakref\n",
            "bleach              imutils             pydot_ng            webbrowser\n",
            "blinker             inflect             pydotplus           webcolors\n",
            "blis                iniconfig           pydrive             webencodings\n",
            "blosc2              inspect             pydrive2            websocket\n",
            "bokeh               io                  pyexpat             werkzeug\n",
            "boost               ipaddress           pygame              wheel\n",
            "branca              ipykernel           pygments            widgetsnbextension\n",
            "bs4                 ipykernel_launcher  pygtkcompat         wordcloud\n",
            "build               ipython_genutils    pylab               wrapt\n",
            "builtins            ipywidgets          pymc                wsgiref\n",
            "bz2                 isympy              pymeeus             xarray\n",
            "cProfile            itertools           pymystem3           xarray_einstats\n",
            "cachecontrol        itsdangerous        pyparsing           xdrlib\n",
            "cachetools          jax                 pyproj              xgboost\n",
            "calendar            jaxlib              pyproject_hooks     xlrd\n",
            "catalogue           jeepney             pytensor            xml\n",
            "certifi             jieba               pytest              xmlrpc\n",
            "cffi                jinja2              python_utils        xxlimited\n",
            "cgi                 joblib              pytz                xxlimited_35\n",
            "cgitb               json                pyviz_comms         xxsubtype\n",
            "chardet             jsonpickle          pywt                xyzservices\n",
            "charset_normalizer  jsonschema          pyximport           yaml\n",
            "chex                jsonschema_specifications qdldl               yarl\n",
            "chunk               jupyter             qudida              yellowbrick\n",
            "clang               jupyter_client      queue               yfinance\n",
            "click               jupyter_console     quopri              zict\n",
            "click_plugins       jupyter_core        random              zipapp\n",
            "cligj               jupyter_server      re                  zipfile\n",
            "cloudpickle         jupyterlab_plotly   readline            zipimport\n",
            "cmake               jupyterlab_pygments referencing         zipp\n",
            "cmath               jupyterlab_widgets  regex               zlib\n",
            "cmd                 jwt                 reprlib             zmq\n",
            "cmdstanpy           kaggle              requests            zoneinfo\n",
            "code                kanren              requests_oauthlib   \n",
            "\n",
            "Enter any module name to get more help.  Or, type \"modules spam\" to search\n",
            "for modules whose name or summary contain the string \"spam\".\n",
            "\n"
          ]
        }
      ]
    },
    {
      "cell_type": "code",
      "source": [
        "import math"
      ],
      "metadata": {
        "colab": {
          "base_uri": "https://localhost:8080/"
        },
        "id": "WNSLGeBilOQv",
        "outputId": "107a79e0-c198-4b89-e0db-3837a7b1cf6a"
      },
      "execution_count": null,
      "outputs": [
        {
          "output_type": "stream",
          "name": "stderr",
          "text": [
            "/usr/local/lib/python3.10/dist-packages/ipykernel/ipkernel.py:283: DeprecationWarning: `should_run_async` will not call `transform_cell` automatically in the future. Please pass the result to `transformed_cell` argument and any exception that happen during thetransform in `preprocessing_exc_tuple` in IPython 7.17 and above.\n"
          ]
        }
      ]
    },
    {
      "cell_type": "code",
      "source": [
        "math.pi"
      ],
      "metadata": {
        "colab": {
          "base_uri": "https://localhost:8080/"
        },
        "id": "9DrwGenFleUC",
        "outputId": "d57fc88d-42c4-448d-eee1-89c9a0a24350"
      },
      "execution_count": null,
      "outputs": [
        {
          "output_type": "stream",
          "name": "stderr",
          "text": [
            "/usr/local/lib/python3.10/dist-packages/ipykernel/ipkernel.py:283: DeprecationWarning: `should_run_async` will not call `transform_cell` automatically in the future. Please pass the result to `transformed_cell` argument and any exception that happen during thetransform in `preprocessing_exc_tuple` in IPython 7.17 and above.\n"
          ]
        },
        {
          "output_type": "execute_result",
          "data": {
            "text/plain": [
              "3.141592653589793"
            ]
          },
          "metadata": {},
          "execution_count": 43
        }
      ]
    },
    {
      "cell_type": "code",
      "source": [
        "math.factorial(6)"
      ],
      "metadata": {
        "colab": {
          "base_uri": "https://localhost:8080/"
        },
        "id": "vw7su_VYli6I",
        "outputId": "477dbd81-7ebc-4621-a302-e55ef6d75a20"
      },
      "execution_count": null,
      "outputs": [
        {
          "output_type": "stream",
          "name": "stderr",
          "text": [
            "/usr/local/lib/python3.10/dist-packages/ipykernel/ipkernel.py:283: DeprecationWarning: `should_run_async` will not call `transform_cell` automatically in the future. Please pass the result to `transformed_cell` argument and any exception that happen during thetransform in `preprocessing_exc_tuple` in IPython 7.17 and above.\n"
          ]
        },
        {
          "output_type": "execute_result",
          "data": {
            "text/plain": [
              "720"
            ]
          },
          "metadata": {},
          "execution_count": 44
        }
      ]
    },
    {
      "cell_type": "code",
      "source": [
        "math.ceil(67.78645)"
      ],
      "metadata": {
        "colab": {
          "base_uri": "https://localhost:8080/"
        },
        "id": "QFexYEPNlp_g",
        "outputId": "5156c758-f651-4c4e-ce18-ca1ec69b974c"
      },
      "execution_count": null,
      "outputs": [
        {
          "output_type": "stream",
          "name": "stderr",
          "text": [
            "/usr/local/lib/python3.10/dist-packages/ipykernel/ipkernel.py:283: DeprecationWarning: `should_run_async` will not call `transform_cell` automatically in the future. Please pass the result to `transformed_cell` argument and any exception that happen during thetransform in `preprocessing_exc_tuple` in IPython 7.17 and above.\n"
          ]
        },
        {
          "output_type": "execute_result",
          "data": {
            "text/plain": [
              "68"
            ]
          },
          "metadata": {},
          "execution_count": 51
        }
      ]
    },
    {
      "cell_type": "code",
      "source": [
        "math.floor(78.986)"
      ],
      "metadata": {
        "colab": {
          "base_uri": "https://localhost:8080/"
        },
        "id": "c76_7FLLlwIY",
        "outputId": "68a98100-2efb-4945-a6b9-7a246cda0ede"
      },
      "execution_count": null,
      "outputs": [
        {
          "output_type": "stream",
          "name": "stderr",
          "text": [
            "/usr/local/lib/python3.10/dist-packages/ipykernel/ipkernel.py:283: DeprecationWarning: `should_run_async` will not call `transform_cell` automatically in the future. Please pass the result to `transformed_cell` argument and any exception that happen during thetransform in `preprocessing_exc_tuple` in IPython 7.17 and above.\n"
          ]
        },
        {
          "output_type": "execute_result",
          "data": {
            "text/plain": [
              "78"
            ]
          },
          "metadata": {},
          "execution_count": 50
        }
      ]
    },
    {
      "cell_type": "code",
      "source": [
        "import time"
      ],
      "metadata": {
        "colab": {
          "base_uri": "https://localhost:8080/"
        },
        "id": "RGavpbsfl8Dh",
        "outputId": "e808b228-0ff1-4b08-e060-0e9e12d601d3"
      },
      "execution_count": null,
      "outputs": [
        {
          "output_type": "stream",
          "name": "stderr",
          "text": [
            "/usr/local/lib/python3.10/dist-packages/ipykernel/ipkernel.py:283: DeprecationWarning: `should_run_async` will not call `transform_cell` automatically in the future. Please pass the result to `transformed_cell` argument and any exception that happen during thetransform in `preprocessing_exc_tuple` in IPython 7.17 and above.\n"
          ]
        }
      ]
    },
    {
      "cell_type": "code",
      "source": [
        "time.time()"
      ],
      "metadata": {
        "colab": {
          "base_uri": "https://localhost:8080/"
        },
        "id": "gEH9Lns0mG_x",
        "outputId": "17a61dc0-01e0-4bc8-a1bf-639dc58fe18f"
      },
      "execution_count": null,
      "outputs": [
        {
          "output_type": "stream",
          "name": "stderr",
          "text": [
            "/usr/local/lib/python3.10/dist-packages/ipykernel/ipkernel.py:283: DeprecationWarning: `should_run_async` will not call `transform_cell` automatically in the future. Please pass the result to `transformed_cell` argument and any exception that happen during thetransform in `preprocessing_exc_tuple` in IPython 7.17 and above.\n"
          ]
        },
        {
          "output_type": "execute_result",
          "data": {
            "text/plain": [
              "1691858032.5429792"
            ]
          },
          "metadata": {},
          "execution_count": 53
        }
      ]
    },
    {
      "cell_type": "code",
      "source": [
        "time.ctime()"
      ],
      "metadata": {
        "colab": {
          "base_uri": "https://localhost:8080/",
          "height": 73
        },
        "id": "HIcXPtJ8mI66",
        "outputId": "f051866f-257c-4831-eee8-d21de8c93ca9"
      },
      "execution_count": null,
      "outputs": [
        {
          "output_type": "stream",
          "name": "stderr",
          "text": [
            "/usr/local/lib/python3.10/dist-packages/ipykernel/ipkernel.py:283: DeprecationWarning: `should_run_async` will not call `transform_cell` automatically in the future. Please pass the result to `transformed_cell` argument and any exception that happen during thetransform in `preprocessing_exc_tuple` in IPython 7.17 and above.\n"
          ]
        },
        {
          "output_type": "execute_result",
          "data": {
            "text/plain": [
              "'Sat Aug 12 16:34:12 2023'"
            ],
            "application/vnd.google.colaboratory.intrinsic+json": {
              "type": "string"
            }
          },
          "metadata": {},
          "execution_count": 54
        }
      ]
    },
    {
      "cell_type": "code",
      "source": [
        "print(\"hello\")\n",
        "time.sleep(1)\n",
        "print(\"world\")"
      ],
      "metadata": {
        "colab": {
          "base_uri": "https://localhost:8080/"
        },
        "id": "tIlNBz9ymNx3",
        "outputId": "313781ff-98c2-4749-b9c1-8a7af898901a"
      },
      "execution_count": null,
      "outputs": [
        {
          "output_type": "stream",
          "name": "stderr",
          "text": [
            "/usr/local/lib/python3.10/dist-packages/ipykernel/ipkernel.py:283: DeprecationWarning: `should_run_async` will not call `transform_cell` automatically in the future. Please pass the result to `transformed_cell` argument and any exception that happen during thetransform in `preprocessing_exc_tuple` in IPython 7.17 and above.\n"
          ]
        },
        {
          "output_type": "stream",
          "name": "stdout",
          "text": [
            "hello\n",
            "world\n"
          ]
        }
      ]
    },
    {
      "cell_type": "code",
      "source": [
        "import os"
      ],
      "metadata": {
        "colab": {
          "base_uri": "https://localhost:8080/"
        },
        "id": "4DuNwdmhmarw",
        "outputId": "92b6c157-6ecb-468d-ed0a-37c061a5b78a"
      },
      "execution_count": null,
      "outputs": [
        {
          "output_type": "stream",
          "name": "stderr",
          "text": [
            "/usr/local/lib/python3.10/dist-packages/ipykernel/ipkernel.py:283: DeprecationWarning: `should_run_async` will not call `transform_cell` automatically in the future. Please pass the result to `transformed_cell` argument and any exception that happen during thetransform in `preprocessing_exc_tuple` in IPython 7.17 and above.\n"
          ]
        }
      ]
    },
    {
      "cell_type": "code",
      "source": [
        "os.getcwd()"
      ],
      "metadata": {
        "colab": {
          "base_uri": "https://localhost:8080/",
          "height": 73
        },
        "id": "qQoCG3dtmeuq",
        "outputId": "00e9d3d8-9805-4b36-aeb6-7a4378d83307"
      },
      "execution_count": null,
      "outputs": [
        {
          "output_type": "stream",
          "name": "stderr",
          "text": [
            "/usr/local/lib/python3.10/dist-packages/ipykernel/ipkernel.py:283: DeprecationWarning: `should_run_async` will not call `transform_cell` automatically in the future. Please pass the result to `transformed_cell` argument and any exception that happen during thetransform in `preprocessing_exc_tuple` in IPython 7.17 and above.\n"
          ]
        },
        {
          "output_type": "execute_result",
          "data": {
            "text/plain": [
              "'/content'"
            ],
            "application/vnd.google.colaboratory.intrinsic+json": {
              "type": "string"
            }
          },
          "metadata": {},
          "execution_count": 57
        }
      ]
    },
    {
      "cell_type": "code",
      "source": [],
      "metadata": {
        "id": "sPaellfVmhIu"
      },
      "execution_count": null,
      "outputs": []
    },
    {
      "cell_type": "markdown",
      "source": [
        "strings"
      ],
      "metadata": {
        "id": "-3fCl9aGmzmX"
      }
    },
    {
      "cell_type": "code",
      "source": [
        "#concept of indexing\n",
        "c=\"hello\"\n",
        "print(c)"
      ],
      "metadata": {
        "id": "dzh3eqoBm0eg",
        "colab": {
          "base_uri": "https://localhost:8080/"
        },
        "outputId": "c611a929-388d-41c8-dde7-f77bc9811ac1"
      },
      "execution_count": null,
      "outputs": [
        {
          "output_type": "stream",
          "name": "stdout",
          "text": [
            "hello\n"
          ]
        }
      ]
    },
    {
      "cell_type": "code",
      "source": [
        "print(c[2])"
      ],
      "metadata": {
        "colab": {
          "base_uri": "https://localhost:8080/"
        },
        "id": "gcAFkULF12pr",
        "outputId": "720b73d6-070b-43fe-95ee-ac9363740510"
      },
      "execution_count": null,
      "outputs": [
        {
          "output_type": "stream",
          "name": "stdout",
          "text": [
            "l\n"
          ]
        }
      ]
    },
    {
      "cell_type": "code",
      "source": [
        "print(c[0])"
      ],
      "metadata": {
        "colab": {
          "base_uri": "https://localhost:8080/"
        },
        "id": "UstUX1SZ1_H-",
        "outputId": "9f3f0cf0-3794-4597-86e6-2a754f9fbbb4"
      },
      "execution_count": null,
      "outputs": [
        {
          "output_type": "stream",
          "name": "stdout",
          "text": [
            "h\n"
          ]
        }
      ]
    },
    {
      "cell_type": "code",
      "source": [
        "print(c[3:4])"
      ],
      "metadata": {
        "colab": {
          "base_uri": "https://localhost:8080/"
        },
        "id": "jvR-_5ku2FNH",
        "outputId": "79f74819-2888-485d-b121-747c733f3d42"
      },
      "execution_count": null,
      "outputs": [
        {
          "output_type": "stream",
          "name": "stdout",
          "text": [
            "l\n"
          ]
        }
      ]
    },
    {
      "cell_type": "code",
      "source": [
        "print(c[-2])"
      ],
      "metadata": {
        "colab": {
          "base_uri": "https://localhost:8080/"
        },
        "id": "nZxUkTYh2Jjr",
        "outputId": "0503e603-72e3-4bcd-de83-d71678304c13"
      },
      "execution_count": null,
      "outputs": [
        {
          "output_type": "stream",
          "name": "stdout",
          "text": [
            "l\n"
          ]
        }
      ]
    },
    {
      "cell_type": "code",
      "source": [
        "print(c[-1])"
      ],
      "metadata": {
        "colab": {
          "base_uri": "https://localhost:8080/"
        },
        "id": "Xf5ghYZZ2NE8",
        "outputId": "867b727b-9c3a-4a4e-c689-539c93a3324a"
      },
      "execution_count": null,
      "outputs": [
        {
          "output_type": "stream",
          "name": "stdout",
          "text": [
            "o\n"
          ]
        }
      ]
    },
    {
      "cell_type": "code",
      "source": [
        "#slicing\n",
        "d=\" hi i am reena lohan\"\n",
        "print(d[1:6])"
      ],
      "metadata": {
        "colab": {
          "base_uri": "https://localhost:8080/"
        },
        "id": "ZMBfsP7R2PF9",
        "outputId": "3c8cf725-0d8b-47ad-efdc-969807acf4d2"
      },
      "execution_count": null,
      "outputs": [
        {
          "output_type": "stream",
          "name": "stdout",
          "text": [
            "hi i \n"
          ]
        }
      ]
    },
    {
      "cell_type": "code",
      "source": [
        "print(d[5:8])"
      ],
      "metadata": {
        "colab": {
          "base_uri": "https://localhost:8080/"
        },
        "id": "ag27uGv92mtf",
        "outputId": "f38a72e0-551c-4de3-92ea-d4ac791e7252"
      },
      "execution_count": null,
      "outputs": [
        {
          "output_type": "stream",
          "name": "stdout",
          "text": [
            " am\n"
          ]
        }
      ]
    },
    {
      "cell_type": "code",
      "source": [
        "print(d[0:10])"
      ],
      "metadata": {
        "colab": {
          "base_uri": "https://localhost:8080/"
        },
        "id": "brNkt4_82qOz",
        "outputId": "543508de-aa72-4273-96cb-6740283d55e9"
      },
      "execution_count": null,
      "outputs": [
        {
          "output_type": "stream",
          "name": "stdout",
          "text": [
            " hi i am r\n"
          ]
        }
      ]
    },
    {
      "cell_type": "code",
      "source": [
        "print(d[:15])"
      ],
      "metadata": {
        "colab": {
          "base_uri": "https://localhost:8080/"
        },
        "id": "ZM9efisQ2tiS",
        "outputId": "ab081a3d-8717-4157-e327-15226affde10"
      },
      "execution_count": null,
      "outputs": [
        {
          "output_type": "stream",
          "name": "stdout",
          "text": [
            " hi i am reena \n"
          ]
        }
      ]
    },
    {
      "cell_type": "code",
      "source": [
        "print(d[1:14:2])"
      ],
      "metadata": {
        "colab": {
          "base_uri": "https://localhost:8080/"
        },
        "id": "kW4nfq8S22QH",
        "outputId": "b811de42-5301-4162-84b7-93ac5ff1036a"
      },
      "execution_count": null,
      "outputs": [
        {
          "output_type": "stream",
          "name": "stdout",
          "text": [
            "h  mrea\n"
          ]
        }
      ]
    },
    {
      "cell_type": "code",
      "source": [
        "print(d[-5:-9:-1])"
      ],
      "metadata": {
        "colab": {
          "base_uri": "https://localhost:8080/"
        },
        "id": "vYXHMa5a2_iG",
        "outputId": "89cfaba1-8e1a-47fc-fce9-629ba49780fa"
      },
      "execution_count": null,
      "outputs": [
        {
          "output_type": "stream",
          "name": "stdout",
          "text": [
            "l an\n"
          ]
        }
      ]
    },
    {
      "cell_type": "code",
      "source": [
        "print(d[::-1])"
      ],
      "metadata": {
        "colab": {
          "base_uri": "https://localhost:8080/"
        },
        "id": "jm0GekKv3P3T",
        "outputId": "b661daf4-b711-4ea9-8382-fb10bb016e78"
      },
      "execution_count": null,
      "outputs": [
        {
          "output_type": "stream",
          "name": "stdout",
          "text": [
            "nahol aneer ma i ih \n"
          ]
        }
      ]
    },
    {
      "cell_type": "code",
      "source": [
        "#operations on strings\n",
        "#airthmetical\n",
        "#relational\n",
        "#logical\n",
        "#loops\n",
        "#membriship\n"
      ],
      "metadata": {
        "id": "ylEdh-DE3d4F"
      },
      "execution_count": null,
      "outputs": []
    },
    {
      "cell_type": "code",
      "source": [
        "\"hello\"+\"world\""
      ],
      "metadata": {
        "colab": {
          "base_uri": "https://localhost:8080/",
          "height": 35
        },
        "id": "A8inptJk31Gn",
        "outputId": "9d4a05aa-6103-4607-d13e-345577046fa3"
      },
      "execution_count": null,
      "outputs": [
        {
          "output_type": "execute_result",
          "data": {
            "text/plain": [
              "'helloworld'"
            ],
            "application/vnd.google.colaboratory.intrinsic+json": {
              "type": "string"
            }
          },
          "metadata": {},
          "execution_count": 21
        }
      ]
    },
    {
      "cell_type": "code",
      "source": [
        "print(\"*\"*50)"
      ],
      "metadata": {
        "colab": {
          "base_uri": "https://localhost:8080/"
        },
        "id": "PRZDE4sR38CV",
        "outputId": "1dee672a-8e69-4981-8650-8c1e5c587323"
      },
      "execution_count": null,
      "outputs": [
        {
          "output_type": "stream",
          "name": "stdout",
          "text": [
            "**************************************************\n"
          ]
        }
      ]
    },
    {
      "cell_type": "code",
      "source": [
        "print(\"hello\"*45)"
      ],
      "metadata": {
        "colab": {
          "base_uri": "https://localhost:8080/"
        },
        "id": "YkavdRE94BV_",
        "outputId": "062ac4c2-a83b-492b-f117-ec05724436dd"
      },
      "execution_count": null,
      "outputs": [
        {
          "output_type": "stream",
          "name": "stdout",
          "text": [
            "hellohellohellohellohellohellohellohellohellohellohellohellohellohellohellohellohellohellohellohellohellohellohellohellohellohellohellohellohellohellohellohellohellohellohellohellohellohellohellohellohellohellohellohellohello\n"
          ]
        }
      ]
    },
    {
      "cell_type": "code",
      "source": [
        "\"mumbai\">\"pune\"\n",
        "#lexiographicaly difference"
      ],
      "metadata": {
        "colab": {
          "base_uri": "https://localhost:8080/"
        },
        "id": "_M7PKRTG4FWG",
        "outputId": "63ee4f75-8fcf-4050-e003-438f568c7949"
      },
      "execution_count": null,
      "outputs": [
        {
          "output_type": "execute_result",
          "data": {
            "text/plain": [
              "False"
            ]
          },
          "metadata": {},
          "execution_count": 25
        }
      ]
    },
    {
      "cell_type": "code",
      "source": [
        "\"goa\"<\"kolkata\""
      ],
      "metadata": {
        "colab": {
          "base_uri": "https://localhost:8080/"
        },
        "id": "Ccsdm27Z4Jx7",
        "outputId": "9893f44c-00d7-4490-f633-2340ba9b5898"
      },
      "execution_count": null,
      "outputs": [
        {
          "output_type": "execute_result",
          "data": {
            "text/plain": [
              "True"
            ]
          },
          "metadata": {},
          "execution_count": 26
        }
      ]
    },
    {
      "cell_type": "code",
      "source": [
        "#logical operations\n",
        "\"hello\" and \"wold\""
      ],
      "metadata": {
        "colab": {
          "base_uri": "https://localhost:8080/",
          "height": 35
        },
        "id": "AfD_FVPJ4Vu1",
        "outputId": "791dd434-1080-406c-e548-f72b0b3e4625"
      },
      "execution_count": null,
      "outputs": [
        {
          "output_type": "execute_result",
          "data": {
            "text/plain": [
              "'wold'"
            ],
            "application/vnd.google.colaboratory.intrinsic+json": {
              "type": "string"
            }
          },
          "metadata": {},
          "execution_count": 27
        }
      ]
    },
    {
      "cell_type": "code",
      "source": [
        "c=\"jdhueudy\"\n",
        "for i in c[::-1]:\n",
        "  print(i)"
      ],
      "metadata": {
        "colab": {
          "base_uri": "https://localhost:8080/"
        },
        "id": "cSDFLidI4i2g",
        "outputId": "82cc1ad4-7582-487f-b428-1163fabe0a90"
      },
      "execution_count": null,
      "outputs": [
        {
          "output_type": "stream",
          "name": "stdout",
          "text": [
            "y\n",
            "d\n",
            "u\n",
            "e\n",
            "u\n",
            "h\n",
            "d\n",
            "j\n"
          ]
        }
      ]
    },
    {
      "cell_type": "code",
      "source": [
        "#editing and deleting strings\n",
        "c[0]='x'"
      ],
      "metadata": {
        "colab": {
          "base_uri": "https://localhost:8080/",
          "height": 193
        },
        "id": "IuK-GcfV5BB0",
        "outputId": "65d4f90e-2fdf-40d5-e329-1dfd598ff8c7"
      },
      "execution_count": null,
      "outputs": [
        {
          "output_type": "error",
          "ename": "TypeError",
          "evalue": "ignored",
          "traceback": [
            "\u001b[0;31m---------------------------------------------------------------------------\u001b[0m",
            "\u001b[0;31mTypeError\u001b[0m                                 Traceback (most recent call last)",
            "\u001b[0;32m<ipython-input-31-561b8f295de2>\u001b[0m in \u001b[0;36m<cell line: 2>\u001b[0;34m()\u001b[0m\n\u001b[1;32m      1\u001b[0m \u001b[0;31m#editing and deleting strings\u001b[0m\u001b[0;34m\u001b[0m\u001b[0;34m\u001b[0m\u001b[0m\n\u001b[0;32m----> 2\u001b[0;31m \u001b[0mc\u001b[0m\u001b[0;34m[\u001b[0m\u001b[0;36m0\u001b[0m\u001b[0;34m]\u001b[0m\u001b[0;34m=\u001b[0m\u001b[0;34m'x'\u001b[0m\u001b[0;34m\u001b[0m\u001b[0;34m\u001b[0m\u001b[0m\n\u001b[0m",
            "\u001b[0;31mTypeError\u001b[0m: 'str' object does not support item assignment"
          ]
        }
      ]
    },
    {
      "cell_type": "code",
      "source": [
        "#strings are immutable data type\n",
        "del c[0]"
      ],
      "metadata": {
        "colab": {
          "base_uri": "https://localhost:8080/",
          "height": 193
        },
        "id": "87Ahh46b5Wnq",
        "outputId": "879ed369-b1f8-4eae-ceea-ac474a8c9a7f"
      },
      "execution_count": null,
      "outputs": [
        {
          "output_type": "error",
          "ename": "TypeError",
          "evalue": "ignored",
          "traceback": [
            "\u001b[0;31m---------------------------------------------------------------------------\u001b[0m",
            "\u001b[0;31mTypeError\u001b[0m                                 Traceback (most recent call last)",
            "\u001b[0;32m<ipython-input-32-c52874fb6a3f>\u001b[0m in \u001b[0;36m<cell line: 2>\u001b[0;34m()\u001b[0m\n\u001b[1;32m      1\u001b[0m \u001b[0;31m#strings are immutable data type\u001b[0m\u001b[0;34m\u001b[0m\u001b[0;34m\u001b[0m\u001b[0m\n\u001b[0;32m----> 2\u001b[0;31m \u001b[0;32mdel\u001b[0m \u001b[0mc\u001b[0m\u001b[0;34m[\u001b[0m\u001b[0;36m0\u001b[0m\u001b[0;34m]\u001b[0m\u001b[0;34m\u001b[0m\u001b[0;34m\u001b[0m\u001b[0m\n\u001b[0m",
            "\u001b[0;31mTypeError\u001b[0m: 'str' object doesn't support item deletion"
          ]
        }
      ]
    },
    {
      "cell_type": "code",
      "source": [
        "#strings functions\n",
        "#len\n",
        "#max\n",
        "# min\n",
        "#sorted"
      ],
      "metadata": {
        "id": "5Czc1uU15-d4"
      },
      "execution_count": null,
      "outputs": []
    },
    {
      "cell_type": "code",
      "source": [
        "c=\"ksdjdheud\"\n",
        "len(c)"
      ],
      "metadata": {
        "colab": {
          "base_uri": "https://localhost:8080/"
        },
        "id": "kR-kJDyM6UW7",
        "outputId": "cf605068-f5e3-4fcd-b086-d38cd5c45dd6"
      },
      "execution_count": null,
      "outputs": [
        {
          "output_type": "execute_result",
          "data": {
            "text/plain": [
              "9"
            ]
          },
          "metadata": {},
          "execution_count": 34
        }
      ]
    },
    {
      "cell_type": "code",
      "source": [
        "max(c)"
      ],
      "metadata": {
        "colab": {
          "base_uri": "https://localhost:8080/",
          "height": 35
        },
        "id": "KyqSwD_N6YB2",
        "outputId": "d7c62234-6728-4271-a307-9ba487a04217"
      },
      "execution_count": null,
      "outputs": [
        {
          "output_type": "execute_result",
          "data": {
            "text/plain": [
              "'u'"
            ],
            "application/vnd.google.colaboratory.intrinsic+json": {
              "type": "string"
            }
          },
          "metadata": {},
          "execution_count": 35
        }
      ]
    },
    {
      "cell_type": "code",
      "source": [
        "min(c)"
      ],
      "metadata": {
        "colab": {
          "base_uri": "https://localhost:8080/",
          "height": 35
        },
        "id": "snK_KB4P6aM0",
        "outputId": "abc1f854-826d-4236-8a8b-4e5f11d36535"
      },
      "execution_count": null,
      "outputs": [
        {
          "output_type": "execute_result",
          "data": {
            "text/plain": [
              "'d'"
            ],
            "application/vnd.google.colaboratory.intrinsic+json": {
              "type": "string"
            }
          },
          "metadata": {},
          "execution_count": 36
        }
      ]
    },
    {
      "cell_type": "code",
      "source": [
        "sorted(c,reverse=True)"
      ],
      "metadata": {
        "colab": {
          "base_uri": "https://localhost:8080/"
        },
        "id": "B1M7A9Uk6ceN",
        "outputId": "b1c9eda8-7136-446a-a807-be51e4a3b881"
      },
      "execution_count": null,
      "outputs": [
        {
          "output_type": "execute_result",
          "data": {
            "text/plain": [
              "['u', 's', 'k', 'j', 'h', 'e', 'd', 'd', 'd']"
            ]
          },
          "metadata": {},
          "execution_count": 38
        }
      ]
    },
    {
      "cell_type": "code",
      "source": [
        "#catitalize\n",
        "c.capitalize()# first alapbet ko capital karega"
      ],
      "metadata": {
        "colab": {
          "base_uri": "https://localhost:8080/",
          "height": 35
        },
        "id": "_QwTf2p-6eIw",
        "outputId": "67dae3ae-cf88-4ff9-9fa7-0b130a49518f"
      },
      "execution_count": null,
      "outputs": [
        {
          "output_type": "execute_result",
          "data": {
            "text/plain": [
              "'Ksdjdheud'"
            ],
            "application/vnd.google.colaboratory.intrinsic+json": {
              "type": "string"
            }
          },
          "metadata": {},
          "execution_count": 40
        }
      ]
    },
    {
      "cell_type": "code",
      "source": [
        "#title sabhi word la first capital\n",
        "c.title()"
      ],
      "metadata": {
        "colab": {
          "base_uri": "https://localhost:8080/",
          "height": 35
        },
        "id": "Vz_XRQsM6vV2",
        "outputId": "413dcbdb-71aa-4f03-a2a8-31d6ca61641e"
      },
      "execution_count": null,
      "outputs": [
        {
          "output_type": "execute_result",
          "data": {
            "text/plain": [
              "'Ksdjdheud'"
            ],
            "application/vnd.google.colaboratory.intrinsic+json": {
              "type": "string"
            }
          },
          "metadata": {},
          "execution_count": 42
        }
      ]
    },
    {
      "cell_type": "code",
      "source": [
        "c.upper()"
      ],
      "metadata": {
        "colab": {
          "base_uri": "https://localhost:8080/",
          "height": 35
        },
        "id": "Uui3KB7d67Uq",
        "outputId": "84200720-27f5-4f6d-d97e-47b6ffc02429"
      },
      "execution_count": null,
      "outputs": [
        {
          "output_type": "execute_result",
          "data": {
            "text/plain": [
              "'KSDJDHEUD'"
            ],
            "application/vnd.google.colaboratory.intrinsic+json": {
              "type": "string"
            }
          },
          "metadata": {},
          "execution_count": 43
        }
      ]
    },
    {
      "cell_type": "code",
      "source": [
        "c.lower()"
      ],
      "metadata": {
        "colab": {
          "base_uri": "https://localhost:8080/",
          "height": 35
        },
        "id": "IgPwVoOM7EFO",
        "outputId": "8c50827f-6a61-4df6-a093-4621cad46f01"
      },
      "execution_count": null,
      "outputs": [
        {
          "output_type": "execute_result",
          "data": {
            "text/plain": [
              "'ksdjdheud'"
            ],
            "application/vnd.google.colaboratory.intrinsic+json": {
              "type": "string"
            }
          },
          "metadata": {},
          "execution_count": 44
        }
      ]
    },
    {
      "cell_type": "code",
      "source": [
        "c.swapcase()# lower to acpital and reverse"
      ],
      "metadata": {
        "colab": {
          "base_uri": "https://localhost:8080/",
          "height": 35
        },
        "id": "Q171aPK_7FX_",
        "outputId": "53effdfa-f764-4260-f901-419c615b35c0"
      },
      "execution_count": null,
      "outputs": [
        {
          "output_type": "execute_result",
          "data": {
            "text/plain": [
              "'KSDJDHEUD'"
            ],
            "application/vnd.google.colaboratory.intrinsic+json": {
              "type": "string"
            }
          },
          "metadata": {},
          "execution_count": 46
        }
      ]
    },
    {
      "cell_type": "code",
      "source": [
        "#count\n",
        "c.count('h')"
      ],
      "metadata": {
        "colab": {
          "base_uri": "https://localhost:8080/"
        },
        "id": "ADkTRqF67H1m",
        "outputId": "b4cb294c-ad0c-485d-814c-5c43b51306ef"
      },
      "execution_count": null,
      "outputs": [
        {
          "output_type": "execute_result",
          "data": {
            "text/plain": [
              "1"
            ]
          },
          "metadata": {},
          "execution_count": 48
        }
      ]
    },
    {
      "cell_type": "code",
      "source": [
        "#find/index\n",
        "c.find('g')"
      ],
      "metadata": {
        "colab": {
          "base_uri": "https://localhost:8080/"
        },
        "id": "HomPPFKJ7QdF",
        "outputId": "b6450627-8169-47e2-b35d-64f51a373cfa"
      },
      "execution_count": null,
      "outputs": [
        {
          "output_type": "execute_result",
          "data": {
            "text/plain": [
              "-1"
            ]
          },
          "metadata": {},
          "execution_count": 49
        }
      ]
    },
    {
      "cell_type": "code",
      "source": [
        "c.index('h')"
      ],
      "metadata": {
        "colab": {
          "base_uri": "https://localhost:8080/"
        },
        "id": "3jVAYJzr7ZoD",
        "outputId": "145b7acd-a79e-49cf-bb49-83ab57b06105"
      },
      "execution_count": null,
      "outputs": [
        {
          "output_type": "execute_result",
          "data": {
            "text/plain": [
              "5"
            ]
          },
          "metadata": {},
          "execution_count": 51
        }
      ]
    },
    {
      "cell_type": "code",
      "source": [
        "#endswith/startwith\n",
        "c.startswith('k')"
      ],
      "metadata": {
        "colab": {
          "base_uri": "https://localhost:8080/"
        },
        "id": "K8E7DclS7dxc",
        "outputId": "8e692fe8-c06f-43b4-b7e9-0e0ddf9f31dc"
      },
      "execution_count": null,
      "outputs": [
        {
          "output_type": "execute_result",
          "data": {
            "text/plain": [
              "True"
            ]
          },
          "metadata": {},
          "execution_count": 53
        }
      ]
    },
    {
      "cell_type": "code",
      "source": [
        "#format\n",
        "\"hello my name is {}\".format(\"Reena\",15)"
      ],
      "metadata": {
        "colab": {
          "base_uri": "https://localhost:8080/",
          "height": 35
        },
        "id": "aTMEHvBc7pVi",
        "outputId": "af492ec5-d33f-49cf-caba-36412b70ebc4"
      },
      "execution_count": null,
      "outputs": [
        {
          "output_type": "execute_result",
          "data": {
            "text/plain": [
              "'hello my name is Reena'"
            ],
            "application/vnd.google.colaboratory.intrinsic+json": {
              "type": "string"
            }
          },
          "metadata": {},
          "execution_count": 55
        }
      ]
    },
    {
      "cell_type": "code",
      "source": [
        "#isalnum/asalpha/isdecimal/isdigit\n",
        "\"flat20\".isalnum()"
      ],
      "metadata": {
        "colab": {
          "base_uri": "https://localhost:8080/"
        },
        "id": "yyJJ6jTj74Fa",
        "outputId": "f4e3e7a2-5141-476a-ba2d-202fd18b1503"
      },
      "execution_count": null,
      "outputs": [
        {
          "output_type": "execute_result",
          "data": {
            "text/plain": [
              "True"
            ]
          },
          "metadata": {},
          "execution_count": 57
        }
      ]
    },
    {
      "cell_type": "code",
      "source": [
        "#split\n",
        "c.split()"
      ],
      "metadata": {
        "colab": {
          "base_uri": "https://localhost:8080/"
        },
        "id": "pq1d0qXc8WpY",
        "outputId": "a89ae447-04e7-4fd7-d215-bf87badfb514"
      },
      "execution_count": null,
      "outputs": [
        {
          "output_type": "execute_result",
          "data": {
            "text/plain": [
              "['ksdjdheud']"
            ]
          },
          "metadata": {},
          "execution_count": 58
        }
      ]
    },
    {
      "cell_type": "code",
      "source": [
        "\"djhfh sndwh sdbwhed sznxbshyd xhsedue\".split()"
      ],
      "metadata": {
        "colab": {
          "base_uri": "https://localhost:8080/"
        },
        "id": "7vnK5pKd8rOa",
        "outputId": "89152c31-520e-4279-f300-5ac69355d754"
      },
      "execution_count": null,
      "outputs": [
        {
          "output_type": "execute_result",
          "data": {
            "text/plain": [
              "['djhfh', 'sndwh', 'sdbwhed', 'sznxbshyd', 'xhsedue']"
            ]
          },
          "metadata": {},
          "execution_count": 59
        }
      ]
    },
    {
      "cell_type": "code",
      "source": [
        "\"hdgye shwy sdnhwuq nsdhway ansbwuq nxdsudy\".join(\"hfgd\")"
      ],
      "metadata": {
        "colab": {
          "base_uri": "https://localhost:8080/",
          "height": 35
        },
        "id": "o1qs_2RW8wi7",
        "outputId": "f63e512e-430e-4b5c-f8b1-1d21942c937d"
      },
      "execution_count": null,
      "outputs": [
        {
          "output_type": "execute_result",
          "data": {
            "text/plain": [
              "'hhdgye shwy sdnhwuq nsdhway ansbwuq nxdsudyfhdgye shwy sdnhwuq nsdhway ansbwuq nxdsudyghdgye shwy sdnhwuq nsdhway ansbwuq nxdsudyd'"
            ],
            "application/vnd.google.colaboratory.intrinsic+json": {
              "type": "string"
            }
          },
          "metadata": {},
          "execution_count": 61
        }
      ]
    },
    {
      "cell_type": "code",
      "source": [
        "\"hi my name is reena\".replace(\"reena\",\"lohan\")"
      ],
      "metadata": {
        "colab": {
          "base_uri": "https://localhost:8080/",
          "height": 35
        },
        "id": "jaZWRBgj81r9",
        "outputId": "19a5796c-8d46-4182-8f0a-965d2d4598bf"
      },
      "execution_count": null,
      "outputs": [
        {
          "output_type": "execute_result",
          "data": {
            "text/plain": [
              "'hi my name is lohan'"
            ],
            "application/vnd.google.colaboratory.intrinsic+json": {
              "type": "string"
            }
          },
          "metadata": {},
          "execution_count": 63
        }
      ]
    },
    {
      "cell_type": "code",
      "source": [
        "name=\"    reena\"\n",
        "\"hi\"+name.strip()"
      ],
      "metadata": {
        "colab": {
          "base_uri": "https://localhost:8080/",
          "height": 35
        },
        "id": "XSZtQTVp9IOI",
        "outputId": "b54b0d1b-6614-4509-930e-9c88727ac670"
      },
      "execution_count": null,
      "outputs": [
        {
          "output_type": "execute_result",
          "data": {
            "text/plain": [
              "'hireena'"
            ],
            "application/vnd.google.colaboratory.intrinsic+json": {
              "type": "string"
            }
          },
          "metadata": {},
          "execution_count": 64
        }
      ]
    },
    {
      "cell_type": "code",
      "source": [],
      "metadata": {
        "id": "FUGS8XH79gA8"
      },
      "execution_count": null,
      "outputs": []
    },
    {
      "cell_type": "markdown",
      "source": [
        "python lists"
      ],
      "metadata": {
        "id": "emkt1rxVZxeV"
      }
    },
    {
      "cell_type": "code",
      "source": [
        "l=[]"
      ],
      "metadata": {
        "id": "sdM_wCfAZy2G"
      },
      "execution_count": null,
      "outputs": []
    },
    {
      "cell_type": "code",
      "source": [
        "l"
      ],
      "metadata": {
        "colab": {
          "base_uri": "https://localhost:8080/"
        },
        "id": "c_G8cL0UaOFB",
        "outputId": "37fa44af-ea04-45a9-d2b6-8c4e8971673e"
      },
      "execution_count": null,
      "outputs": [
        {
          "output_type": "execute_result",
          "data": {
            "text/plain": [
              "[]"
            ]
          },
          "metadata": {},
          "execution_count": 2
        }
      ]
    },
    {
      "cell_type": "code",
      "source": [
        "l1=[123,\"frg\",True]"
      ],
      "metadata": {
        "id": "F8othELcaPIG"
      },
      "execution_count": null,
      "outputs": []
    },
    {
      "cell_type": "code",
      "source": [
        "l1"
      ],
      "metadata": {
        "colab": {
          "base_uri": "https://localhost:8080/"
        },
        "id": "KSh1jNscaVgC",
        "outputId": "be532c7e-5764-4cf1-ed88-133202569fc4"
      },
      "execution_count": null,
      "outputs": [
        {
          "output_type": "execute_result",
          "data": {
            "text/plain": [
              "[123, 'frg', True]"
            ]
          },
          "metadata": {},
          "execution_count": 4
        }
      ]
    },
    {
      "cell_type": "code",
      "source": [
        "l2=[1,2,3,[45,5,7]]"
      ],
      "metadata": {
        "id": "xa69_9U4aWKt"
      },
      "execution_count": null,
      "outputs": []
    },
    {
      "cell_type": "code",
      "source": [
        "l2"
      ],
      "metadata": {
        "colab": {
          "base_uri": "https://localhost:8080/"
        },
        "id": "hVTP_waNacnw",
        "outputId": "a3065267-978f-4fd5-960e-0030fbb9450d"
      },
      "execution_count": null,
      "outputs": [
        {
          "output_type": "execute_result",
          "data": {
            "text/plain": [
              "[1, 2, 3, [45, 5, 7]]"
            ]
          },
          "metadata": {},
          "execution_count": 6
        }
      ]
    },
    {
      "cell_type": "code",
      "source": [
        "l5=list[\"sjahasgdy\"]"
      ],
      "metadata": {
        "id": "Q2ntY_b7adbP"
      },
      "execution_count": null,
      "outputs": []
    },
    {
      "cell_type": "code",
      "source": [
        "l5"
      ],
      "metadata": {
        "colab": {
          "base_uri": "https://localhost:8080/"
        },
        "id": "gdXvjfhtaj0y",
        "outputId": "05137400-f565-4d17-db2f-2386c9dbd2fd"
      },
      "execution_count": null,
      "outputs": [
        {
          "output_type": "execute_result",
          "data": {
            "text/plain": [
              "list['sjahasgdy']"
            ]
          },
          "metadata": {},
          "execution_count": 10
        }
      ]
    },
    {
      "cell_type": "code",
      "source": [
        "l1[0]"
      ],
      "metadata": {
        "colab": {
          "base_uri": "https://localhost:8080/"
        },
        "id": "EMSoCnXPakgz",
        "outputId": "d910bddc-1983-4018-b50c-19c2cf67454b"
      },
      "execution_count": null,
      "outputs": [
        {
          "output_type": "execute_result",
          "data": {
            "text/plain": [
              "123"
            ]
          },
          "metadata": {},
          "execution_count": 11
        }
      ]
    },
    {
      "cell_type": "code",
      "source": [
        "l9=list[\"ashasgy\"]"
      ],
      "metadata": {
        "id": "GUPxAyQwavzU"
      },
      "execution_count": null,
      "outputs": []
    },
    {
      "cell_type": "code",
      "source": [
        "l9"
      ],
      "metadata": {
        "colab": {
          "base_uri": "https://localhost:8080/"
        },
        "id": "hwX3tkKta2JC",
        "outputId": "cbfb548f-2660-46b8-d915-e275fe8cee4d"
      },
      "execution_count": null,
      "outputs": [
        {
          "output_type": "execute_result",
          "data": {
            "text/plain": [
              "list['ashasgy']"
            ]
          },
          "metadata": {},
          "execution_count": 13
        }
      ]
    },
    {
      "cell_type": "code",
      "source": [
        "l4=[[[[1,2],[23,34],[4,5,6]]]]"
      ],
      "metadata": {
        "id": "VM6JnOvxa2xh"
      },
      "execution_count": null,
      "outputs": []
    },
    {
      "cell_type": "code",
      "source": [
        "l4"
      ],
      "metadata": {
        "colab": {
          "base_uri": "https://localhost:8080/"
        },
        "id": "KC29nBSJbT7O",
        "outputId": "89c47d94-0512-49cf-f519-c4f6d0d2f674"
      },
      "execution_count": null,
      "outputs": [
        {
          "output_type": "execute_result",
          "data": {
            "text/plain": [
              "[[[[1, 2], [23, 34], [4, 5, 6]]]]"
            ]
          },
          "metadata": {},
          "execution_count": 15
        }
      ]
    },
    {
      "cell_type": "code",
      "source": [
        "l"
      ],
      "metadata": {
        "colab": {
          "base_uri": "https://localhost:8080/"
        },
        "id": "-_9YLOAIbVNA",
        "outputId": "b2816665-e46d-42ed-9609-a8dcca638b4f"
      },
      "execution_count": null,
      "outputs": [
        {
          "output_type": "execute_result",
          "data": {
            "text/plain": [
              "[]"
            ]
          },
          "metadata": {},
          "execution_count": 16
        }
      ]
    },
    {
      "cell_type": "code",
      "source": [
        "l1"
      ],
      "metadata": {
        "colab": {
          "base_uri": "https://localhost:8080/"
        },
        "id": "1Iq5Qbtvbmq3",
        "outputId": "61b82d84-8e9e-4a5f-fefb-b1bef58a819c"
      },
      "execution_count": null,
      "outputs": [
        {
          "output_type": "execute_result",
          "data": {
            "text/plain": [
              "[123, 'frg', True]"
            ]
          },
          "metadata": {},
          "execution_count": 17
        }
      ]
    },
    {
      "cell_type": "code",
      "source": [
        "l1[1]=10\n"
      ],
      "metadata": {
        "id": "rs5oboBabnww"
      },
      "execution_count": null,
      "outputs": []
    },
    {
      "cell_type": "code",
      "source": [
        "l1"
      ],
      "metadata": {
        "colab": {
          "base_uri": "https://localhost:8080/"
        },
        "id": "bnvLbdw2bqox",
        "outputId": "d1eb3178-b663-4e52-d19b-a34f37c0ad43"
      },
      "execution_count": null,
      "outputs": [
        {
          "output_type": "execute_result",
          "data": {
            "text/plain": [
              "[123, 10, True]"
            ]
          },
          "metadata": {},
          "execution_count": 22
        }
      ]
    },
    {
      "cell_type": "code",
      "source": [
        "#add new items in the list\n",
        "l1.append[100]\n"
      ],
      "metadata": {
        "colab": {
          "base_uri": "https://localhost:8080/",
          "height": 193
        },
        "id": "bhq9uf6gb2cN",
        "outputId": "09855c62-c1b6-46f2-e341-c6916e5ea6c5"
      },
      "execution_count": null,
      "outputs": [
        {
          "output_type": "error",
          "ename": "TypeError",
          "evalue": "ignored",
          "traceback": [
            "\u001b[0;31m---------------------------------------------------------------------------\u001b[0m",
            "\u001b[0;31mTypeError\u001b[0m                                 Traceback (most recent call last)",
            "\u001b[0;32m<ipython-input-24-0637b243f7aa>\u001b[0m in \u001b[0;36m<cell line: 2>\u001b[0;34m()\u001b[0m\n\u001b[1;32m      1\u001b[0m \u001b[0;31m#add new items in the list\u001b[0m\u001b[0;34m\u001b[0m\u001b[0;34m\u001b[0m\u001b[0m\n\u001b[0;32m----> 2\u001b[0;31m \u001b[0ml1\u001b[0m\u001b[0;34m.\u001b[0m\u001b[0mappend\u001b[0m\u001b[0;34m[\u001b[0m\u001b[0;36m100\u001b[0m\u001b[0;34m]\u001b[0m\u001b[0;34m\u001b[0m\u001b[0;34m\u001b[0m\u001b[0m\n\u001b[0m",
            "\u001b[0;31mTypeError\u001b[0m: 'builtin_function_or_method' object is not subscriptable"
          ]
        }
      ]
    },
    {
      "cell_type": "code",
      "source": [
        "l=[1,22,34,56,78,89]"
      ],
      "metadata": {
        "id": "o2xdrP4RcE1k"
      },
      "execution_count": null,
      "outputs": []
    },
    {
      "cell_type": "code",
      "source": [
        "l"
      ],
      "metadata": {
        "colab": {
          "base_uri": "https://localhost:8080/"
        },
        "id": "I08KjBP8cQv6",
        "outputId": "9a030e3a-b483-4720-8ce2-6c44e59e80c2"
      },
      "execution_count": null,
      "outputs": [
        {
          "output_type": "execute_result",
          "data": {
            "text/plain": [
              "[1, 22, 34, 56, 78, 89]"
            ]
          },
          "metadata": {},
          "execution_count": 26
        }
      ]
    },
    {
      "cell_type": "code",
      "source": [
        "l.append([10])"
      ],
      "metadata": {
        "id": "3JC6VQ0QcRZJ"
      },
      "execution_count": null,
      "outputs": []
    },
    {
      "cell_type": "code",
      "source": [
        "l.extend([13,15,17])#add multiple items"
      ],
      "metadata": {
        "id": "HwnGH4HUcUM2"
      },
      "execution_count": null,
      "outputs": []
    },
    {
      "cell_type": "code",
      "source": [
        "l"
      ],
      "metadata": {
        "colab": {
          "base_uri": "https://localhost:8080/"
        },
        "id": "39S1oKh4ccxI",
        "outputId": "1b19c96b-6264-41f5-c839-3fbf60dc7c59"
      },
      "execution_count": null,
      "outputs": [
        {
          "output_type": "execute_result",
          "data": {
            "text/plain": [
              "[1, 22, 34, 56, 78, 89, 13, 15, 17, [10], 13, 15, 17]"
            ]
          },
          "metadata": {},
          "execution_count": 34
        }
      ]
    },
    {
      "cell_type": "code",
      "source": [
        "l.insert(1,\"world\")#add on desire position"
      ],
      "metadata": {
        "id": "1ZSXH2NIcksA"
      },
      "execution_count": null,
      "outputs": []
    },
    {
      "cell_type": "code",
      "source": [
        "l"
      ],
      "metadata": {
        "colab": {
          "base_uri": "https://localhost:8080/"
        },
        "id": "wVRZPNfAc1s3",
        "outputId": "d2796a53-490a-4619-c534-07e9dc2b051a"
      },
      "execution_count": null,
      "outputs": [
        {
          "output_type": "execute_result",
          "data": {
            "text/plain": [
              "[1, 'world', 'world', 22, 34, 56, 78, 89, 13, 15, 17, [10], 13, 15, 17]"
            ]
          },
          "metadata": {},
          "execution_count": 38
        }
      ]
    },
    {
      "cell_type": "code",
      "source": [
        "#remove from list"
      ],
      "metadata": {
        "id": "6ddpiAotc2kH"
      },
      "execution_count": null,
      "outputs": []
    },
    {
      "cell_type": "code",
      "source": [
        "del l2"
      ],
      "metadata": {
        "id": "LW-kfrowc_RG"
      },
      "execution_count": null,
      "outputs": []
    },
    {
      "cell_type": "code",
      "source": [
        "l2"
      ],
      "metadata": {
        "colab": {
          "base_uri": "https://localhost:8080/",
          "height": 175
        },
        "id": "dUQPg4R2dBQA",
        "outputId": "4f7ccf4b-b856-48c2-c53a-89f9655d0e5e"
      },
      "execution_count": null,
      "outputs": [
        {
          "output_type": "error",
          "ename": "NameError",
          "evalue": "ignored",
          "traceback": [
            "\u001b[0;31m---------------------------------------------------------------------------\u001b[0m",
            "\u001b[0;31mNameError\u001b[0m                                 Traceback (most recent call last)",
            "\u001b[0;32m<ipython-input-42-ea320d2ace30>\u001b[0m in \u001b[0;36m<cell line: 1>\u001b[0;34m()\u001b[0m\n\u001b[0;32m----> 1\u001b[0;31m \u001b[0ml2\u001b[0m\u001b[0;34m\u001b[0m\u001b[0;34m\u001b[0m\u001b[0m\n\u001b[0m",
            "\u001b[0;31mNameError\u001b[0m: name 'l2' is not defined"
          ]
        }
      ]
    },
    {
      "cell_type": "code",
      "source": [
        "del l[1]"
      ],
      "metadata": {
        "id": "mBHfJszZdEk8"
      },
      "execution_count": null,
      "outputs": []
    },
    {
      "cell_type": "code",
      "source": [
        "l"
      ],
      "metadata": {
        "colab": {
          "base_uri": "https://localhost:8080/"
        },
        "id": "dvlXQ4_5dHMZ",
        "outputId": "d129b0a7-a870-4f55-bd50-40d67192cb8b"
      },
      "execution_count": null,
      "outputs": [
        {
          "output_type": "execute_result",
          "data": {
            "text/plain": [
              "[1, 'world', 22, 34, 56, 78, 89, 13, 15, 17, [10], 13, 15, 17]"
            ]
          },
          "metadata": {},
          "execution_count": 44
        }
      ]
    },
    {
      "cell_type": "code",
      "source": [
        "del l[-2]"
      ],
      "metadata": {
        "id": "9FLA4pC_dIEC"
      },
      "execution_count": null,
      "outputs": []
    },
    {
      "cell_type": "code",
      "source": [
        "l"
      ],
      "metadata": {
        "colab": {
          "base_uri": "https://localhost:8080/"
        },
        "id": "pS1irzsjdLmF",
        "outputId": "9be40714-c97f-4284-ae14-6fc5c5254176"
      },
      "execution_count": null,
      "outputs": [
        {
          "output_type": "execute_result",
          "data": {
            "text/plain": [
              "[1, 'world', 22, 34, 56, 78, 89, 13, 15, 17, [10], 13, 17]"
            ]
          },
          "metadata": {},
          "execution_count": 46
        }
      ]
    },
    {
      "cell_type": "code",
      "source": [
        "l.remove('world')"
      ],
      "metadata": {
        "id": "aoVEAvqcdMdP"
      },
      "execution_count": null,
      "outputs": []
    },
    {
      "cell_type": "code",
      "source": [
        "l"
      ],
      "metadata": {
        "colab": {
          "base_uri": "https://localhost:8080/"
        },
        "id": "OFmLnANOdRrQ",
        "outputId": "cc363fa7-58cf-470a-a045-7d992ffd4404"
      },
      "execution_count": null,
      "outputs": [
        {
          "output_type": "execute_result",
          "data": {
            "text/plain": [
              "[1, 22, 34, 56, 78, 89, 13, 15, 17, [10], 13, 17]"
            ]
          },
          "metadata": {},
          "execution_count": 48
        }
      ]
    },
    {
      "cell_type": "code",
      "source": [
        "l.pop()#delete last item"
      ],
      "metadata": {
        "colab": {
          "base_uri": "https://localhost:8080/"
        },
        "id": "-AG-VmlKdSaI",
        "outputId": "25a579de-41ca-4c23-bcd4-042b4deb37d9"
      },
      "execution_count": null,
      "outputs": [
        {
          "output_type": "execute_result",
          "data": {
            "text/plain": [
              "13"
            ]
          },
          "metadata": {},
          "execution_count": 51
        }
      ]
    },
    {
      "cell_type": "code",
      "source": [
        "l"
      ],
      "metadata": {
        "colab": {
          "base_uri": "https://localhost:8080/"
        },
        "id": "DYiR_QvDdUuP",
        "outputId": "468a8bee-0e6e-4d52-ad4d-1f64ac78f88a"
      },
      "execution_count": null,
      "outputs": [
        {
          "output_type": "execute_result",
          "data": {
            "text/plain": [
              "[1, 22, 34, 56, 78, 89, 13, 15, 17, [10]]"
            ]
          },
          "metadata": {},
          "execution_count": 52
        }
      ]
    },
    {
      "cell_type": "code",
      "source": [
        "l.clear()#delete all items in the list"
      ],
      "metadata": {
        "id": "mRnrbxsYdV3L"
      },
      "execution_count": null,
      "outputs": []
    },
    {
      "cell_type": "code",
      "source": [
        "l"
      ],
      "metadata": {
        "colab": {
          "base_uri": "https://localhost:8080/"
        },
        "id": "TGH0bUtidart",
        "outputId": "4523d00d-5ad5-4b2f-bbb1-f2d0b2109625"
      },
      "execution_count": null,
      "outputs": [
        {
          "output_type": "execute_result",
          "data": {
            "text/plain": [
              "[]"
            ]
          },
          "metadata": {},
          "execution_count": 56
        }
      ]
    },
    {
      "cell_type": "code",
      "source": [
        "l=[1,2,3,5,6,8,9]"
      ],
      "metadata": {
        "id": "WN3u9VRKdbh7"
      },
      "execution_count": null,
      "outputs": []
    },
    {
      "cell_type": "code",
      "source": [
        "l2=[23,4,5,67,89,0,23]"
      ],
      "metadata": {
        "id": "u5NNySIhdjGe"
      },
      "execution_count": null,
      "outputs": []
    },
    {
      "cell_type": "code",
      "source": [
        "l+l2"
      ],
      "metadata": {
        "colab": {
          "base_uri": "https://localhost:8080/"
        },
        "id": "ozE7Ngb5dl9B",
        "outputId": "d9936e59-47ba-422e-db7a-a7c721acda89"
      },
      "execution_count": null,
      "outputs": [
        {
          "output_type": "execute_result",
          "data": {
            "text/plain": [
              "[1, 2, 3, 5, 6, 8, 9, 23, 4, 5, 67, 89, 0, 23]"
            ]
          },
          "metadata": {},
          "execution_count": 59
        }
      ]
    },
    {
      "cell_type": "code",
      "source": [
        "l2*2"
      ],
      "metadata": {
        "colab": {
          "base_uri": "https://localhost:8080/"
        },
        "id": "kGHu4aBjdoBV",
        "outputId": "fd116a27-285f-4ee7-ecac-a0ecfb5e8b5d"
      },
      "execution_count": null,
      "outputs": [
        {
          "output_type": "execute_result",
          "data": {
            "text/plain": [
              "[23, 4, 5, 67, 89, 0, 23, 23, 4, 5, 67, 89, 0, 23]"
            ]
          },
          "metadata": {},
          "execution_count": 60
        }
      ]
    },
    {
      "cell_type": "code",
      "source": [
        "l * 3"
      ],
      "metadata": {
        "colab": {
          "base_uri": "https://localhost:8080/"
        },
        "id": "iOWt0kKadqwL",
        "outputId": "700cd66d-7a16-45fb-aeca-4ad03f67df11"
      },
      "execution_count": null,
      "outputs": [
        {
          "output_type": "execute_result",
          "data": {
            "text/plain": [
              "[1, 2, 3, 5, 6, 8, 9, 1, 2, 3, 5, 6, 8, 9, 1, 2, 3, 5, 6, 8, 9]"
            ]
          },
          "metadata": {},
          "execution_count": 61
        }
      ]
    },
    {
      "cell_type": "code",
      "source": [
        "for i in l:\n",
        "  print(i)"
      ],
      "metadata": {
        "colab": {
          "base_uri": "https://localhost:8080/"
        },
        "id": "DdaoViv9dwnI",
        "outputId": "79445789-1cbf-482d-b010-8561f05d10ef"
      },
      "execution_count": null,
      "outputs": [
        {
          "output_type": "stream",
          "name": "stdout",
          "text": [
            "1\n",
            "2\n",
            "3\n",
            "5\n",
            "6\n",
            "8\n",
            "9\n"
          ]
        }
      ]
    },
    {
      "cell_type": "code",
      "source": [
        "4 in l"
      ],
      "metadata": {
        "colab": {
          "base_uri": "https://localhost:8080/"
        },
        "id": "qtEgUo_fd2XG",
        "outputId": "1d15e28c-27d3-4bce-eaa1-7c2530a31b58"
      },
      "execution_count": null,
      "outputs": [
        {
          "output_type": "execute_result",
          "data": {
            "text/plain": [
              "False"
            ]
          },
          "metadata": {},
          "execution_count": 63
        }
      ]
    },
    {
      "cell_type": "code",
      "source": [
        "5 in l"
      ],
      "metadata": {
        "colab": {
          "base_uri": "https://localhost:8080/"
        },
        "id": "67CYJRyzd7Pw",
        "outputId": "aab0bf5e-d520-434a-a6db-9b05402950ec"
      },
      "execution_count": null,
      "outputs": [
        {
          "output_type": "execute_result",
          "data": {
            "text/plain": [
              "True"
            ]
          },
          "metadata": {},
          "execution_count": 64
        }
      ]
    },
    {
      "cell_type": "code",
      "source": [
        "len(l)"
      ],
      "metadata": {
        "colab": {
          "base_uri": "https://localhost:8080/"
        },
        "id": "ki8-cSlfeAQ6",
        "outputId": "848e983a-0eb0-4473-cda8-4039ca12e177"
      },
      "execution_count": null,
      "outputs": [
        {
          "output_type": "execute_result",
          "data": {
            "text/plain": [
              "7"
            ]
          },
          "metadata": {},
          "execution_count": 65
        }
      ]
    },
    {
      "cell_type": "code",
      "source": [
        "min(l)"
      ],
      "metadata": {
        "colab": {
          "base_uri": "https://localhost:8080/"
        },
        "id": "KQC2NVeleHIi",
        "outputId": "68518be2-7d06-420e-9f84-09d99c709555"
      },
      "execution_count": null,
      "outputs": [
        {
          "output_type": "execute_result",
          "data": {
            "text/plain": [
              "1"
            ]
          },
          "metadata": {},
          "execution_count": 66
        }
      ]
    },
    {
      "cell_type": "code",
      "source": [
        "max(l)"
      ],
      "metadata": {
        "colab": {
          "base_uri": "https://localhost:8080/"
        },
        "id": "XgmVo1UUeJRG",
        "outputId": "2f267cf7-1252-47f7-b951-58749d2a3460"
      },
      "execution_count": null,
      "outputs": [
        {
          "output_type": "execute_result",
          "data": {
            "text/plain": [
              "9"
            ]
          },
          "metadata": {},
          "execution_count": 67
        }
      ]
    },
    {
      "cell_type": "code",
      "source": [
        "sorted(l,reverse=True)"
      ],
      "metadata": {
        "colab": {
          "base_uri": "https://localhost:8080/"
        },
        "id": "1_Hy0F6teLGf",
        "outputId": "339467c9-e9b5-462e-c475-1a224e0da923"
      },
      "execution_count": null,
      "outputs": [
        {
          "output_type": "execute_result",
          "data": {
            "text/plain": [
              "[9, 8, 6, 5, 3, 2, 1]"
            ]
          },
          "metadata": {},
          "execution_count": 69
        }
      ]
    },
    {
      "cell_type": "code",
      "source": [
        "l.sort(reverse=True)"
      ],
      "metadata": {
        "id": "x-uZUFV3eMjd"
      },
      "execution_count": null,
      "outputs": []
    },
    {
      "cell_type": "code",
      "source": [
        "l"
      ],
      "metadata": {
        "colab": {
          "base_uri": "https://localhost:8080/"
        },
        "id": "ep6-MqppeStA",
        "outputId": "a3a54d5d-defe-4ab2-8639-61c832e1f7d4"
      },
      "execution_count": null,
      "outputs": [
        {
          "output_type": "execute_result",
          "data": {
            "text/plain": [
              "[9, 8, 6, 5, 3, 2, 1]"
            ]
          },
          "metadata": {},
          "execution_count": 73
        }
      ]
    },
    {
      "cell_type": "code",
      "source": [
        "l.index([3])"
      ],
      "metadata": {
        "colab": {
          "base_uri": "https://localhost:8080/",
          "height": 175
        },
        "id": "ikydn7QxeT6J",
        "outputId": "b020b718-c51e-4473-8172-bcacad9193a2"
      },
      "execution_count": null,
      "outputs": [
        {
          "output_type": "error",
          "ename": "ValueError",
          "evalue": "ignored",
          "traceback": [
            "\u001b[0;31m---------------------------------------------------------------------------\u001b[0m",
            "\u001b[0;31mValueError\u001b[0m                                Traceback (most recent call last)",
            "\u001b[0;32m<ipython-input-75-feaddf6eb291>\u001b[0m in \u001b[0;36m<cell line: 1>\u001b[0;34m()\u001b[0m\n\u001b[0;32m----> 1\u001b[0;31m \u001b[0ml\u001b[0m\u001b[0;34m.\u001b[0m\u001b[0mindex\u001b[0m\u001b[0;34m(\u001b[0m\u001b[0;34m[\u001b[0m\u001b[0;36m3\u001b[0m\u001b[0;34m]\u001b[0m\u001b[0;34m)\u001b[0m\u001b[0;34m\u001b[0m\u001b[0;34m\u001b[0m\u001b[0m\n\u001b[0m",
            "\u001b[0;31mValueError\u001b[0m: [3] is not in list"
          ]
        }
      ]
    },
    {
      "cell_type": "code",
      "source": [
        "\"hello how are you\".title()"
      ],
      "metadata": {
        "colab": {
          "base_uri": "https://localhost:8080/",
          "height": 35
        },
        "id": "1Ag-uqhCeb8V",
        "outputId": "8ff164a2-d4da-457e-fb0c-0305fd7bdc09"
      },
      "execution_count": null,
      "outputs": [
        {
          "output_type": "execute_result",
          "data": {
            "text/plain": [
              "'Hello How Are You'"
            ],
            "application/vnd.google.colaboratory.intrinsic+json": {
              "type": "string"
            }
          },
          "metadata": {},
          "execution_count": 77
        }
      ]
    },
    {
      "cell_type": "code",
      "source": [
        "sample=\"how are you\"\n",
        "print(sample.capitalize())"
      ],
      "metadata": {
        "colab": {
          "base_uri": "https://localhost:8080/"
        },
        "id": "U8ZspTbMenKZ",
        "outputId": "a7a0b854-1116-4bc8-aaaf-ea929c1d16f7"
      },
      "execution_count": null,
      "outputs": [
        {
          "output_type": "stream",
          "name": "stdout",
          "text": [
            "How are you\n"
          ]
        }
      ]
    },
    {
      "cell_type": "code",
      "source": [
        "for i in sample:\n",
        "  print(i.capitalize())"
      ],
      "metadata": {
        "colab": {
          "base_uri": "https://localhost:8080/"
        },
        "id": "Dfv8XzNPe0Sg",
        "outputId": "21c3389b-64a5-43af-e88e-e7d2c7370161"
      },
      "execution_count": null,
      "outputs": [
        {
          "output_type": "stream",
          "name": "stdout",
          "text": [
            "H\n",
            "O\n",
            "W\n",
            " \n",
            "A\n",
            "R\n",
            "E\n",
            " \n",
            "Y\n",
            "O\n",
            "U\n"
          ]
        }
      ]
    },
    {
      "cell_type": "code",
      "source": [
        "l=[]"
      ],
      "metadata": {
        "id": "BuE-IFuTe-JK"
      },
      "execution_count": null,
      "outputs": []
    },
    {
      "cell_type": "code",
      "source": [
        "l.append(i.capitalize())"
      ],
      "metadata": {
        "id": "ixlz2iiqfDIS"
      },
      "execution_count": null,
      "outputs": []
    },
    {
      "cell_type": "code",
      "source": [
        "l"
      ],
      "metadata": {
        "colab": {
          "base_uri": "https://localhost:8080/"
        },
        "id": "IqWgjgfCfJcE",
        "outputId": "3ad08eab-8b40-46a7-bb61-9d3ff10270cf"
      },
      "execution_count": null,
      "outputs": [
        {
          "output_type": "execute_result",
          "data": {
            "text/plain": [
              "['U']"
            ]
          },
          "metadata": {},
          "execution_count": 84
        }
      ]
    },
    {
      "cell_type": "code",
      "source": [
        "e=\"abc@gmail.com\""
      ],
      "metadata": {
        "id": "lJH2SG2jfK2n"
      },
      "execution_count": null,
      "outputs": []
    },
    {
      "cell_type": "code",
      "source": [
        "l=[1,2,3,4,5,2,3,4]"
      ],
      "metadata": {
        "id": "PIH32OulfYHZ"
      },
      "execution_count": null,
      "outputs": []
    },
    {
      "cell_type": "code",
      "source": [
        "l2=[2,3,4,2,5,6,3,4]"
      ],
      "metadata": {
        "id": "XiWYppelflOS"
      },
      "execution_count": null,
      "outputs": []
    },
    {
      "cell_type": "code",
      "source": [
        "l3=[]"
      ],
      "metadata": {
        "id": "PLIsK8uZgD7x"
      },
      "execution_count": null,
      "outputs": []
    },
    {
      "cell_type": "code",
      "source": [
        "for i in l:\n",
        "  print(i)\n",
        "  if i not in l:\n",
        "    print(l3.append(i))"
      ],
      "metadata": {
        "colab": {
          "base_uri": "https://localhost:8080/"
        },
        "id": "TckJzWoxgEy-",
        "outputId": "599da832-c98b-46c6-f884-23155cf44c3c"
      },
      "execution_count": null,
      "outputs": [
        {
          "output_type": "stream",
          "name": "stdout",
          "text": [
            "1\n",
            "2\n",
            "3\n",
            "4\n",
            "5\n",
            "2\n",
            "3\n",
            "4\n"
          ]
        }
      ]
    },
    {
      "cell_type": "code",
      "source": [
        "l3\n"
      ],
      "metadata": {
        "colab": {
          "base_uri": "https://localhost:8080/"
        },
        "id": "OD17HSGLgJLf",
        "outputId": "d69fdc70-503e-4f9d-bbc4-abeb49285831"
      },
      "execution_count": null,
      "outputs": [
        {
          "output_type": "execute_result",
          "data": {
            "text/plain": [
              "[]"
            ]
          },
          "metadata": {},
          "execution_count": 96
        }
      ]
    },
    {
      "cell_type": "code",
      "source": [],
      "metadata": {
        "id": "CXdO-hSHgZZS"
      },
      "execution_count": null,
      "outputs": []
    },
    {
      "cell_type": "markdown",
      "source": [
        "tuples"
      ],
      "metadata": {
        "id": "h40q8EPtgizL"
      }
    },
    {
      "cell_type": "code",
      "source": [
        "#very similar to list"
      ],
      "metadata": {
        "id": "qHk-NQ4pgj1w"
      },
      "execution_count": null,
      "outputs": []
    },
    {
      "cell_type": "code",
      "source": [
        "#create tuple"
      ],
      "metadata": {
        "id": "-uHVbayrgmfO"
      },
      "execution_count": null,
      "outputs": []
    },
    {
      "cell_type": "code",
      "source": [
        "t1=()"
      ],
      "metadata": {
        "id": "axkJdVOtgqzW"
      },
      "execution_count": null,
      "outputs": []
    },
    {
      "cell_type": "code",
      "source": [
        "t1"
      ],
      "metadata": {
        "colab": {
          "base_uri": "https://localhost:8080/"
        },
        "id": "Y8P9ybjNgtnw",
        "outputId": "bd212f03-7b90-4c79-d492-635a916cf796"
      },
      "execution_count": null,
      "outputs": [
        {
          "output_type": "execute_result",
          "data": {
            "text/plain": [
              "()"
            ]
          },
          "metadata": {},
          "execution_count": 100
        }
      ]
    },
    {
      "cell_type": "code",
      "source": [
        "t2=(1,2,3,4,5)"
      ],
      "metadata": {
        "id": "Ab1GCk0IguSK"
      },
      "execution_count": null,
      "outputs": []
    },
    {
      "cell_type": "code",
      "source": [
        "t2"
      ],
      "metadata": {
        "colab": {
          "base_uri": "https://localhost:8080/"
        },
        "id": "EuWY4WZcgw33",
        "outputId": "d206153f-2a32-478b-ed4c-253c57f9e858"
      },
      "execution_count": null,
      "outputs": [
        {
          "output_type": "execute_result",
          "data": {
            "text/plain": [
              "(1, 2, 3, 4, 5)"
            ]
          },
          "metadata": {},
          "execution_count": 102
        }
      ]
    },
    {
      "cell_type": "code",
      "source": [
        "t3=(1,2,3,4,\"helo\",True)"
      ],
      "metadata": {
        "id": "W8VJigBZgxhy"
      },
      "execution_count": null,
      "outputs": []
    },
    {
      "cell_type": "code",
      "source": [
        "t3"
      ],
      "metadata": {
        "colab": {
          "base_uri": "https://localhost:8080/"
        },
        "id": "QlJjZaQmg2n0",
        "outputId": "2598923f-83b2-4e1a-e582-c6313d13b0de"
      },
      "execution_count": null,
      "outputs": [
        {
          "output_type": "execute_result",
          "data": {
            "text/plain": [
              "(1, 2, 3, 4, 'helo', True)"
            ]
          },
          "metadata": {},
          "execution_count": 104
        }
      ]
    },
    {
      "cell_type": "code",
      "source": [
        "t5=(7)"
      ],
      "metadata": {
        "id": "YO-GAR9ug3Mf"
      },
      "execution_count": null,
      "outputs": []
    },
    {
      "cell_type": "code",
      "source": [
        "t5"
      ],
      "metadata": {
        "colab": {
          "base_uri": "https://localhost:8080/"
        },
        "id": "gYNnw_Vug7z4",
        "outputId": "c09b27ba-2ca3-4b8f-e82c-69e19361f35c"
      },
      "execution_count": null,
      "outputs": [
        {
          "output_type": "execute_result",
          "data": {
            "text/plain": [
              "7"
            ]
          },
          "metadata": {},
          "execution_count": 106
        }
      ]
    },
    {
      "cell_type": "code",
      "source": [
        "t5=(\"helo\",)# single item tuple"
      ],
      "metadata": {
        "id": "fCOwJLULg8hB"
      },
      "execution_count": null,
      "outputs": []
    },
    {
      "cell_type": "code",
      "source": [
        "t6=tuple(\"goa\")"
      ],
      "metadata": {
        "id": "AgxnoMoShB8d"
      },
      "execution_count": null,
      "outputs": []
    },
    {
      "cell_type": "code",
      "source": [
        "t6"
      ],
      "metadata": {
        "colab": {
          "base_uri": "https://localhost:8080/"
        },
        "id": "0PTHgD7ChCg9",
        "outputId": "2088a1a2-7208-460d-f149-afa125dbcb4d"
      },
      "execution_count": null,
      "outputs": [
        {
          "output_type": "execute_result",
          "data": {
            "text/plain": [
              "('g', 'o', 'a')"
            ]
          },
          "metadata": {},
          "execution_count": 113
        }
      ]
    },
    {
      "cell_type": "code",
      "source": [
        "t6[2]"
      ],
      "metadata": {
        "colab": {
          "base_uri": "https://localhost:8080/",
          "height": 35
        },
        "id": "DR90DBj8hRtM",
        "outputId": "6989f3a2-3f94-49fd-ed61-bf64165cc96f"
      },
      "execution_count": null,
      "outputs": [
        {
          "output_type": "execute_result",
          "data": {
            "text/plain": [
              "'a'"
            ],
            "application/vnd.google.colaboratory.intrinsic+json": {
              "type": "string"
            }
          },
          "metadata": {},
          "execution_count": 114
        }
      ]
    },
    {
      "cell_type": "code",
      "source": [
        "#edit"
      ],
      "metadata": {
        "id": "Sh6LO6qPhVO8"
      },
      "execution_count": null,
      "outputs": []
    },
    {
      "cell_type": "code",
      "source": [
        "t6[1]=10"
      ],
      "metadata": {
        "colab": {
          "base_uri": "https://localhost:8080/",
          "height": 175
        },
        "id": "3k70gulTiGjX",
        "outputId": "e99fa1c1-2a82-48b6-9fed-983939104e77"
      },
      "execution_count": null,
      "outputs": [
        {
          "output_type": "error",
          "ename": "TypeError",
          "evalue": "ignored",
          "traceback": [
            "\u001b[0;31m---------------------------------------------------------------------------\u001b[0m",
            "\u001b[0;31mTypeError\u001b[0m                                 Traceback (most recent call last)",
            "\u001b[0;32m<ipython-input-116-fdcdff46f303>\u001b[0m in \u001b[0;36m<cell line: 1>\u001b[0;34m()\u001b[0m\n\u001b[0;32m----> 1\u001b[0;31m \u001b[0mt6\u001b[0m\u001b[0;34m[\u001b[0m\u001b[0;36m1\u001b[0m\u001b[0;34m]\u001b[0m\u001b[0;34m=\u001b[0m\u001b[0;36m10\u001b[0m\u001b[0;34m\u001b[0m\u001b[0;34m\u001b[0m\u001b[0m\n\u001b[0m",
            "\u001b[0;31mTypeError\u001b[0m: 'tuple' object does not support item assignment"
          ]
        }
      ]
    },
    {
      "cell_type": "code",
      "source": [
        "#does not suport editing"
      ],
      "metadata": {
        "id": "k3uMr1N_iL0B"
      },
      "execution_count": null,
      "outputs": []
    },
    {
      "cell_type": "code",
      "source": [
        "#operations"
      ],
      "metadata": {
        "id": "yRkl6GIliPYu"
      },
      "execution_count": null,
      "outputs": []
    },
    {
      "cell_type": "code",
      "source": [
        "t5+t6"
      ],
      "metadata": {
        "colab": {
          "base_uri": "https://localhost:8080/"
        },
        "id": "jZhJSk0xkZgE",
        "outputId": "2de923a5-2b93-4c52-d50b-6461841f02a4"
      },
      "execution_count": null,
      "outputs": [
        {
          "output_type": "execute_result",
          "data": {
            "text/plain": [
              "('helo', 'g', 'o', 'a')"
            ]
          },
          "metadata": {},
          "execution_count": 119
        }
      ]
    },
    {
      "cell_type": "code",
      "source": [
        "t3 * 3"
      ],
      "metadata": {
        "colab": {
          "base_uri": "https://localhost:8080/"
        },
        "id": "j1GcjKpqkbmj",
        "outputId": "8fa0aedd-b4cc-419b-999f-59cffcbbcc0f"
      },
      "execution_count": null,
      "outputs": [
        {
          "output_type": "execute_result",
          "data": {
            "text/plain": [
              "(1, 2, 3, 4, 'helo', True, 1, 2, 3, 4, 'helo', True, 1, 2, 3, 4, 'helo', True)"
            ]
          },
          "metadata": {},
          "execution_count": 120
        }
      ]
    },
    {
      "cell_type": "code",
      "source": [
        "for i in t2:\n",
        "  print(i)"
      ],
      "metadata": {
        "colab": {
          "base_uri": "https://localhost:8080/"
        },
        "id": "EiE1N3STkeOx",
        "outputId": "06686387-bac5-4e65-da88-cd68dae14e5a"
      },
      "execution_count": null,
      "outputs": [
        {
          "output_type": "stream",
          "name": "stdout",
          "text": [
            "1\n",
            "2\n",
            "3\n",
            "4\n",
            "5\n"
          ]
        }
      ]
    },
    {
      "cell_type": "code",
      "source": [],
      "metadata": {
        "id": "_NH2ZOpkkhi7"
      },
      "execution_count": null,
      "outputs": []
    },
    {
      "cell_type": "markdown",
      "source": [
        "python sets"
      ],
      "metadata": {
        "id": "npVbVXLF8KYh"
      }
    },
    {
      "cell_type": "code",
      "source": [
        "#1. sets dont allow dublicates\n",
        "#2.sets have no indexing/slicing\n",
        "#3.sets donot allow mutable dATA TYPES\n",
        "#4.sets is a mutable data type\n"
      ],
      "metadata": {
        "id": "S6JAJp9h8Lct"
      },
      "execution_count": null,
      "outputs": []
    },
    {
      "cell_type": "code",
      "source": [
        "s1={}"
      ],
      "metadata": {
        "id": "EPTxPFuw8imr"
      },
      "execution_count": null,
      "outputs": []
    },
    {
      "cell_type": "code",
      "source": [
        "s1"
      ],
      "metadata": {
        "colab": {
          "base_uri": "https://localhost:8080/"
        },
        "id": "xQ9YAToj8wU9",
        "outputId": "560056f5-d522-4f2c-ac1f-bd06c4cc51f6"
      },
      "execution_count": null,
      "outputs": [
        {
          "output_type": "execute_result",
          "data": {
            "text/plain": [
              "{}"
            ]
          },
          "metadata": {},
          "execution_count": 3
        }
      ]
    },
    {
      "cell_type": "code",
      "source": [
        "type(s1)"
      ],
      "metadata": {
        "colab": {
          "base_uri": "https://localhost:8080/"
        },
        "id": "TGfQaJlQ8w1L",
        "outputId": "855766f5-afa3-4335-c1b8-74c721418cdc"
      },
      "execution_count": null,
      "outputs": [
        {
          "output_type": "execute_result",
          "data": {
            "text/plain": [
              "dict"
            ]
          },
          "metadata": {},
          "execution_count": 4
        }
      ]
    },
    {
      "cell_type": "code",
      "source": [
        "s1=set({})"
      ],
      "metadata": {
        "id": "qgL8R0FF8z_A"
      },
      "execution_count": null,
      "outputs": []
    },
    {
      "cell_type": "code",
      "source": [
        "type(s1)"
      ],
      "metadata": {
        "colab": {
          "base_uri": "https://localhost:8080/"
        },
        "id": "G61y6A9P82kq",
        "outputId": "59f24995-ed9b-4d51-e221-7e622038c96a"
      },
      "execution_count": null,
      "outputs": [
        {
          "output_type": "execute_result",
          "data": {
            "text/plain": [
              "set"
            ]
          },
          "metadata": {},
          "execution_count": 8
        }
      ]
    },
    {
      "cell_type": "code",
      "source": [
        "s2={1,2,3,4,6}"
      ],
      "metadata": {
        "id": "tArtuSkU83_T"
      },
      "execution_count": null,
      "outputs": []
    },
    {
      "cell_type": "code",
      "source": [
        "s2={1,2,3,\"helo\",True}"
      ],
      "metadata": {
        "id": "krZRsHKf8-Zr"
      },
      "execution_count": null,
      "outputs": []
    },
    {
      "cell_type": "code",
      "source": [
        "s3={1,1,2,3,5}"
      ],
      "metadata": {
        "id": "9x8TWZKw9CRj"
      },
      "execution_count": null,
      "outputs": []
    },
    {
      "cell_type": "code",
      "source": [
        "s3"
      ],
      "metadata": {
        "colab": {
          "base_uri": "https://localhost:8080/"
        },
        "id": "9WD540p99Fxv",
        "outputId": "88fae84a-0424-4bcb-d4e8-e6515ae02257"
      },
      "execution_count": null,
      "outputs": [
        {
          "output_type": "execute_result",
          "data": {
            "text/plain": [
              "{1, 2, 3, 5}"
            ]
          },
          "metadata": {},
          "execution_count": 15
        }
      ]
    },
    {
      "cell_type": "code",
      "source": [
        "s2"
      ],
      "metadata": {
        "colab": {
          "base_uri": "https://localhost:8080/"
        },
        "id": "-xoPUQdX9Gvr",
        "outputId": "7760b97b-2023-4a47-8ab3-d99b959200ed"
      },
      "execution_count": null,
      "outputs": [
        {
          "output_type": "execute_result",
          "data": {
            "text/plain": [
              "{1, 2, 3, 'helo'}"
            ]
          },
          "metadata": {},
          "execution_count": 16
        }
      ]
    },
    {
      "cell_type": "code",
      "source": [
        "#sets have no indexing\n",
        "#hashing"
      ],
      "metadata": {
        "id": "OmfbGPQ_9Rgu"
      },
      "execution_count": null,
      "outputs": []
    },
    {
      "cell_type": "code",
      "source": [
        " s5={{1},2}"
      ],
      "metadata": {
        "colab": {
          "base_uri": "https://localhost:8080/",
          "height": 175
        },
        "id": "nnPVYSUu9YT1",
        "outputId": "6e900e36-fda3-459d-acaa-d43fdad1e133"
      },
      "execution_count": null,
      "outputs": [
        {
          "output_type": "error",
          "ename": "TypeError",
          "evalue": "ignored",
          "traceback": [
            "\u001b[0;31m---------------------------------------------------------------------------\u001b[0m",
            "\u001b[0;31mTypeError\u001b[0m                                 Traceback (most recent call last)",
            "\u001b[0;32m<ipython-input-18-301131cd0714>\u001b[0m in \u001b[0;36m<cell line: 1>\u001b[0;34m()\u001b[0m\n\u001b[0;32m----> 1\u001b[0;31m \u001b[0ms5\u001b[0m\u001b[0;34m=\u001b[0m\u001b[0;34m{\u001b[0m\u001b[0;34m{\u001b[0m\u001b[0;36m1\u001b[0m\u001b[0;34m}\u001b[0m\u001b[0;34m,\u001b[0m\u001b[0;36m2\u001b[0m\u001b[0;34m}\u001b[0m\u001b[0;34m\u001b[0m\u001b[0;34m\u001b[0m\u001b[0m\n\u001b[0m",
            "\u001b[0;31mTypeError\u001b[0m: unhashable type: 'set'"
          ]
        }
      ]
    },
    {
      "cell_type": "code",
      "source": [
        "#access items"
      ],
      "metadata": {
        "id": "YnN2iA7e9hpJ"
      },
      "execution_count": null,
      "outputs": []
    },
    {
      "cell_type": "code",
      "source": [
        "s1([0])"
      ],
      "metadata": {
        "colab": {
          "base_uri": "https://localhost:8080/",
          "height": 175
        },
        "id": "Z6MXCM-59m6e",
        "outputId": "ddbd1b3c-7f9a-419f-f3d2-8e9287f38f87"
      },
      "execution_count": null,
      "outputs": [
        {
          "output_type": "error",
          "ename": "TypeError",
          "evalue": "ignored",
          "traceback": [
            "\u001b[0;31m---------------------------------------------------------------------------\u001b[0m",
            "\u001b[0;31mTypeError\u001b[0m                                 Traceback (most recent call last)",
            "\u001b[0;32m<ipython-input-21-47cb43bf0574>\u001b[0m in \u001b[0;36m<cell line: 1>\u001b[0;34m()\u001b[0m\n\u001b[0;32m----> 1\u001b[0;31m \u001b[0ms1\u001b[0m\u001b[0;34m(\u001b[0m\u001b[0;34m[\u001b[0m\u001b[0;36m0\u001b[0m\u001b[0;34m]\u001b[0m\u001b[0;34m)\u001b[0m\u001b[0;34m\u001b[0m\u001b[0;34m\u001b[0m\u001b[0m\n\u001b[0m",
            "\u001b[0;31mTypeError\u001b[0m: 'set' object is not callable"
          ]
        }
      ]
    },
    {
      "cell_type": "code",
      "source": [
        "#edit items"
      ],
      "metadata": {
        "id": "EQ4wqpU19qtb"
      },
      "execution_count": null,
      "outputs": []
    },
    {
      "cell_type": "code",
      "source": [
        "l=list(s2)"
      ],
      "metadata": {
        "id": "7Nh3TOWy9whl"
      },
      "execution_count": null,
      "outputs": []
    },
    {
      "cell_type": "code",
      "source": [
        "l"
      ],
      "metadata": {
        "colab": {
          "base_uri": "https://localhost:8080/"
        },
        "id": "P02l6AwQ98G5",
        "outputId": "3a3ad6df-fb05-4d54-afcc-0daa7b3e36c7"
      },
      "execution_count": null,
      "outputs": [
        {
          "output_type": "execute_result",
          "data": {
            "text/plain": [
              "[1, 2, 3, 'helo']"
            ]
          },
          "metadata": {},
          "execution_count": 26
        }
      ]
    },
    {
      "cell_type": "code",
      "source": [
        "l[0]=10"
      ],
      "metadata": {
        "id": "oQcJ9tFz997H"
      },
      "execution_count": null,
      "outputs": []
    },
    {
      "cell_type": "code",
      "source": [
        "l"
      ],
      "metadata": {
        "colab": {
          "base_uri": "https://localhost:8080/"
        },
        "id": "tGpbUPBR-EbT",
        "outputId": "409c6e1a-4313-4377-fdc2-9c0ad26b898f"
      },
      "execution_count": null,
      "outputs": [
        {
          "output_type": "execute_result",
          "data": {
            "text/plain": [
              "[10, 2, 3, 'helo']"
            ]
          },
          "metadata": {},
          "execution_count": 28
        }
      ]
    },
    {
      "cell_type": "code",
      "source": [
        "id(l)"
      ],
      "metadata": {
        "colab": {
          "base_uri": "https://localhost:8080/"
        },
        "id": "_v7fslvh-FNT",
        "outputId": "e53b7cb5-e07c-4128-cca2-a0e1f3132209"
      },
      "execution_count": null,
      "outputs": [
        {
          "output_type": "execute_result",
          "data": {
            "text/plain": [
              "134433027817088"
            ]
          },
          "metadata": {},
          "execution_count": 29
        }
      ]
    },
    {
      "cell_type": "code",
      "source": [
        "id(s2)"
      ],
      "metadata": {
        "colab": {
          "base_uri": "https://localhost:8080/"
        },
        "id": "kI4nEWyU-G3U",
        "outputId": "26eacc5a-68e3-4c64-a8ca-063adc226c06"
      },
      "execution_count": null,
      "outputs": [
        {
          "output_type": "execute_result",
          "data": {
            "text/plain": [
              "134433304670080"
            ]
          },
          "metadata": {},
          "execution_count": 30
        }
      ]
    },
    {
      "cell_type": "code",
      "source": [
        "s2.add(4)"
      ],
      "metadata": {
        "id": "frUDARVP-I0E"
      },
      "execution_count": null,
      "outputs": []
    },
    {
      "cell_type": "code",
      "source": [
        "s2"
      ],
      "metadata": {
        "colab": {
          "base_uri": "https://localhost:8080/"
        },
        "id": "h9xtpHQU-Ncl",
        "outputId": "8c487603-d35c-47d5-8432-d71e17447d0d"
      },
      "execution_count": null,
      "outputs": [
        {
          "output_type": "execute_result",
          "data": {
            "text/plain": [
              "{1, 2, 3, 4, 'helo'}"
            ]
          },
          "metadata": {},
          "execution_count": 32
        }
      ]
    },
    {
      "cell_type": "code",
      "source": [
        "#delete\n",
        "del s2"
      ],
      "metadata": {
        "id": "nNKLY112-ORq"
      },
      "execution_count": null,
      "outputs": []
    },
    {
      "cell_type": "code",
      "source": [
        "s2"
      ],
      "metadata": {
        "colab": {
          "base_uri": "https://localhost:8080/",
          "height": 175
        },
        "id": "JavYcQVG-X7V",
        "outputId": "1f7c95ce-79dc-4394-8389-f83262607b1c"
      },
      "execution_count": null,
      "outputs": [
        {
          "output_type": "error",
          "ename": "NameError",
          "evalue": "ignored",
          "traceback": [
            "\u001b[0;31m---------------------------------------------------------------------------\u001b[0m",
            "\u001b[0;31mNameError\u001b[0m                                 Traceback (most recent call last)",
            "\u001b[0;32m<ipython-input-34-630081a5992e>\u001b[0m in \u001b[0;36m<cell line: 1>\u001b[0;34m()\u001b[0m\n\u001b[0;32m----> 1\u001b[0;31m \u001b[0ms2\u001b[0m\u001b[0;34m\u001b[0m\u001b[0;34m\u001b[0m\u001b[0m\n\u001b[0m",
            "\u001b[0;31mNameError\u001b[0m: name 's2' is not defined"
          ]
        }
      ]
    },
    {
      "cell_type": "code",
      "source": [
        "del s3[1]"
      ],
      "metadata": {
        "colab": {
          "base_uri": "https://localhost:8080/",
          "height": 175
        },
        "id": "fZpmNKeV-Y05",
        "outputId": "903f6082-7d97-4f08-885d-9a76e54363ad"
      },
      "execution_count": null,
      "outputs": [
        {
          "output_type": "error",
          "ename": "TypeError",
          "evalue": "ignored",
          "traceback": [
            "\u001b[0;31m---------------------------------------------------------------------------\u001b[0m",
            "\u001b[0;31mTypeError\u001b[0m                                 Traceback (most recent call last)",
            "\u001b[0;32m<ipython-input-35-e24b6342275f>\u001b[0m in \u001b[0;36m<cell line: 1>\u001b[0;34m()\u001b[0m\n\u001b[0;32m----> 1\u001b[0;31m \u001b[0;32mdel\u001b[0m \u001b[0ms3\u001b[0m\u001b[0;34m[\u001b[0m\u001b[0;36m1\u001b[0m\u001b[0;34m]\u001b[0m\u001b[0;34m\u001b[0m\u001b[0;34m\u001b[0m\u001b[0m\n\u001b[0m",
            "\u001b[0;31mTypeError\u001b[0m: 'set' object doesn't support item deletion"
          ]
        }
      ]
    },
    {
      "cell_type": "code",
      "source": [
        "s3.remove(1)"
      ],
      "metadata": {
        "id": "KKc_kiua-bdL"
      },
      "execution_count": null,
      "outputs": []
    },
    {
      "cell_type": "code",
      "source": [
        "s3"
      ],
      "metadata": {
        "colab": {
          "base_uri": "https://localhost:8080/"
        },
        "id": "9o7wclJV-hid",
        "outputId": "6ffa1c75-4851-46d0-cf99-83896e49a686"
      },
      "execution_count": null,
      "outputs": [
        {
          "output_type": "execute_result",
          "data": {
            "text/plain": [
              "{2, 3, 5}"
            ]
          },
          "metadata": {},
          "execution_count": 37
        }
      ]
    },
    {
      "cell_type": "code",
      "source": [
        "s3.pop()"
      ],
      "metadata": {
        "colab": {
          "base_uri": "https://localhost:8080/"
        },
        "id": "vsYcTSBP-ikm",
        "outputId": "2a1a0ef0-3071-4a7e-86c8-98056cea5065"
      },
      "execution_count": null,
      "outputs": [
        {
          "output_type": "execute_result",
          "data": {
            "text/plain": [
              "2"
            ]
          },
          "metadata": {},
          "execution_count": 38
        }
      ]
    },
    {
      "cell_type": "code",
      "source": [
        "s3"
      ],
      "metadata": {
        "colab": {
          "base_uri": "https://localhost:8080/"
        },
        "id": "YNTHyVge-kzV",
        "outputId": "b69a09a8-c6f3-404c-e874-e2c8e6fbca66"
      },
      "execution_count": null,
      "outputs": [
        {
          "output_type": "execute_result",
          "data": {
            "text/plain": [
              "{3, 5}"
            ]
          },
          "metadata": {},
          "execution_count": 39
        }
      ]
    },
    {
      "cell_type": "code",
      "source": [
        "len(s3)"
      ],
      "metadata": {
        "colab": {
          "base_uri": "https://localhost:8080/"
        },
        "id": "lqqqyCQv-mRe",
        "outputId": "b32df4e4-c069-45e4-b162-12e0e588b52c"
      },
      "execution_count": null,
      "outputs": [
        {
          "output_type": "execute_result",
          "data": {
            "text/plain": [
              "2"
            ]
          },
          "metadata": {},
          "execution_count": 40
        }
      ]
    },
    {
      "cell_type": "code",
      "source": [
        "max(s3)"
      ],
      "metadata": {
        "colab": {
          "base_uri": "https://localhost:8080/"
        },
        "id": "hnr1Qst3-5sk",
        "outputId": "d7984c5d-79ba-469c-b9e5-dbfa16066303"
      },
      "execution_count": null,
      "outputs": [
        {
          "output_type": "execute_result",
          "data": {
            "text/plain": [
              "5"
            ]
          },
          "metadata": {},
          "execution_count": 41
        }
      ]
    },
    {
      "cell_type": "code",
      "source": [
        "sorted(s3,reverse=True)"
      ],
      "metadata": {
        "colab": {
          "base_uri": "https://localhost:8080/"
        },
        "id": "H74_f5o5-7wY",
        "outputId": "2989c7e8-3e81-4c99-dd5c-6022f20b9c61"
      },
      "execution_count": null,
      "outputs": [
        {
          "output_type": "execute_result",
          "data": {
            "text/plain": [
              "[5, 3]"
            ]
          },
          "metadata": {},
          "execution_count": 43
        }
      ]
    },
    {
      "cell_type": "code",
      "source": [
        "s3.union"
      ],
      "metadata": {
        "colab": {
          "base_uri": "https://localhost:8080/"
        },
        "id": "GjW2w7Rx-9vw",
        "outputId": "0ae28592-88f2-44f9-c0ae-bde757e0abc3"
      },
      "execution_count": null,
      "outputs": [
        {
          "output_type": "execute_result",
          "data": {
            "text/plain": [
              "<function set.union>"
            ]
          },
          "metadata": {},
          "execution_count": 44
        }
      ]
    },
    {
      "cell_type": "code",
      "source": [
        "s2={2,3,4,5,6,7,8,9}"
      ],
      "metadata": {
        "id": "7ACTmE3P_EAl"
      },
      "execution_count": null,
      "outputs": []
    },
    {
      "cell_type": "code",
      "source": [
        "s3.union(s2)"
      ],
      "metadata": {
        "colab": {
          "base_uri": "https://localhost:8080/"
        },
        "id": "opqwFB8y_HqC",
        "outputId": "c425d78f-9095-418d-bdde-feecd9852889"
      },
      "execution_count": null,
      "outputs": [
        {
          "output_type": "execute_result",
          "data": {
            "text/plain": [
              "{2, 3, 4, 5, 6, 7, 8, 9}"
            ]
          },
          "metadata": {},
          "execution_count": 48
        }
      ]
    },
    {
      "cell_type": "code",
      "source": [
        "s3.intersection(s2)"
      ],
      "metadata": {
        "colab": {
          "base_uri": "https://localhost:8080/"
        },
        "id": "buwOcAUv_JWb",
        "outputId": "48204a70-9d44-4c56-c42b-852d3347a666"
      },
      "execution_count": null,
      "outputs": [
        {
          "output_type": "execute_result",
          "data": {
            "text/plain": [
              "{3, 5}"
            ]
          },
          "metadata": {},
          "execution_count": 49
        }
      ]
    },
    {
      "cell_type": "code",
      "source": [
        "s3.isdisjoint(s2)"
      ],
      "metadata": {
        "colab": {
          "base_uri": "https://localhost:8080/"
        },
        "id": "aQd5091u_SFJ",
        "outputId": "2b60f679-8206-4cb2-e107-e9149ad0630a"
      },
      "execution_count": null,
      "outputs": [
        {
          "output_type": "execute_result",
          "data": {
            "text/plain": [
              "False"
            ]
          },
          "metadata": {},
          "execution_count": 50
        }
      ]
    },
    {
      "cell_type": "code",
      "source": [
        "s3.issuperset(s2)"
      ],
      "metadata": {
        "colab": {
          "base_uri": "https://localhost:8080/"
        },
        "id": "jp95Ii_x_Wr7",
        "outputId": "944e388b-9ab8-4aff-80b2-810439e35087"
      },
      "execution_count": null,
      "outputs": [
        {
          "output_type": "execute_result",
          "data": {
            "text/plain": [
              "False"
            ]
          },
          "metadata": {},
          "execution_count": 51
        }
      ]
    },
    {
      "cell_type": "code",
      "source": [],
      "metadata": {
        "id": "5-Xq1JDY_ier"
      },
      "execution_count": null,
      "outputs": []
    },
    {
      "cell_type": "markdown",
      "source": [
        "dictionary"
      ],
      "metadata": {
        "id": "al5F6rNt_odf"
      }
    },
    {
      "cell_type": "code",
      "source": [
        "d={\"name\":\"Reena\",\"gender\":\"female\",\"age\":26}"
      ],
      "metadata": {
        "id": "HW3F-UYO_p1B"
      },
      "execution_count": null,
      "outputs": []
    },
    {
      "cell_type": "code",
      "source": [
        "#dict has no indexing\n",
        "#dict is mutable\n",
        "keys is immputable\n",
        "keys should be unique\n",
        "###mutable-list/sets/dict\n",
        "immputable-strings/tuples/int/float/boolean/complex\n"
      ],
      "metadata": {
        "colab": {
          "base_uri": "https://localhost:8080/",
          "height": 140
        },
        "id": "5QeFwLi8_08k",
        "outputId": "dd028ac7-9b1f-4664-8a9b-e1ba8c496ef9"
      },
      "execution_count": null,
      "outputs": [
        {
          "output_type": "error",
          "ename": "SyntaxError",
          "evalue": "ignored",
          "traceback": [
            "\u001b[0;36m  File \u001b[0;32m\"<ipython-input-53-09fbdb0b2f11>\"\u001b[0;36m, line \u001b[0;32m4\u001b[0m\n\u001b[0;31m    keys should be unique\u001b[0m\n\u001b[0m         ^\u001b[0m\n\u001b[0;31mSyntaxError\u001b[0m\u001b[0;31m:\u001b[0m invalid syntax\n"
          ]
        }
      ]
    },
    {
      "cell_type": "code",
      "source": [
        "d1={{1,2,3}:\"Reena\"}"
      ],
      "metadata": {
        "colab": {
          "base_uri": "https://localhost:8080/",
          "height": 175
        },
        "id": "t_oWk5IAAXRX",
        "outputId": "e9411528-bd44-4d48-da34-e781cc804cbc"
      },
      "execution_count": null,
      "outputs": [
        {
          "output_type": "error",
          "ename": "TypeError",
          "evalue": "ignored",
          "traceback": [
            "\u001b[0;31m---------------------------------------------------------------------------\u001b[0m",
            "\u001b[0;31mTypeError\u001b[0m                                 Traceback (most recent call last)",
            "\u001b[0;32m<ipython-input-54-dfbcad1d9b7f>\u001b[0m in \u001b[0;36m<cell line: 1>\u001b[0;34m()\u001b[0m\n\u001b[0;32m----> 1\u001b[0;31m \u001b[0md1\u001b[0m\u001b[0;34m=\u001b[0m\u001b[0;34m{\u001b[0m\u001b[0;34m{\u001b[0m\u001b[0;36m1\u001b[0m\u001b[0;34m,\u001b[0m\u001b[0;36m2\u001b[0m\u001b[0;34m,\u001b[0m\u001b[0;36m3\u001b[0m\u001b[0;34m}\u001b[0m\u001b[0;34m:\u001b[0m\u001b[0;34m\"Reena\"\u001b[0m\u001b[0;34m}\u001b[0m\u001b[0;34m\u001b[0m\u001b[0;34m\u001b[0m\u001b[0m\n\u001b[0m",
            "\u001b[0;31mTypeError\u001b[0m: unhashable type: 'set'"
          ]
        }
      ]
    },
    {
      "cell_type": "code",
      "source": [
        "d1"
      ],
      "metadata": {
        "colab": {
          "base_uri": "https://localhost:8080/",
          "height": 175
        },
        "id": "5kIrJI1XAk-r",
        "outputId": "16b0f33e-c503-410f-a0fe-1cfc58ea4f34"
      },
      "execution_count": null,
      "outputs": [
        {
          "output_type": "error",
          "ename": "NameError",
          "evalue": "ignored",
          "traceback": [
            "\u001b[0;31m---------------------------------------------------------------------------\u001b[0m",
            "\u001b[0;31mNameError\u001b[0m                                 Traceback (most recent call last)",
            "\u001b[0;32m<ipython-input-55-2d3a24957153>\u001b[0m in \u001b[0;36m<cell line: 1>\u001b[0;34m()\u001b[0m\n\u001b[0;32m----> 1\u001b[0;31m \u001b[0md1\u001b[0m\u001b[0;34m\u001b[0m\u001b[0;34m\u001b[0m\u001b[0m\n\u001b[0m",
            "\u001b[0;31mNameError\u001b[0m: name 'd1' is not defined"
          ]
        }
      ]
    },
    {
      "cell_type": "code",
      "source": [
        "#access items"
      ],
      "metadata": {
        "id": "wBWQ0WIcAlfC"
      },
      "execution_count": null,
      "outputs": []
    },
    {
      "cell_type": "code",
      "source": [
        "d[0]"
      ],
      "metadata": {
        "colab": {
          "base_uri": "https://localhost:8080/",
          "height": 175
        },
        "id": "WLzx3NweA8Dv",
        "outputId": "02101991-4f1b-42f0-8cae-7990d21c8917"
      },
      "execution_count": null,
      "outputs": [
        {
          "output_type": "error",
          "ename": "KeyError",
          "evalue": "ignored",
          "traceback": [
            "\u001b[0;31m---------------------------------------------------------------------------\u001b[0m",
            "\u001b[0;31mKeyError\u001b[0m                                  Traceback (most recent call last)",
            "\u001b[0;32m<ipython-input-57-123a9cc6df61>\u001b[0m in \u001b[0;36m<cell line: 1>\u001b[0;34m()\u001b[0m\n\u001b[0;32m----> 1\u001b[0;31m \u001b[0md\u001b[0m\u001b[0;34m[\u001b[0m\u001b[0;36m0\u001b[0m\u001b[0;34m]\u001b[0m\u001b[0;34m\u001b[0m\u001b[0;34m\u001b[0m\u001b[0m\n\u001b[0m",
            "\u001b[0;31mKeyError\u001b[0m: 0"
          ]
        }
      ]
    },
    {
      "cell_type": "code",
      "source": [
        "d['name']"
      ],
      "metadata": {
        "colab": {
          "base_uri": "https://localhost:8080/",
          "height": 35
        },
        "id": "OXEz1qP0A-tY",
        "outputId": "f29a4042-6ac8-44a6-beee-2aca35f8f7f8"
      },
      "execution_count": null,
      "outputs": [
        {
          "output_type": "execute_result",
          "data": {
            "text/plain": [
              "'Reena'"
            ],
            "application/vnd.google.colaboratory.intrinsic+json": {
              "type": "string"
            }
          },
          "metadata": {},
          "execution_count": 59
        }
      ]
    },
    {
      "cell_type": "code",
      "source": [
        "d['gender']"
      ],
      "metadata": {
        "colab": {
          "base_uri": "https://localhost:8080/",
          "height": 35
        },
        "id": "EOw806U7BBmR",
        "outputId": "b3180cb8-2394-451e-c673-47c6ac4cfddb"
      },
      "execution_count": null,
      "outputs": [
        {
          "output_type": "execute_result",
          "data": {
            "text/plain": [
              "'female'"
            ],
            "application/vnd.google.colaboratory.intrinsic+json": {
              "type": "string"
            }
          },
          "metadata": {},
          "execution_count": 60
        }
      ]
    },
    {
      "cell_type": "code",
      "source": [
        "d['name']=\"lohan\""
      ],
      "metadata": {
        "id": "LPzvwwKABG8K"
      },
      "execution_count": null,
      "outputs": []
    },
    {
      "cell_type": "code",
      "source": [
        "d"
      ],
      "metadata": {
        "colab": {
          "base_uri": "https://localhost:8080/"
        },
        "id": "L9FmVwGIBeFT",
        "outputId": "8dece743-006f-43cf-e41c-d932cd64d4ce"
      },
      "execution_count": null,
      "outputs": [
        {
          "output_type": "execute_result",
          "data": {
            "text/plain": [
              "{'name': 'lohan', 'gender': 'female', 'age': 26}"
            ]
          },
          "metadata": {},
          "execution_count": 62
        }
      ]
    },
    {
      "cell_type": "code",
      "source": [
        "d.get(\"name\")"
      ],
      "metadata": {
        "colab": {
          "base_uri": "https://localhost:8080/",
          "height": 35
        },
        "id": "-MPG4c-gBepa",
        "outputId": "5304c313-c533-4a53-eac7-5f70910acfef"
      },
      "execution_count": null,
      "outputs": [
        {
          "output_type": "execute_result",
          "data": {
            "text/plain": [
              "'lohan'"
            ],
            "application/vnd.google.colaboratory.intrinsic+json": {
              "type": "string"
            }
          },
          "metadata": {},
          "execution_count": 63
        }
      ]
    },
    {
      "cell_type": "code",
      "source": [
        "d[\"marks\"]=78"
      ],
      "metadata": {
        "id": "LMZgpgYEBnVH"
      },
      "execution_count": null,
      "outputs": []
    },
    {
      "cell_type": "code",
      "source": [
        "d"
      ],
      "metadata": {
        "colab": {
          "base_uri": "https://localhost:8080/"
        },
        "id": "oM8hsuXCB1pY",
        "outputId": "c583867f-b162-4f07-c6d0-d6a69c656f16"
      },
      "execution_count": null,
      "outputs": [
        {
          "output_type": "execute_result",
          "data": {
            "text/plain": [
              "{'name': 'lohan', 'gender': 'female', 'age': 26, 'marks': 78}"
            ]
          },
          "metadata": {},
          "execution_count": 66
        }
      ]
    },
    {
      "cell_type": "code",
      "source": [
        "del d1"
      ],
      "metadata": {
        "colab": {
          "base_uri": "https://localhost:8080/",
          "height": 175
        },
        "id": "_CuscXY_B9KS",
        "outputId": "83dc60af-0945-44ab-dfad-97b066324ef5"
      },
      "execution_count": null,
      "outputs": [
        {
          "output_type": "error",
          "ename": "NameError",
          "evalue": "ignored",
          "traceback": [
            "\u001b[0;31m---------------------------------------------------------------------------\u001b[0m",
            "\u001b[0;31mNameError\u001b[0m                                 Traceback (most recent call last)",
            "\u001b[0;32m<ipython-input-67-db10cd28a397>\u001b[0m in \u001b[0;36m<cell line: 1>\u001b[0;34m()\u001b[0m\n\u001b[0;32m----> 1\u001b[0;31m \u001b[0;32mdel\u001b[0m \u001b[0md1\u001b[0m\u001b[0;34m\u001b[0m\u001b[0;34m\u001b[0m\u001b[0m\n\u001b[0m",
            "\u001b[0;31mNameError\u001b[0m: name 'd1' is not defined"
          ]
        }
      ]
    },
    {
      "cell_type": "code",
      "source": [
        "del d['age']"
      ],
      "metadata": {
        "id": "z2zUaQmDB_rx"
      },
      "execution_count": null,
      "outputs": []
    },
    {
      "cell_type": "code",
      "source": [
        "d"
      ],
      "metadata": {
        "colab": {
          "base_uri": "https://localhost:8080/"
        },
        "id": "23ey5ViBCDV1",
        "outputId": "6319070d-04f7-484e-ce48-952786909299"
      },
      "execution_count": null,
      "outputs": [
        {
          "output_type": "execute_result",
          "data": {
            "text/plain": [
              "{'name': 'lohan', 'gender': 'female', 'marks': 78}"
            ]
          },
          "metadata": {},
          "execution_count": 69
        }
      ]
    },
    {
      "cell_type": "code",
      "source": [
        "'lohan' in d"
      ],
      "metadata": {
        "colab": {
          "base_uri": "https://localhost:8080/"
        },
        "id": "8r-pcXZGCEE8",
        "outputId": "15b1e234-c0cf-46c9-82b4-a8aba6139cf7"
      },
      "execution_count": null,
      "outputs": [
        {
          "output_type": "execute_result",
          "data": {
            "text/plain": [
              "False"
            ]
          },
          "metadata": {},
          "execution_count": 70
        }
      ]
    },
    {
      "cell_type": "code",
      "source": [
        "'name' in d"
      ],
      "metadata": {
        "colab": {
          "base_uri": "https://localhost:8080/"
        },
        "id": "LPeTR-2JCaMM",
        "outputId": "ec54487b-7964-4a94-c794-6a28a19ef9af"
      },
      "execution_count": null,
      "outputs": [
        {
          "output_type": "execute_result",
          "data": {
            "text/plain": [
              "True"
            ]
          },
          "metadata": {},
          "execution_count": 71
        }
      ]
    },
    {
      "cell_type": "code",
      "source": [
        "sorted(d)"
      ],
      "metadata": {
        "colab": {
          "base_uri": "https://localhost:8080/"
        },
        "id": "N7YOAH8BCdtp",
        "outputId": "180c6d0a-70a0-4641-b586-f480781c07b3"
      },
      "execution_count": null,
      "outputs": [
        {
          "output_type": "execute_result",
          "data": {
            "text/plain": [
              "['gender', 'marks', 'name']"
            ]
          },
          "metadata": {},
          "execution_count": 73
        }
      ]
    },
    {
      "cell_type": "code",
      "source": [],
      "metadata": {
        "id": "uQncUwB2Cuot"
      },
      "execution_count": null,
      "outputs": []
    },
    {
      "cell_type": "markdown",
      "source": [
        "variable and memory reference"
      ],
      "metadata": {
        "id": "__hkGg4CDPfL"
      }
    },
    {
      "cell_type": "code",
      "source": [
        "a=4"
      ],
      "metadata": {
        "id": "t2KMlQW_DSkd"
      },
      "execution_count": null,
      "outputs": []
    },
    {
      "cell_type": "code",
      "source": [
        "id(4)"
      ],
      "metadata": {
        "colab": {
          "base_uri": "https://localhost:8080/"
        },
        "id": "pSOomNRhEA3m",
        "outputId": "150612c1-e190-4f9a-9612-de2b67ef3beb"
      },
      "execution_count": null,
      "outputs": [
        {
          "output_type": "execute_result",
          "data": {
            "text/plain": [
              "134433730527568"
            ]
          },
          "metadata": {},
          "execution_count": 75
        }
      ]
    },
    {
      "cell_type": "code",
      "source": [
        "id(4)"
      ],
      "metadata": {
        "colab": {
          "base_uri": "https://localhost:8080/"
        },
        "id": "14RtzfcnEB4_",
        "outputId": "cb5aa349-22f6-44d3-e209-fead895b0aa1"
      },
      "execution_count": null,
      "outputs": [
        {
          "output_type": "execute_result",
          "data": {
            "text/plain": [
              "134433730527568"
            ]
          },
          "metadata": {},
          "execution_count": 76
        }
      ]
    },
    {
      "cell_type": "code",
      "source": [
        "a=5"
      ],
      "metadata": {
        "id": "WjBlWuKDEGRE"
      },
      "execution_count": null,
      "outputs": []
    },
    {
      "cell_type": "code",
      "source": [
        "b=a"
      ],
      "metadata": {
        "id": "QphCBxToEWSa"
      },
      "execution_count": null,
      "outputs": []
    },
    {
      "cell_type": "code",
      "source": [
        "id(a)"
      ],
      "metadata": {
        "colab": {
          "base_uri": "https://localhost:8080/"
        },
        "id": "Fj29o4s8EX-Y",
        "outputId": "80046cf7-fb20-48be-f9a6-fc951b475862"
      },
      "execution_count": null,
      "outputs": [
        {
          "output_type": "execute_result",
          "data": {
            "text/plain": [
              "134433730527600"
            ]
          },
          "metadata": {},
          "execution_count": 79
        }
      ]
    },
    {
      "cell_type": "code",
      "source": [
        "id(b)"
      ],
      "metadata": {
        "colab": {
          "base_uri": "https://localhost:8080/"
        },
        "id": "rnqxsHc7EZAJ",
        "outputId": "5cf5093d-ef94-47bd-a70f-9074e73fe5ae"
      },
      "execution_count": null,
      "outputs": [
        {
          "output_type": "execute_result",
          "data": {
            "text/plain": [
              "134433730527600"
            ]
          },
          "metadata": {},
          "execution_count": 80
        }
      ]
    },
    {
      "cell_type": "code",
      "source": [
        "c=b"
      ],
      "metadata": {
        "id": "_U4HZNUTEayc"
      },
      "execution_count": null,
      "outputs": []
    },
    {
      "cell_type": "code",
      "source": [
        "id(c)"
      ],
      "metadata": {
        "colab": {
          "base_uri": "https://localhost:8080/"
        },
        "id": "t0X35_gjEdNW",
        "outputId": "20a36981-9734-492d-abbd-282177a0ceac"
      },
      "execution_count": null,
      "outputs": [
        {
          "output_type": "execute_result",
          "data": {
            "text/plain": [
              "134433730527600"
            ]
          },
          "metadata": {},
          "execution_count": 82
        }
      ]
    },
    {
      "cell_type": "code",
      "source": [
        "del a"
      ],
      "metadata": {
        "id": "OOpoPmX_EeLi"
      },
      "execution_count": null,
      "outputs": []
    },
    {
      "cell_type": "code",
      "source": [
        "b"
      ],
      "metadata": {
        "colab": {
          "base_uri": "https://localhost:8080/"
        },
        "id": "d54uhrgAEg4n",
        "outputId": "236a7d01-a4e0-4938-a43a-89c4bffd7241"
      },
      "execution_count": null,
      "outputs": [
        {
          "output_type": "execute_result",
          "data": {
            "text/plain": [
              "5"
            ]
          },
          "metadata": {},
          "execution_count": 84
        }
      ]
    },
    {
      "cell_type": "code",
      "source": [
        "del b"
      ],
      "metadata": {
        "id": "GGwPco6CEhwx"
      },
      "execution_count": null,
      "outputs": []
    },
    {
      "cell_type": "code",
      "source": [
        "c"
      ],
      "metadata": {
        "colab": {
          "base_uri": "https://localhost:8080/"
        },
        "id": "EeO0nkJEEkxq",
        "outputId": "84ad86c7-d06d-4598-8192-15f41b4d4bf3"
      },
      "execution_count": null,
      "outputs": [
        {
          "output_type": "execute_result",
          "data": {
            "text/plain": [
              "5"
            ]
          },
          "metadata": {},
          "execution_count": 86
        }
      ]
    },
    {
      "cell_type": "code",
      "source": [],
      "metadata": {
        "id": "ibwVu4R6EljB"
      },
      "execution_count": null,
      "outputs": []
    },
    {
      "cell_type": "markdown",
      "source": [
        "reference counting**"
      ],
      "metadata": {
        "id": "pjn2JbPFE2rA"
      }
    },
    {
      "cell_type": "code",
      "source": [
        "import sys"
      ],
      "metadata": {
        "id": "M8oIxBa-E6t9"
      },
      "execution_count": null,
      "outputs": []
    },
    {
      "cell_type": "code",
      "source": [
        "a='reena'"
      ],
      "metadata": {
        "id": "0FLTwF8pE9AJ"
      },
      "execution_count": null,
      "outputs": []
    },
    {
      "cell_type": "code",
      "source": [
        "b=a"
      ],
      "metadata": {
        "id": "Q9J8JxmSE-zF"
      },
      "execution_count": null,
      "outputs": []
    },
    {
      "cell_type": "code",
      "source": [
        "\n",
        "c=b"
      ],
      "metadata": {
        "id": "G0ScBR5jFBF6"
      },
      "execution_count": null,
      "outputs": []
    },
    {
      "cell_type": "code",
      "source": [
        "sys.getrefcount(c)"
      ],
      "metadata": {
        "colab": {
          "base_uri": "https://localhost:8080/"
        },
        "id": "qJnMR9EWFB0G",
        "outputId": "925841b5-c232-404b-d2c1-695cb11d89b7"
      },
      "execution_count": null,
      "outputs": [
        {
          "output_type": "execute_result",
          "data": {
            "text/plain": [
              "7"
            ]
          },
          "metadata": {},
          "execution_count": 99
        }
      ]
    },
    {
      "cell_type": "code",
      "source": [],
      "metadata": {
        "id": "JfJFBoYmFHWV"
      },
      "execution_count": null,
      "outputs": []
    },
    {
      "cell_type": "markdown",
      "source": [
        "garbage collection"
      ],
      "metadata": {
        "id": "_dFHHl0zFY5c"
      }
    },
    {
      "cell_type": "code",
      "source": [
        "a=2\n",
        "b=a\n",
        "c=b"
      ],
      "metadata": {
        "id": "ivm0gUBXFbZA"
      },
      "execution_count": null,
      "outputs": []
    },
    {
      "cell_type": "code",
      "source": [
        "sys.getrefcount(a)"
      ],
      "metadata": {
        "colab": {
          "base_uri": "https://localhost:8080/"
        },
        "id": "ET972EK6GQ-H",
        "outputId": "451aba89-d327-4572-8a89-524d4dba0667"
      },
      "execution_count": null,
      "outputs": [
        {
          "output_type": "execute_result",
          "data": {
            "text/plain": [
              "9195"
            ]
          },
          "metadata": {},
          "execution_count": 101
        }
      ]
    },
    {
      "cell_type": "code",
      "source": [
        "a=781\n",
        "b=a\n",
        "c=b"
      ],
      "metadata": {
        "id": "1D4hd_l9GUWD"
      },
      "execution_count": null,
      "outputs": []
    },
    {
      "cell_type": "code",
      "source": [
        "sys.getrefcount(a)"
      ],
      "metadata": {
        "colab": {
          "base_uri": "https://localhost:8080/"
        },
        "id": "uIY2OaHOGh6y",
        "outputId": "0f3ed571-4f64-4728-9d06-9353d0ed1b11"
      },
      "execution_count": null,
      "outputs": [
        {
          "output_type": "execute_result",
          "data": {
            "text/plain": [
              "7"
            ]
          },
          "metadata": {},
          "execution_count": 103
        }
      ]
    },
    {
      "cell_type": "code",
      "source": [
        "d=c"
      ],
      "metadata": {
        "id": "KDHBwTGIGlgc"
      },
      "execution_count": null,
      "outputs": []
    },
    {
      "cell_type": "code",
      "source": [
        "sys.getrefcount(c)"
      ],
      "metadata": {
        "colab": {
          "base_uri": "https://localhost:8080/"
        },
        "id": "yAqWip7yGzNb",
        "outputId": "817303a2-e2bf-4e58-aa1b-9a7f95f55734"
      },
      "execution_count": null,
      "outputs": [
        {
          "output_type": "execute_result",
          "data": {
            "text/plain": [
              "9"
            ]
          },
          "metadata": {},
          "execution_count": 105
        }
      ]
    },
    {
      "cell_type": "code",
      "source": [
        "id(a)"
      ],
      "metadata": {
        "colab": {
          "base_uri": "https://localhost:8080/"
        },
        "id": "ZIMnvdvUG1Ru",
        "outputId": "e53da7e9-7dcb-45b0-dd70-d4bf5c3d2aed"
      },
      "execution_count": null,
      "outputs": [
        {
          "output_type": "execute_result",
          "data": {
            "text/plain": [
              "134432459415504"
            ]
          },
          "metadata": {},
          "execution_count": 106
        }
      ]
    },
    {
      "cell_type": "code",
      "source": [
        "id(c)"
      ],
      "metadata": {
        "colab": {
          "base_uri": "https://localhost:8080/"
        },
        "id": "Qm8SL5ObG4Yt",
        "outputId": "40809dcf-24e5-4867-ee20-01846fa482c7"
      },
      "execution_count": null,
      "outputs": [
        {
          "output_type": "execute_result",
          "data": {
            "text/plain": [
              "134432459415504"
            ]
          },
          "metadata": {},
          "execution_count": 107
        }
      ]
    },
    {
      "cell_type": "code",
      "source": [
        "id(b)"
      ],
      "metadata": {
        "colab": {
          "base_uri": "https://localhost:8080/"
        },
        "id": "X-_wbJQUG5d9",
        "outputId": "acdd1681-25fc-4fef-9653-9dc11d91cdc2"
      },
      "execution_count": null,
      "outputs": [
        {
          "output_type": "execute_result",
          "data": {
            "text/plain": [
              "134432459415504"
            ]
          },
          "metadata": {},
          "execution_count": 108
        }
      ]
    },
    {
      "cell_type": "code",
      "source": [
        "id(d)"
      ],
      "metadata": {
        "colab": {
          "base_uri": "https://localhost:8080/"
        },
        "id": "mjHeFzuNG9gz",
        "outputId": "66306663-6237-4748-910f-16dbe7169118"
      },
      "execution_count": null,
      "outputs": [
        {
          "output_type": "execute_result",
          "data": {
            "text/plain": [
              "134432459415504"
            ]
          },
          "metadata": {},
          "execution_count": 109
        }
      ]
    },
    {
      "cell_type": "code",
      "source": [
        "a=345\n",
        "b=345"
      ],
      "metadata": {
        "id": "93ZO_i8RG_uX"
      },
      "execution_count": null,
      "outputs": []
    },
    {
      "cell_type": "code",
      "source": [
        "id(a)"
      ],
      "metadata": {
        "colab": {
          "base_uri": "https://localhost:8080/"
        },
        "id": "2FejN1tUHDb3",
        "outputId": "ce2e4b41-c065-42c2-f928-0d0dc57bad8b"
      },
      "execution_count": null,
      "outputs": [
        {
          "output_type": "execute_result",
          "data": {
            "text/plain": [
              "134432459417520"
            ]
          },
          "metadata": {},
          "execution_count": 111
        }
      ]
    },
    {
      "cell_type": "code",
      "source": [
        "id(b)"
      ],
      "metadata": {
        "colab": {
          "base_uri": "https://localhost:8080/"
        },
        "id": "_VlYPb7HHEbV",
        "outputId": "760944bc-e1cf-481c-ab3d-5bd482e20cf9"
      },
      "execution_count": null,
      "outputs": [
        {
          "output_type": "execute_result",
          "data": {
            "text/plain": [
              "134432459407664"
            ]
          },
          "metadata": {},
          "execution_count": 112
        }
      ]
    },
    {
      "cell_type": "code",
      "source": [
        "a=7\n",
        "b=7"
      ],
      "metadata": {
        "id": "fptBt8yAHFcw"
      },
      "execution_count": null,
      "outputs": []
    },
    {
      "cell_type": "code",
      "source": [
        "id(a)"
      ],
      "metadata": {
        "colab": {
          "base_uri": "https://localhost:8080/"
        },
        "id": "HOLzpRLfHPcB",
        "outputId": "ffd8373f-bd3b-4fc1-ca6c-2b8653fe7309"
      },
      "execution_count": null,
      "outputs": [
        {
          "output_type": "execute_result",
          "data": {
            "text/plain": [
              "134433730527664"
            ]
          },
          "metadata": {},
          "execution_count": 117
        }
      ]
    },
    {
      "cell_type": "code",
      "source": [
        "id(b)"
      ],
      "metadata": {
        "colab": {
          "base_uri": "https://localhost:8080/"
        },
        "id": "ur44d1rzHQT1",
        "outputId": "ac11d136-c63a-486f-93c7-5cea208f693e"
      },
      "execution_count": null,
      "outputs": [
        {
          "output_type": "execute_result",
          "data": {
            "text/plain": [
              "134433730527664"
            ]
          },
          "metadata": {},
          "execution_count": 118
        }
      ]
    },
    {
      "cell_type": "code",
      "source": [
        "a='haldiya'\n",
        "b='haldiya'"
      ],
      "metadata": {
        "id": "lpFMgGjlHRJp"
      },
      "execution_count": null,
      "outputs": []
    },
    {
      "cell_type": "code",
      "source": [
        "id(a)"
      ],
      "metadata": {
        "colab": {
          "base_uri": "https://localhost:8080/"
        },
        "id": "6NEH6PX0Hxtf",
        "outputId": "da4c4e5f-56cf-42a1-8991-f270eb10709b"
      },
      "execution_count": null,
      "outputs": [
        {
          "output_type": "execute_result",
          "data": {
            "text/plain": [
              "134432458792816"
            ]
          },
          "metadata": {},
          "execution_count": 120
        }
      ]
    },
    {
      "cell_type": "code",
      "source": [
        "id(b)"
      ],
      "metadata": {
        "colab": {
          "base_uri": "https://localhost:8080/"
        },
        "id": "s8OSh2YVHydx",
        "outputId": "5beff88b-70e4-47fd-e6d3-0615a27cbef3"
      },
      "execution_count": null,
      "outputs": [
        {
          "output_type": "execute_result",
          "data": {
            "text/plain": [
              "134432458792816"
            ]
          },
          "metadata": {},
          "execution_count": 121
        }
      ]
    },
    {
      "cell_type": "code",
      "source": [],
      "metadata": {
        "id": "KfZQGuNOHzXF"
      },
      "execution_count": null,
      "outputs": []
    },
    {
      "cell_type": "markdown",
      "source": [
        "mutability"
      ],
      "metadata": {
        "id": "Fsi8L-oFITcc"
      }
    },
    {
      "cell_type": "code",
      "source": [
        "l=[1,2,3]"
      ],
      "metadata": {
        "id": "G_4Wrdu8IU8U"
      },
      "execution_count": null,
      "outputs": []
    },
    {
      "cell_type": "code",
      "source": [
        "id(l)"
      ],
      "metadata": {
        "colab": {
          "base_uri": "https://localhost:8080/"
        },
        "id": "H3yIMGd0Iboh",
        "outputId": "103c5a5f-c79e-42e7-9927-b185fb281c8e"
      },
      "execution_count": null,
      "outputs": [
        {
          "output_type": "execute_result",
          "data": {
            "text/plain": [
              "134432457913472"
            ]
          },
          "metadata": {},
          "execution_count": 123
        }
      ]
    },
    {
      "cell_type": "code",
      "source": [
        "id(l[0])"
      ],
      "metadata": {
        "colab": {
          "base_uri": "https://localhost:8080/"
        },
        "id": "MIm95G3gIcvq",
        "outputId": "e0c8b5ba-b7d0-447c-fa84-17aca03769dd"
      },
      "execution_count": null,
      "outputs": [
        {
          "output_type": "execute_result",
          "data": {
            "text/plain": [
              "134433730527472"
            ]
          },
          "metadata": {},
          "execution_count": 124
        }
      ]
    },
    {
      "cell_type": "code",
      "source": [
        "id(2)"
      ],
      "metadata": {
        "colab": {
          "base_uri": "https://localhost:8080/"
        },
        "id": "K3dnipIHIw0h",
        "outputId": "1a4a0cc2-ae91-4731-f73d-62256164c6f2"
      },
      "execution_count": null,
      "outputs": [
        {
          "output_type": "execute_result",
          "data": {
            "text/plain": [
              "134433730527504"
            ]
          },
          "metadata": {},
          "execution_count": 125
        }
      ]
    },
    {
      "cell_type": "code",
      "source": [
        "id(3)"
      ],
      "metadata": {
        "colab": {
          "base_uri": "https://localhost:8080/"
        },
        "id": "l3NOYhTYI7bz",
        "outputId": "6099c8ec-f366-41d0-e10a-2f0ee9332006"
      },
      "execution_count": null,
      "outputs": [
        {
          "output_type": "execute_result",
          "data": {
            "text/plain": [
              "134433730527536"
            ]
          },
          "metadata": {},
          "execution_count": 126
        }
      ]
    },
    {
      "cell_type": "code",
      "source": [
        "#mutability refer to change value in memory"
      ],
      "metadata": {
        "id": "dvyyyYArI-g6"
      },
      "execution_count": null,
      "outputs": []
    },
    {
      "cell_type": "code",
      "source": [
        "a=\"helo\"\n"
      ],
      "metadata": {
        "id": "HAAx5PqQJTYs"
      },
      "execution_count": null,
      "outputs": []
    },
    {
      "cell_type": "code",
      "source": [
        "id(a)"
      ],
      "metadata": {
        "colab": {
          "base_uri": "https://localhost:8080/"
        },
        "id": "LdazRb30JZA5",
        "outputId": "58a7f82b-109a-434e-dffb-528c5e4e9594"
      },
      "execution_count": null,
      "outputs": [
        {
          "output_type": "execute_result",
          "data": {
            "text/plain": [
              "134433027789360"
            ]
          },
          "metadata": {},
          "execution_count": 129
        }
      ]
    },
    {
      "cell_type": "code",
      "source": [
        "a=a+\"world\""
      ],
      "metadata": {
        "id": "944_N4iVJZ2e"
      },
      "execution_count": null,
      "outputs": []
    },
    {
      "cell_type": "code",
      "source": [
        "id(a)"
      ],
      "metadata": {
        "colab": {
          "base_uri": "https://localhost:8080/"
        },
        "id": "NxXa4jjOJcZN",
        "outputId": "73bec7c8-d260-49bb-efad-ac5ee61c6973"
      },
      "execution_count": null,
      "outputs": [
        {
          "output_type": "execute_result",
          "data": {
            "text/plain": [
              "134432460203696"
            ]
          },
          "metadata": {},
          "execution_count": 131
        }
      ]
    },
    {
      "cell_type": "code",
      "source": [
        "T=(1,2,3)"
      ],
      "metadata": {
        "id": "0cG_DzR5Jdax"
      },
      "execution_count": null,
      "outputs": []
    },
    {
      "cell_type": "code",
      "source": [
        "id(T)"
      ],
      "metadata": {
        "colab": {
          "base_uri": "https://localhost:8080/"
        },
        "id": "pC6I6DtFJh1B",
        "outputId": "abe137b4-7257-4f6e-e087-f02e6fce9dcf"
      },
      "execution_count": null,
      "outputs": [
        {
          "output_type": "execute_result",
          "data": {
            "text/plain": [
              "134432458792192"
            ]
          },
          "metadata": {},
          "execution_count": 133
        }
      ]
    },
    {
      "cell_type": "code",
      "source": [
        "T=T+(5,6)"
      ],
      "metadata": {
        "id": "doOpe7yLJis2"
      },
      "execution_count": null,
      "outputs": []
    },
    {
      "cell_type": "code",
      "source": [
        "id(d)"
      ],
      "metadata": {
        "colab": {
          "base_uri": "https://localhost:8080/"
        },
        "id": "uGd_K4-GJlM8",
        "outputId": "f3b6eaf5-3905-42fc-9883-ef0dc0135c2f"
      },
      "execution_count": null,
      "outputs": [
        {
          "output_type": "execute_result",
          "data": {
            "text/plain": [
              "134432459415504"
            ]
          },
          "metadata": {},
          "execution_count": 135
        }
      ]
    },
    {
      "cell_type": "code",
      "source": [
        "#side effect of mutation\n"
      ],
      "metadata": {
        "id": "THfhs6hrJmjM"
      },
      "execution_count": null,
      "outputs": []
    },
    {
      "cell_type": "code",
      "source": [
        "l=[1,2,3]"
      ],
      "metadata": {
        "id": "H1W1P41GKG4x"
      },
      "execution_count": null,
      "outputs": []
    },
    {
      "cell_type": "code",
      "source": [
        "l1=l"
      ],
      "metadata": {
        "id": "qgElOOtIKJJZ"
      },
      "execution_count": null,
      "outputs": []
    },
    {
      "cell_type": "code",
      "source": [
        "l1.append(4)"
      ],
      "metadata": {
        "id": "qy4v4_UcKLDI"
      },
      "execution_count": null,
      "outputs": []
    },
    {
      "cell_type": "code",
      "source": [
        "id(l)"
      ],
      "metadata": {
        "colab": {
          "base_uri": "https://localhost:8080/"
        },
        "id": "HaO3WX-rKNc1",
        "outputId": "95892de3-2ad8-45f4-c572-3b1004c976f9"
      },
      "execution_count": null,
      "outputs": [
        {
          "output_type": "execute_result",
          "data": {
            "text/plain": [
              "134433026236096"
            ]
          },
          "metadata": {},
          "execution_count": 140
        }
      ]
    },
    {
      "cell_type": "code",
      "source": [
        "id(l1)"
      ],
      "metadata": {
        "colab": {
          "base_uri": "https://localhost:8080/"
        },
        "id": "8S7cVXaaKPR1",
        "outputId": "dc1b97a2-a00b-45b7-ae60-d062a43845eb"
      },
      "execution_count": null,
      "outputs": [
        {
          "output_type": "execute_result",
          "data": {
            "text/plain": [
              "134433026236096"
            ]
          },
          "metadata": {},
          "execution_count": 141
        }
      ]
    },
    {
      "cell_type": "code",
      "source": [
        "#cloning"
      ],
      "metadata": {
        "id": "ac90mWlmKRfH"
      },
      "execution_count": null,
      "outputs": []
    },
    {
      "cell_type": "code",
      "source": [
        "l=[1,2,3]"
      ],
      "metadata": {
        "id": "OHoaRIbgKXHa"
      },
      "execution_count": null,
      "outputs": []
    },
    {
      "cell_type": "code",
      "source": [
        "l1=l[:]"
      ],
      "metadata": {
        "id": "vyeQWA2NKaZ7"
      },
      "execution_count": null,
      "outputs": []
    },
    {
      "cell_type": "code",
      "source": [
        "id(l)"
      ],
      "metadata": {
        "colab": {
          "base_uri": "https://localhost:8080/"
        },
        "id": "e_0ZIsHMKcho",
        "outputId": "f2ac3cc9-7441-4af3-c1c4-9397f19e5dd1"
      },
      "execution_count": null,
      "outputs": [
        {
          "output_type": "execute_result",
          "data": {
            "text/plain": [
              "134432459627904"
            ]
          },
          "metadata": {},
          "execution_count": 145
        }
      ]
    },
    {
      "cell_type": "code",
      "source": [
        "id(l1)"
      ],
      "metadata": {
        "colab": {
          "base_uri": "https://localhost:8080/"
        },
        "id": "KfY66LzHKdm6",
        "outputId": "492ce2de-dbc9-4178-87d1-6ac7ea0cf1b4"
      },
      "execution_count": null,
      "outputs": [
        {
          "output_type": "execute_result",
          "data": {
            "text/plain": [
              "134432457903360"
            ]
          },
          "metadata": {},
          "execution_count": 146
        }
      ]
    },
    {
      "cell_type": "code",
      "source": [],
      "metadata": {
        "id": "3Bb2il8EKemO"
      },
      "execution_count": null,
      "outputs": []
    },
    {
      "cell_type": "markdown",
      "source": [
        "function"
      ],
      "metadata": {
        "id": "bHybeA_yCqS3"
      }
    },
    {
      "cell_type": "code",
      "source": [
        "#\n",
        "def power(a,b):\n",
        "  return a**b"
      ],
      "metadata": {
        "id": "PPUXqiA0CrVo"
      },
      "execution_count": null,
      "outputs": []
    },
    {
      "cell_type": "code",
      "source": [
        "power(3,4)"
      ],
      "metadata": {
        "colab": {
          "base_uri": "https://localhost:8080/"
        },
        "id": "DkHaU9UcC4SQ",
        "outputId": "b35506a0-4036-495a-d16c-7cfbe8e637db"
      },
      "execution_count": null,
      "outputs": [
        {
          "output_type": "execute_result",
          "data": {
            "text/plain": [
              "81"
            ]
          },
          "metadata": {},
          "execution_count": 3
        }
      ]
    },
    {
      "cell_type": "code",
      "source": [
        "#default argument\n",
        "def power(b=3,c=6):\n",
        "  return b**c"
      ],
      "metadata": {
        "id": "5xKUOniRDFOq"
      },
      "execution_count": null,
      "outputs": []
    },
    {
      "cell_type": "code",
      "source": [
        "power(2,3)"
      ],
      "metadata": {
        "colab": {
          "base_uri": "https://localhost:8080/"
        },
        "id": "dXBIbvOrDVOP",
        "outputId": "67885c24-3bca-4465-ac3a-c370526d93f2"
      },
      "execution_count": null,
      "outputs": [
        {
          "output_type": "execute_result",
          "data": {
            "text/plain": [
              "8"
            ]
          },
          "metadata": {},
          "execution_count": 5
        }
      ]
    },
    {
      "cell_type": "code",
      "source": [
        "power()"
      ],
      "metadata": {
        "colab": {
          "base_uri": "https://localhost:8080/"
        },
        "id": "IpyOUZolDY0q",
        "outputId": "1d98fd0d-b519-41b1-b8e1-cd9148a767ff"
      },
      "execution_count": null,
      "outputs": [
        {
          "output_type": "execute_result",
          "data": {
            "text/plain": [
              "729"
            ]
          },
          "metadata": {},
          "execution_count": 6
        }
      ]
    },
    {
      "cell_type": "code",
      "source": [
        "#positional argument\n"
      ],
      "metadata": {
        "id": "hRuFwRqGDchf"
      },
      "execution_count": null,
      "outputs": []
    },
    {
      "cell_type": "code",
      "source": [
        "power(c=2,b=3)#keyword argument"
      ],
      "metadata": {
        "colab": {
          "base_uri": "https://localhost:8080/"
        },
        "id": "qy0B9UinDmNL",
        "outputId": "6d4e1ff7-d253-431d-a69c-6cfc037e8481"
      },
      "execution_count": null,
      "outputs": [
        {
          "output_type": "execute_result",
          "data": {
            "text/plain": [
              "9"
            ]
          },
          "metadata": {},
          "execution_count": 11
        }
      ]
    },
    {
      "cell_type": "code",
      "source": [
        "def flexi(*number):\n",
        "  product=1\n",
        "  print(type(number))\n",
        "  for i in number:\n",
        "    product=product*i\n",
        "  print(product)"
      ],
      "metadata": {
        "id": "1mnz9AZnDp_s"
      },
      "execution_count": null,
      "outputs": []
    },
    {
      "cell_type": "code",
      "source": [
        "flexi(1,2,3,4,5)"
      ],
      "metadata": {
        "colab": {
          "base_uri": "https://localhost:8080/"
        },
        "id": "qX-NAJO0EaaR",
        "outputId": "9db50c8a-bb35-4282-baf3-091982ddea08"
      },
      "execution_count": null,
      "outputs": [
        {
          "output_type": "stream",
          "name": "stdout",
          "text": [
            "<class 'tuple'>\n",
            "120\n"
          ]
        }
      ]
    },
    {
      "cell_type": "code",
      "source": [
        "def g(y):\n",
        "  print(x)\n",
        "  print(x+1)\n",
        "x=5\n",
        "g(x)\n",
        "print(x)"
      ],
      "metadata": {
        "colab": {
          "base_uri": "https://localhost:8080/"
        },
        "id": "rRpVHbBqEfaI",
        "outputId": "b67da5a9-628d-4b65-ab7b-fa09169d40e7"
      },
      "execution_count": null,
      "outputs": [
        {
          "output_type": "stream",
          "name": "stdout",
          "text": [
            "5\n",
            "6\n",
            "5\n"
          ]
        }
      ]
    },
    {
      "cell_type": "code",
      "source": [
        "def f():\n",
        "  print(\"inside f\")\n",
        "  def g():\n",
        "    print(\"inside g\")\n",
        "    f()\n",
        "  g()\n"
      ],
      "metadata": {
        "id": "BGsxtED5GKrv"
      },
      "execution_count": null,
      "outputs": []
    },
    {
      "cell_type": "code",
      "source": [
        "f()"
      ],
      "metadata": {
        "colab": {
          "base_uri": "https://localhost:8080/",
          "height": 1000
        },
        "id": "jew6zj4NIsPF",
        "outputId": "d970d9e8-a196-4554-f763-25ae878254fe"
      },
      "execution_count": null,
      "outputs": [
        {
          "output_type": "stream",
          "name": "stdout",
          "text": [
            "inside f\n",
            "inside g\n",
            "inside f\n",
            "inside g\n",
            "inside f\n",
            "inside g\n",
            "inside f\n",
            "inside g\n",
            "inside f\n",
            "inside g\n",
            "inside f\n",
            "inside g\n",
            "inside f\n",
            "inside g\n",
            "inside f\n",
            "inside g\n",
            "inside f\n",
            "inside g\n",
            "inside f\n",
            "inside g\n",
            "inside f\n",
            "inside g\n",
            "inside f\n",
            "inside g\n",
            "inside f\n",
            "inside g\n",
            "inside f\n",
            "inside g\n",
            "inside f\n",
            "inside g\n",
            "inside f\n",
            "inside g\n",
            "inside f\n",
            "inside g\n",
            "inside f\n",
            "inside g\n",
            "inside f\n",
            "inside g\n",
            "inside f\n",
            "inside g\n",
            "inside f\n",
            "inside g\n",
            "inside f\n",
            "inside g\n",
            "inside f\n",
            "inside g\n",
            "inside f\n",
            "inside g\n",
            "inside f\n",
            "inside g\n",
            "inside f\n",
            "inside g\n",
            "inside f\n",
            "inside g\n",
            "inside f\n",
            "inside g\n",
            "inside f\n",
            "inside g\n",
            "inside f\n",
            "inside g\n",
            "inside f\n",
            "inside g\n",
            "inside f\n",
            "inside g\n",
            "inside f\n",
            "inside g\n",
            "inside f\n",
            "inside g\n",
            "inside f\n",
            "inside g\n",
            "inside f\n",
            "inside g\n",
            "inside f\n",
            "inside g\n",
            "inside f\n",
            "inside g\n",
            "inside f\n",
            "inside g\n",
            "inside f\n",
            "inside g\n",
            "inside f\n",
            "inside g\n",
            "inside f\n",
            "inside g\n",
            "inside f\n",
            "inside g\n",
            "inside f\n",
            "inside g\n",
            "inside f\n",
            "inside g\n",
            "inside f\n",
            "inside g\n",
            "inside f\n",
            "inside g\n",
            "inside f\n",
            "inside g\n",
            "inside f\n",
            "inside g\n",
            "inside f\n",
            "inside g\n",
            "inside f\n",
            "inside g\n",
            "inside f\n",
            "inside g\n",
            "inside f\n",
            "inside g\n",
            "inside f\n",
            "inside g\n",
            "inside f\n",
            "inside g\n",
            "inside f\n",
            "inside g\n",
            "inside f\n",
            "inside g\n",
            "inside f\n",
            "inside g\n",
            "inside f\n",
            "inside g\n",
            "inside f\n",
            "inside g\n",
            "inside f\n",
            "inside g\n",
            "inside f\n",
            "inside g\n",
            "inside f\n",
            "inside g\n",
            "inside f\n",
            "inside g\n",
            "inside f\n",
            "inside g\n",
            "inside f\n",
            "inside g\n",
            "inside f\n",
            "inside g\n",
            "inside f\n",
            "inside g\n",
            "inside f\n",
            "inside g\n",
            "inside f\n",
            "inside g\n",
            "inside f\n",
            "inside g\n",
            "inside f\n",
            "inside g\n",
            "inside f\n",
            "inside g\n",
            "inside f\n",
            "inside g\n",
            "inside f\n",
            "inside g\n",
            "inside f\n",
            "inside g\n",
            "inside f\n",
            "inside g\n",
            "inside f\n",
            "inside g\n",
            "inside f\n",
            "inside g\n",
            "inside f\n",
            "inside g\n",
            "inside f\n",
            "inside g\n",
            "inside f\n",
            "inside g\n",
            "inside f\n",
            "inside g\n",
            "inside f\n",
            "inside g\n",
            "inside f\n",
            "inside g\n",
            "inside f\n",
            "inside g\n",
            "inside f\n",
            "inside g\n",
            "inside f\n",
            "inside g\n",
            "inside f\n",
            "inside g\n",
            "inside f\n",
            "inside g\n",
            "inside f\n",
            "inside g\n",
            "inside f\n",
            "inside g\n",
            "inside f\n",
            "inside g\n",
            "inside f\n",
            "inside g\n",
            "inside f\n",
            "inside g\n",
            "inside f\n",
            "inside g\n",
            "inside f\n",
            "inside g\n",
            "inside f\n",
            "inside g\n",
            "inside f\n",
            "inside g\n",
            "inside f\n",
            "inside g\n",
            "inside f\n",
            "inside g\n",
            "inside f\n",
            "inside g\n",
            "inside f\n",
            "inside g\n",
            "inside f\n",
            "inside g\n",
            "inside f\n",
            "inside g\n",
            "inside f\n",
            "inside g\n",
            "inside f\n",
            "inside g\n",
            "inside f\n",
            "inside g\n",
            "inside f\n",
            "inside g\n",
            "inside f\n",
            "inside g\n",
            "inside f\n",
            "inside g\n",
            "inside f\n",
            "inside g\n",
            "inside f\n",
            "inside g\n",
            "inside f\n",
            "inside g\n",
            "inside f\n",
            "inside g\n",
            "inside f\n",
            "inside g\n",
            "inside f\n",
            "inside g\n",
            "inside f\n",
            "inside g\n",
            "inside f\n",
            "inside g\n",
            "inside f\n",
            "inside g\n",
            "inside f\n",
            "inside g\n",
            "inside f\n",
            "inside g\n",
            "inside f\n",
            "inside g\n",
            "inside f\n",
            "inside g\n",
            "inside f\n",
            "inside g\n",
            "inside f\n",
            "inside g\n",
            "inside f\n",
            "inside g\n",
            "inside f\n",
            "inside g\n",
            "inside f\n",
            "inside g\n",
            "inside f\n",
            "inside g\n",
            "inside f\n",
            "inside g\n",
            "inside f\n",
            "inside g\n",
            "inside f\n",
            "inside g\n",
            "inside f\n",
            "inside g\n",
            "inside f\n",
            "inside g\n",
            "inside f\n",
            "inside g\n",
            "inside f\n",
            "inside g\n",
            "inside f\n",
            "inside g\n",
            "inside f\n",
            "inside g\n",
            "inside f\n",
            "inside g\n",
            "inside f\n",
            "inside g\n",
            "inside f\n",
            "inside g\n",
            "inside f\n",
            "inside g\n",
            "inside f\n",
            "inside g\n",
            "inside f\n",
            "inside g\n",
            "inside f\n",
            "inside g\n",
            "inside f\n",
            "inside g\n",
            "inside f\n",
            "inside g\n",
            "inside f\n",
            "inside g\n",
            "inside f\n",
            "inside g\n",
            "inside f\n",
            "inside g\n",
            "inside f\n",
            "inside g\n",
            "inside f\n",
            "inside g\n",
            "inside f\n",
            "inside g\n",
            "inside f\n",
            "inside g\n",
            "inside f\n",
            "inside g\n",
            "inside f\n",
            "inside g\n",
            "inside f\n",
            "inside g\n",
            "inside f\n",
            "inside g\n",
            "inside f\n",
            "inside g\n",
            "inside f\n",
            "inside g\n",
            "inside f\n",
            "inside g\n",
            "inside f\n",
            "inside g\n",
            "inside f\n",
            "inside g\n",
            "inside f\n",
            "inside g\n",
            "inside f\n",
            "inside g\n",
            "inside f\n",
            "inside g\n",
            "inside f\n",
            "inside g\n",
            "inside f\n",
            "inside g\n",
            "inside f\n",
            "inside g\n",
            "inside f\n",
            "inside g\n",
            "inside f\n",
            "inside g\n",
            "inside f\n",
            "inside g\n",
            "inside f\n",
            "inside g\n",
            "inside f\n",
            "inside g\n",
            "inside f\n",
            "inside g\n",
            "inside f\n",
            "inside g\n",
            "inside f\n",
            "inside g\n",
            "inside f\n",
            "inside g\n",
            "inside f\n",
            "inside g\n",
            "inside f\n",
            "inside g\n",
            "inside f\n",
            "inside g\n",
            "inside f\n",
            "inside g\n",
            "inside f\n",
            "inside g\n",
            "inside f\n",
            "inside g\n",
            "inside f\n",
            "inside g\n",
            "inside f\n",
            "inside g\n",
            "inside f\n",
            "inside g\n",
            "inside f\n",
            "inside g\n",
            "inside f\n",
            "inside g\n",
            "inside f\n",
            "inside g\n",
            "inside f\n",
            "inside g\n",
            "inside f\n",
            "inside g\n",
            "inside f\n",
            "inside g\n",
            "inside f\n",
            "inside g\n",
            "inside f\n",
            "inside g\n",
            "inside f\n",
            "inside g\n",
            "inside f\n",
            "inside g\n",
            "inside f\n",
            "inside g\n",
            "inside f\n",
            "inside g\n",
            "inside f\n",
            "inside g\n",
            "inside f\n",
            "inside g\n",
            "inside f\n",
            "inside g\n",
            "inside f\n",
            "inside g\n",
            "inside f\n",
            "inside g\n",
            "inside f\n",
            "inside g\n",
            "inside f\n",
            "inside g\n",
            "inside f\n",
            "inside g\n",
            "inside f\n",
            "inside g\n",
            "inside f\n",
            "inside g\n",
            "inside f\n",
            "inside g\n",
            "inside f\n",
            "inside g\n",
            "inside f\n",
            "inside g\n",
            "inside f\n",
            "inside g\n",
            "inside f\n",
            "inside g\n",
            "inside f\n",
            "inside g\n",
            "inside f\n",
            "inside g\n",
            "inside f\n",
            "inside g\n",
            "inside f\n",
            "inside g\n",
            "inside f\n",
            "inside g\n",
            "inside f\n",
            "inside g\n",
            "inside f\n",
            "inside g\n",
            "inside f\n",
            "inside g\n",
            "inside f\n",
            "inside g\n",
            "inside f\n",
            "inside g\n",
            "inside f\n",
            "inside g\n",
            "inside f\n",
            "inside g\n",
            "inside f\n",
            "inside g\n",
            "inside f\n",
            "inside g\n",
            "inside f\n",
            "inside g\n",
            "inside f\n",
            "inside g\n",
            "inside f\n",
            "inside g\n",
            "inside f\n",
            "inside g\n",
            "inside f\n",
            "inside g\n",
            "inside f\n",
            "inside g\n",
            "inside f\n",
            "inside g\n",
            "inside f\n",
            "inside g\n",
            "inside f\n",
            "inside g\n",
            "inside f\n",
            "inside g\n",
            "inside f\n",
            "inside g\n",
            "inside f\n",
            "inside g\n",
            "inside f\n",
            "inside g\n",
            "inside f\n",
            "inside g\n",
            "inside f\n",
            "inside g\n",
            "inside f\n",
            "inside g\n",
            "inside f\n",
            "inside g\n",
            "inside f\n",
            "inside g\n",
            "inside f\n",
            "inside g\n",
            "inside f\n",
            "inside g\n",
            "inside f\n",
            "inside g\n",
            "inside f\n",
            "inside g\n",
            "inside f\n",
            "inside g\n",
            "inside f\n",
            "inside g\n",
            "inside f\n",
            "inside g\n",
            "inside f\n",
            "inside g\n",
            "inside f\n",
            "inside g\n",
            "inside f\n",
            "inside g\n",
            "inside f\n",
            "inside g\n",
            "inside f\n",
            "inside g\n",
            "inside f\n",
            "inside g\n",
            "inside f\n",
            "inside g\n",
            "inside f\n",
            "inside g\n",
            "inside f\n",
            "inside g\n",
            "inside f\n",
            "inside g\n",
            "inside f\n",
            "inside g\n",
            "inside f\n",
            "inside g\n",
            "inside f\n",
            "inside g\n",
            "inside f\n",
            "inside g\n",
            "inside f\n",
            "inside g\n",
            "inside f\n",
            "inside g\n",
            "inside f\n",
            "inside g\n",
            "inside f\n",
            "inside g\n",
            "inside f\n",
            "inside g\n",
            "inside f\n",
            "inside g\n",
            "inside f\n",
            "inside g\n",
            "inside f\n",
            "inside g\n",
            "inside f\n",
            "inside g\n",
            "inside f\n",
            "inside g\n",
            "inside f\n",
            "inside g\n",
            "inside f\n",
            "inside g\n",
            "inside f\n",
            "inside g\n",
            "inside f\n",
            "inside g\n",
            "inside f\n",
            "inside g\n",
            "inside f\n",
            "inside g\n",
            "inside f\n",
            "inside g\n",
            "inside f\n",
            "inside g\n",
            "inside f\n",
            "inside g\n",
            "inside f\n",
            "inside g\n",
            "inside f\n",
            "inside g\n",
            "inside f\n",
            "inside g\n",
            "inside f\n",
            "inside g\n",
            "inside f\n",
            "inside g\n",
            "inside f\n",
            "inside g\n",
            "inside f\n",
            "inside g\n",
            "inside f\n",
            "inside g\n",
            "inside f\n",
            "inside g\n",
            "inside f\n",
            "inside g\n",
            "inside f\n",
            "inside g\n",
            "inside f\n",
            "inside g\n",
            "inside f\n",
            "inside g\n",
            "inside f\n",
            "inside g\n",
            "inside f\n",
            "inside g\n",
            "inside f\n",
            "inside g\n",
            "inside f\n",
            "inside g\n",
            "inside f\n",
            "inside g\n",
            "inside f\n",
            "inside g\n",
            "inside f\n",
            "inside g\n",
            "inside f\n",
            "inside g\n",
            "inside f\n",
            "inside g\n",
            "inside f\n",
            "inside g\n",
            "inside f\n",
            "inside g\n",
            "inside f\n",
            "inside g\n",
            "inside f\n",
            "inside g\n",
            "inside f\n",
            "inside g\n",
            "inside f\n",
            "inside g\n",
            "inside f\n",
            "inside g\n",
            "inside f\n",
            "inside g\n",
            "inside f\n",
            "inside g\n",
            "inside f\n",
            "inside g\n",
            "inside f\n",
            "inside g\n",
            "inside f\n",
            "inside g\n",
            "inside f\n",
            "inside g\n",
            "inside f\n",
            "inside g\n",
            "inside f\n",
            "inside g\n",
            "inside f\n",
            "inside g\n",
            "inside f\n",
            "inside g\n",
            "inside f\n",
            "inside g\n",
            "inside f\n",
            "inside g\n",
            "inside f\n",
            "inside g\n",
            "inside f\n",
            "inside g\n",
            "inside f\n",
            "inside g\n",
            "inside f\n",
            "inside g\n",
            "inside f\n",
            "inside g\n",
            "inside f\n",
            "inside g\n",
            "inside f\n",
            "inside g\n",
            "inside f\n",
            "inside g\n",
            "inside f\n",
            "inside g\n",
            "inside f\n",
            "inside g\n",
            "inside f\n",
            "inside g\n",
            "inside f\n",
            "inside g\n",
            "inside f\n",
            "inside g\n",
            "inside f\n",
            "inside g\n",
            "inside f\n",
            "inside g\n",
            "inside f\n",
            "inside g\n",
            "inside f\n",
            "inside g\n",
            "inside f\n",
            "inside g\n",
            "inside f\n",
            "inside g\n",
            "inside f\n",
            "inside g\n",
            "inside f\n",
            "inside g\n",
            "inside f\n",
            "inside g\n",
            "inside f\n",
            "inside g\n",
            "inside f\n",
            "inside g\n",
            "inside f\n",
            "inside g\n",
            "inside f\n",
            "inside g\n",
            "inside f\n",
            "inside g\n",
            "inside f\n",
            "inside g\n",
            "inside f\n",
            "inside g\n",
            "inside f\n",
            "inside g\n",
            "inside f\n",
            "inside g\n",
            "inside f\n",
            "inside g\n",
            "inside f\n",
            "inside g\n",
            "inside f\n",
            "inside g\n",
            "inside f\n",
            "inside g\n",
            "inside f\n",
            "inside g\n",
            "inside f\n",
            "inside g\n",
            "inside f\n",
            "inside g\n",
            "inside f\n",
            "inside g\n",
            "inside f\n",
            "inside g\n",
            "inside f\n",
            "inside g\n",
            "inside f\n",
            "inside g\n",
            "inside f\n",
            "inside g\n",
            "inside f\n",
            "inside g\n",
            "inside f\n",
            "inside g\n",
            "inside f\n",
            "inside g\n",
            "inside f\n",
            "inside g\n",
            "inside f\n",
            "inside g\n",
            "inside f\n",
            "inside g\n",
            "inside f\n",
            "inside g\n",
            "inside f\n",
            "inside g\n",
            "inside f\n",
            "inside g\n",
            "inside f\n",
            "inside g\n",
            "inside f\n",
            "inside g\n",
            "inside f\n",
            "inside g\n",
            "inside f\n",
            "inside g\n",
            "inside f\n",
            "inside g\n",
            "inside f\n",
            "inside g\n",
            "inside f\n",
            "inside g\n",
            "inside f\n",
            "inside g\n",
            "inside f\n",
            "inside g\n",
            "inside f\n",
            "inside g\n",
            "inside f\n",
            "inside g\n",
            "inside f\n",
            "inside g\n",
            "inside f\n",
            "inside g\n",
            "inside f\n",
            "inside g\n",
            "inside f\n",
            "inside g\n",
            "inside f\n",
            "inside g\n",
            "inside f\n",
            "inside g\n",
            "inside f\n",
            "inside g\n",
            "inside f\n",
            "inside g\n",
            "inside f\n",
            "inside g\n",
            "inside f\n",
            "inside g\n",
            "inside f\n",
            "inside g\n",
            "inside f\n",
            "inside g\n",
            "inside f\n",
            "inside g\n",
            "inside f\n",
            "inside g\n",
            "inside f\n",
            "inside g\n",
            "inside f\n",
            "inside g\n",
            "inside f\n",
            "inside g\n",
            "inside f\n",
            "inside g\n",
            "inside f\n",
            "inside g\n",
            "inside f\n",
            "inside g\n",
            "inside f\n",
            "inside g\n",
            "inside f\n",
            "inside g\n",
            "inside f\n",
            "inside g\n",
            "inside f\n",
            "inside g\n",
            "inside f\n",
            "inside g\n",
            "inside f\n",
            "inside g\n",
            "inside f\n",
            "inside g\n",
            "inside f\n",
            "inside g\n",
            "inside f\n",
            "inside g\n",
            "inside f\n",
            "inside g\n",
            "inside f\n",
            "inside g\n",
            "inside f\n",
            "inside g\n",
            "inside f\n",
            "inside g\n",
            "inside f\n",
            "inside g\n",
            "inside f\n",
            "inside g\n",
            "inside f\n",
            "inside g\n",
            "inside f\n",
            "inside g\n",
            "inside f\n",
            "inside g\n",
            "inside f\n",
            "inside g\n",
            "inside f\n",
            "inside g\n",
            "inside f\n",
            "inside g\n",
            "inside f\n",
            "inside g\n",
            "inside f\n",
            "inside g\n",
            "inside f\n",
            "inside g\n",
            "inside f\n",
            "inside g\n",
            "inside f\n",
            "inside g\n",
            "inside f\n",
            "inside g\n",
            "inside f\n",
            "inside g\n",
            "inside f\n",
            "inside g\n",
            "inside f\n",
            "inside g\n",
            "inside f\n",
            "inside g\n",
            "inside f\n",
            "inside g\n",
            "inside f\n",
            "inside g\n",
            "inside f\n",
            "inside g\n",
            "inside f\n",
            "inside g\n",
            "inside f\n",
            "inside g\n",
            "inside f\n",
            "inside g\n",
            "inside f\n",
            "inside g\n",
            "inside f\n",
            "inside g\n",
            "inside f\n",
            "inside g\n",
            "inside f\n",
            "inside g\n",
            "inside f\n",
            "inside g\n",
            "inside f\n",
            "inside g\n",
            "inside f\n",
            "inside g\n",
            "inside f\n",
            "inside g\n",
            "inside f\n",
            "inside g\n",
            "inside f\n",
            "inside g\n",
            "inside f\n",
            "inside g\n",
            "inside f\n",
            "inside g\n",
            "inside f\n",
            "inside g\n",
            "inside f\n",
            "inside g\n",
            "inside f\n",
            "inside g\n",
            "inside f\n",
            "inside g\n",
            "inside f\n",
            "inside g\n",
            "inside f\n",
            "inside g\n",
            "inside f\n",
            "inside g\n",
            "inside f\n",
            "inside g\n",
            "inside f\n",
            "inside g\n",
            "inside f\n",
            "inside g\n",
            "inside f\n",
            "inside g\n",
            "inside f\n",
            "inside g\n",
            "inside f\n",
            "inside g\n",
            "inside f\n",
            "inside g\n",
            "inside f\n",
            "inside g\n",
            "inside f\n",
            "inside g\n",
            "inside f\n",
            "inside g\n"
          ]
        },
        {
          "output_type": "error",
          "ename": "RecursionError",
          "evalue": "ignored",
          "traceback": [
            "\u001b[0;31m---------------------------------------------------------------------------\u001b[0m",
            "\u001b[0;31mRecursionError\u001b[0m                            Traceback (most recent call last)",
            "\u001b[0;32m/usr/lib/python3.10/threading.py\u001b[0m in \u001b[0;36m_wait_for_tstate_lock\u001b[0;34m(self, block, timeout)\u001b[0m\n\u001b[1;32m   1115\u001b[0m         \u001b[0;32mtry\u001b[0m\u001b[0;34m:\u001b[0m\u001b[0;34m\u001b[0m\u001b[0;34m\u001b[0m\u001b[0m\n\u001b[0;32m-> 1116\u001b[0;31m             \u001b[0;32mif\u001b[0m \u001b[0mlock\u001b[0m\u001b[0;34m.\u001b[0m\u001b[0macquire\u001b[0m\u001b[0;34m(\u001b[0m\u001b[0mblock\u001b[0m\u001b[0;34m,\u001b[0m \u001b[0mtimeout\u001b[0m\u001b[0;34m)\u001b[0m\u001b[0;34m:\u001b[0m\u001b[0;34m\u001b[0m\u001b[0;34m\u001b[0m\u001b[0m\n\u001b[0m\u001b[1;32m   1117\u001b[0m                 \u001b[0mlock\u001b[0m\u001b[0;34m.\u001b[0m\u001b[0mrelease\u001b[0m\u001b[0;34m(\u001b[0m\u001b[0;34m)\u001b[0m\u001b[0;34m\u001b[0m\u001b[0;34m\u001b[0m\u001b[0m\n",
            "\u001b[0;31mRecursionError\u001b[0m: maximum recursion depth exceeded while calling a Python object",
            "\nDuring handling of the above exception, another exception occurred:\n",
            "\u001b[0;31mRecursionError\u001b[0m                            Traceback (most recent call last)",
            "\u001b[0;32m<ipython-input-19-c43e34e6d405>\u001b[0m in \u001b[0;36m<cell line: 1>\u001b[0;34m()\u001b[0m\n\u001b[0;32m----> 1\u001b[0;31m \u001b[0mf\u001b[0m\u001b[0;34m(\u001b[0m\u001b[0;34m)\u001b[0m\u001b[0;34m\u001b[0m\u001b[0;34m\u001b[0m\u001b[0m\n\u001b[0m",
            "\u001b[0;32m<ipython-input-18-0273aa998e25>\u001b[0m in \u001b[0;36mf\u001b[0;34m()\u001b[0m\n\u001b[1;32m      4\u001b[0m     \u001b[0mprint\u001b[0m\u001b[0;34m(\u001b[0m\u001b[0;34m\"inside g\"\u001b[0m\u001b[0;34m)\u001b[0m\u001b[0;34m\u001b[0m\u001b[0;34m\u001b[0m\u001b[0m\n\u001b[1;32m      5\u001b[0m     \u001b[0mf\u001b[0m\u001b[0;34m(\u001b[0m\u001b[0;34m)\u001b[0m\u001b[0;34m\u001b[0m\u001b[0;34m\u001b[0m\u001b[0m\n\u001b[0;32m----> 6\u001b[0;31m   \u001b[0mg\u001b[0m\u001b[0;34m(\u001b[0m\u001b[0;34m)\u001b[0m\u001b[0;34m\u001b[0m\u001b[0;34m\u001b[0m\u001b[0m\n\u001b[0m\u001b[1;32m      7\u001b[0m \u001b[0;34m\u001b[0m\u001b[0m\n",
            "\u001b[0;32m<ipython-input-18-0273aa998e25>\u001b[0m in \u001b[0;36mg\u001b[0;34m()\u001b[0m\n\u001b[1;32m      3\u001b[0m   \u001b[0;32mdef\u001b[0m \u001b[0mg\u001b[0m\u001b[0;34m(\u001b[0m\u001b[0;34m)\u001b[0m\u001b[0;34m:\u001b[0m\u001b[0;34m\u001b[0m\u001b[0;34m\u001b[0m\u001b[0m\n\u001b[1;32m      4\u001b[0m     \u001b[0mprint\u001b[0m\u001b[0;34m(\u001b[0m\u001b[0;34m\"inside g\"\u001b[0m\u001b[0;34m)\u001b[0m\u001b[0;34m\u001b[0m\u001b[0;34m\u001b[0m\u001b[0m\n\u001b[0;32m----> 5\u001b[0;31m     \u001b[0mf\u001b[0m\u001b[0;34m(\u001b[0m\u001b[0;34m)\u001b[0m\u001b[0;34m\u001b[0m\u001b[0;34m\u001b[0m\u001b[0m\n\u001b[0m\u001b[1;32m      6\u001b[0m   \u001b[0mg\u001b[0m\u001b[0;34m(\u001b[0m\u001b[0;34m)\u001b[0m\u001b[0;34m\u001b[0m\u001b[0;34m\u001b[0m\u001b[0m\n\u001b[1;32m      7\u001b[0m \u001b[0;34m\u001b[0m\u001b[0m\n",
            "... last 2 frames repeated, from the frame below ...\n",
            "\u001b[0;32m<ipython-input-18-0273aa998e25>\u001b[0m in \u001b[0;36mf\u001b[0;34m()\u001b[0m\n\u001b[1;32m      4\u001b[0m     \u001b[0mprint\u001b[0m\u001b[0;34m(\u001b[0m\u001b[0;34m\"inside g\"\u001b[0m\u001b[0;34m)\u001b[0m\u001b[0;34m\u001b[0m\u001b[0;34m\u001b[0m\u001b[0m\n\u001b[1;32m      5\u001b[0m     \u001b[0mf\u001b[0m\u001b[0;34m(\u001b[0m\u001b[0;34m)\u001b[0m\u001b[0;34m\u001b[0m\u001b[0;34m\u001b[0m\u001b[0m\n\u001b[0;32m----> 6\u001b[0;31m   \u001b[0mg\u001b[0m\u001b[0;34m(\u001b[0m\u001b[0;34m)\u001b[0m\u001b[0;34m\u001b[0m\u001b[0;34m\u001b[0m\u001b[0m\n\u001b[0m\u001b[1;32m      7\u001b[0m \u001b[0;34m\u001b[0m\u001b[0m\n",
            "\u001b[0;31mRecursionError\u001b[0m: maximum recursion depth exceeded while calling a Python object"
          ]
        }
      ]
    },
    {
      "cell_type": "code",
      "source": [],
      "metadata": {
        "id": "F10yNB14IuBL"
      },
      "execution_count": null,
      "outputs": []
    },
    {
      "cell_type": "markdown",
      "source": [
        "### **Recursion**"
      ],
      "metadata": {
        "id": "E0JO3wkOJMmW"
      }
    },
    {
      "cell_type": "code",
      "source": [
        "def multiply(a,b):\n",
        "  result=0\n",
        "  for i in range(b):\n",
        "    result=result+a\n",
        "  print(result)\n",
        "\n",
        "multiply(3,4)"
      ],
      "metadata": {
        "colab": {
          "base_uri": "https://localhost:8080/"
        },
        "id": "sCvsLdNLJPta",
        "outputId": "2fff24ad-9a69-4628-ea87-d4a2fe96317a"
      },
      "execution_count": null,
      "outputs": [
        {
          "output_type": "stream",
          "name": "stdout",
          "text": [
            "12\n"
          ]
        }
      ]
    },
    {
      "cell_type": "code",
      "source": [
        "def mul(a,b):\n",
        "  if b==1:\n",
        "    return a\n",
        "  else:\n",
        "    return a+mul(a,b-1)\n",
        "print(mul(3,1))"
      ],
      "metadata": {
        "colab": {
          "base_uri": "https://localhost:8080/"
        },
        "id": "b_Jz-HwYKA2Y",
        "outputId": "3ef3a476-77ef-4edd-f780-8fdd4176025a"
      },
      "execution_count": null,
      "outputs": [
        {
          "output_type": "stream",
          "name": "stdout",
          "text": [
            "3\n"
          ]
        }
      ]
    },
    {
      "cell_type": "code",
      "source": [
        "def fact(number):\n",
        "  if number==1:\n",
        "    return 1\n",
        "  else:\n",
        "    return number*fact(number-1)\n",
        "print(fact(5))"
      ],
      "metadata": {
        "id": "AfHtZm6pLOH3",
        "colab": {
          "base_uri": "https://localhost:8080/"
        },
        "outputId": "269a337f-85d9-4cca-b2f3-d46956c6a7cd"
      },
      "execution_count": null,
      "outputs": [
        {
          "output_type": "stream",
          "name": "stdout",
          "text": [
            "120\n"
          ]
        }
      ]
    },
    {
      "cell_type": "code",
      "source": [],
      "metadata": {
        "id": "I0qnRPdFMRID"
      },
      "execution_count": null,
      "outputs": []
    },
    {
      "cell_type": "markdown",
      "source": [
        "palindrome"
      ],
      "metadata": {
        "id": "e_CiP1mMMrrT"
      }
    },
    {
      "cell_type": "code",
      "source": [
        "def palin(text):\n",
        "  if len(text)==1:\n",
        "    print(\"palindrome\")\n",
        "  else:\n",
        "    if text[0]==text[-1]:\n",
        "      palin(text[1:-1])\n",
        "    else:\n",
        "      print(\"not palin\")\n",
        "palin(\"madam\")\n",
        "palin(\"python\")\n",
        "print(\"abba\")\n"
      ],
      "metadata": {
        "colab": {
          "base_uri": "https://localhost:8080/"
        },
        "id": "MHPfx5aRMtNX",
        "outputId": "946f769c-3033-4b1b-82a6-d8758bc35eda"
      },
      "execution_count": null,
      "outputs": [
        {
          "output_type": "stream",
          "name": "stdout",
          "text": [
            "palindrome\n",
            "not palin\n",
            "abba\n"
          ]
        }
      ]
    },
    {
      "cell_type": "code",
      "source": [
        "def fib(m):\n",
        "  if m==0 or m==1:\n",
        "    return"
      ],
      "metadata": {
        "id": "fYjXPDgtNm7E"
      },
      "execution_count": null,
      "outputs": []
    },
    {
      "cell_type": "code",
      "source": [
        "import time\n",
        "def memo(m,d):\n",
        "  if m in d:\n",
        "    return d[m]\n",
        "  else:\n",
        "    d[m]=memo(m-1,d)+memo(m-2,d)\n",
        "    return d[m]\n",
        "start=time.time()\n",
        "\n",
        "d={0:1,1:1}\n",
        "print(memo(500,d))\n",
        "print(time.time()-start)\n",
        "print(d)"
      ],
      "metadata": {
        "colab": {
          "base_uri": "https://localhost:8080/"
        },
        "id": "oYzeiMQ70Dan",
        "outputId": "10667418-7fd4-435f-a444-6574dec46150"
      },
      "execution_count": 2,
      "outputs": [
        {
          "output_type": "stream",
          "name": "stdout",
          "text": [
            "225591516161936330872512695036072072046011324913758190588638866418474627738686883405015987052796968498626\n",
            "0.003016948699951172\n",
            "{0: 1, 1: 1, 2: 2, 3: 3, 4: 5, 5: 8, 6: 13, 7: 21, 8: 34, 9: 55, 10: 89, 11: 144, 12: 233, 13: 377, 14: 610, 15: 987, 16: 1597, 17: 2584, 18: 4181, 19: 6765, 20: 10946, 21: 17711, 22: 28657, 23: 46368, 24: 75025, 25: 121393, 26: 196418, 27: 317811, 28: 514229, 29: 832040, 30: 1346269, 31: 2178309, 32: 3524578, 33: 5702887, 34: 9227465, 35: 14930352, 36: 24157817, 37: 39088169, 38: 63245986, 39: 102334155, 40: 165580141, 41: 267914296, 42: 433494437, 43: 701408733, 44: 1134903170, 45: 1836311903, 46: 2971215073, 47: 4807526976, 48: 7778742049, 49: 12586269025, 50: 20365011074, 51: 32951280099, 52: 53316291173, 53: 86267571272, 54: 139583862445, 55: 225851433717, 56: 365435296162, 57: 591286729879, 58: 956722026041, 59: 1548008755920, 60: 2504730781961, 61: 4052739537881, 62: 6557470319842, 63: 10610209857723, 64: 17167680177565, 65: 27777890035288, 66: 44945570212853, 67: 72723460248141, 68: 117669030460994, 69: 190392490709135, 70: 308061521170129, 71: 498454011879264, 72: 806515533049393, 73: 1304969544928657, 74: 2111485077978050, 75: 3416454622906707, 76: 5527939700884757, 77: 8944394323791464, 78: 14472334024676221, 79: 23416728348467685, 80: 37889062373143906, 81: 61305790721611591, 82: 99194853094755497, 83: 160500643816367088, 84: 259695496911122585, 85: 420196140727489673, 86: 679891637638612258, 87: 1100087778366101931, 88: 1779979416004714189, 89: 2880067194370816120, 90: 4660046610375530309, 91: 7540113804746346429, 92: 12200160415121876738, 93: 19740274219868223167, 94: 31940434634990099905, 95: 51680708854858323072, 96: 83621143489848422977, 97: 135301852344706746049, 98: 218922995834555169026, 99: 354224848179261915075, 100: 573147844013817084101, 101: 927372692193078999176, 102: 1500520536206896083277, 103: 2427893228399975082453, 104: 3928413764606871165730, 105: 6356306993006846248183, 106: 10284720757613717413913, 107: 16641027750620563662096, 108: 26925748508234281076009, 109: 43566776258854844738105, 110: 70492524767089125814114, 111: 114059301025943970552219, 112: 184551825793033096366333, 113: 298611126818977066918552, 114: 483162952612010163284885, 115: 781774079430987230203437, 116: 1264937032042997393488322, 117: 2046711111473984623691759, 118: 3311648143516982017180081, 119: 5358359254990966640871840, 120: 8670007398507948658051921, 121: 14028366653498915298923761, 122: 22698374052006863956975682, 123: 36726740705505779255899443, 124: 59425114757512643212875125, 125: 96151855463018422468774568, 126: 155576970220531065681649693, 127: 251728825683549488150424261, 128: 407305795904080553832073954, 129: 659034621587630041982498215, 130: 1066340417491710595814572169, 131: 1725375039079340637797070384, 132: 2791715456571051233611642553, 133: 4517090495650391871408712937, 134: 7308805952221443105020355490, 135: 11825896447871834976429068427, 136: 19134702400093278081449423917, 137: 30960598847965113057878492344, 138: 50095301248058391139327916261, 139: 81055900096023504197206408605, 140: 131151201344081895336534324866, 141: 212207101440105399533740733471, 142: 343358302784187294870275058337, 143: 555565404224292694404015791808, 144: 898923707008479989274290850145, 145: 1454489111232772683678306641953, 146: 2353412818241252672952597492098, 147: 3807901929474025356630904134051, 148: 6161314747715278029583501626149, 149: 9969216677189303386214405760200, 150: 16130531424904581415797907386349, 151: 26099748102093884802012313146549, 152: 42230279526998466217810220532898, 153: 68330027629092351019822533679447, 154: 110560307156090817237632754212345, 155: 178890334785183168257455287891792, 156: 289450641941273985495088042104137, 157: 468340976726457153752543329995929, 158: 757791618667731139247631372100066, 159: 1226132595394188293000174702095995, 160: 1983924214061919432247806074196061, 161: 3210056809456107725247980776292056, 162: 5193981023518027157495786850488117, 163: 8404037832974134882743767626780173, 164: 13598018856492162040239554477268290, 165: 22002056689466296922983322104048463, 166: 35600075545958458963222876581316753, 167: 57602132235424755886206198685365216, 168: 93202207781383214849429075266681969, 169: 150804340016807970735635273952047185, 170: 244006547798191185585064349218729154, 171: 394810887814999156320699623170776339, 172: 638817435613190341905763972389505493, 173: 1033628323428189498226463595560281832, 174: 1672445759041379840132227567949787325, 175: 2706074082469569338358691163510069157, 176: 4378519841510949178490918731459856482, 177: 7084593923980518516849609894969925639, 178: 11463113765491467695340528626429782121, 179: 18547707689471986212190138521399707760, 180: 30010821454963453907530667147829489881, 181: 48558529144435440119720805669229197641, 182: 78569350599398894027251472817058687522, 183: 127127879743834334146972278486287885163, 184: 205697230343233228174223751303346572685, 185: 332825110087067562321196029789634457848, 186: 538522340430300790495419781092981030533, 187: 871347450517368352816615810882615488381, 188: 1409869790947669143312035591975596518914, 189: 2281217241465037496128651402858212007295, 190: 3691087032412706639440686994833808526209, 191: 5972304273877744135569338397692020533504, 192: 9663391306290450775010025392525829059713, 193: 15635695580168194910579363790217849593217, 194: 25299086886458645685589389182743678652930, 195: 40934782466626840596168752972961528246147, 196: 66233869353085486281758142155705206899077, 197: 107168651819712326877926895128666735145224, 198: 173402521172797813159685037284371942044301, 199: 280571172992510140037611932413038677189525, 200: 453973694165307953197296969697410619233826, 201: 734544867157818093234908902110449296423351, 202: 1188518561323126046432205871807859915657177, 203: 1923063428480944139667114773918309212080528, 204: 3111581989804070186099320645726169127737705, 205: 5034645418285014325766435419644478339818233, 206: 8146227408089084511865756065370647467555938, 207: 13180872826374098837632191485015125807374171, 208: 21327100234463183349497947550385773274930109, 209: 34507973060837282187130139035400899082304280, 210: 55835073295300465536628086585786672357234389, 211: 90343046356137747723758225621187571439538669, 212: 146178119651438213260386312206974243796773058, 213: 236521166007575960984144537828161815236311727, 214: 382699285659014174244530850035136059033084785, 215: 619220451666590135228675387863297874269396512, 216: 1001919737325604309473206237898433933302481297, 217: 1621140188992194444701881625761731807571877809, 218: 2623059926317798754175087863660165740874359106, 219: 4244200115309993198876969489421897548446236915, 220: 6867260041627791953052057353082063289320596021, 221: 11111460156937785151929026842503960837766832936, 222: 17978720198565577104981084195586024127087428957, 223: 29090180355503362256910111038089984964854261893, 224: 47068900554068939361891195233676009091941690850, 225: 76159080909572301618801306271765994056795952743, 226: 123227981463641240980692501505442003148737643593, 227: 199387062373213542599493807777207997205533596336, 228: 322615043836854783580186309282650000354271239929, 229: 522002106210068326179680117059857997559804836265, 230: 844617150046923109759866426342507997914076076194, 231: 1366619256256991435939546543402365995473880912459, 232: 2211236406303914545699412969744873993387956988653, 233: 3577855662560905981638959513147239988861837901112, 234: 5789092068864820527338372482892113982249794889765, 235: 9366947731425726508977331996039353971111632790877, 236: 15156039800290547036315704478931467953361427680642, 237: 24522987531716273545293036474970821924473060471519, 238: 39679027332006820581608740953902289877834488152161, 239: 64202014863723094126901777428873111802307548623680, 240: 103881042195729914708510518382775401680142036775841, 241: 168083057059453008835412295811648513482449585399521, 242: 271964099255182923543922814194423915162591622175362, 243: 440047156314635932379335110006072428645041207574883, 244: 712011255569818855923257924200496343807632829750245, 245: 1152058411884454788302593034206568772452674037325128, 246: 1864069667454273644225850958407065116260306867075373, 247: 3016128079338728432528443992613633888712980904400501, 248: 4880197746793002076754294951020699004973287771475874, 249: 7896325826131730509282738943634332893686268675876375, 250: 12776523572924732586037033894655031898659556447352249, 251: 20672849399056463095319772838289364792345825123228624, 252: 33449372971981195681356806732944396691005381570580873, 253: 54122222371037658776676579571233761483351206693809497, 254: 87571595343018854458033386304178158174356588264390370, 255: 141693817714056513234709965875411919657707794958199867, 256: 229265413057075367692743352179590077832064383222590237, 257: 370959230771131880927453318055001997489772178180790104, 258: 600224643828207248620196670234592075321836561403380341, 259: 971183874599339129547649988289594072811608739584170445, 260: 1571408518427546378167846658524186148133445300987550786, 261: 2542592393026885507715496646813780220945054040571721231, 262: 4114000911454431885883343305337966369078499341559272017, 263: 6656593304481317393598839952151746590023553382130993248, 264: 10770594215935749279482183257489712959102052723690265265, 265: 17427187520417066673081023209641459549125606105821258513, 266: 28197781736352815952563206467131172508227658829511523778, 267: 45624969256769882625644229676772632057353264935332782291, 268: 73822750993122698578207436143903804565580923764844306069, 269: 119447720249892581203851665820676436622934188700177088360, 270: 193270471243015279782059101964580241188515112465021394429, 271: 312718191492907860985910767785256677811449301165198482789, 272: 505988662735923140767969869749836918999964413630219877218, 273: 818706854228831001753880637535093596811413714795418360007, 274: 1324695516964754142521850507284930515811378128425638237225, 275: 2143402371193585144275731144820024112622791843221056597232, 276: 3468097888158339286797581652104954628434169971646694834457, 277: 5611500259351924431073312796924978741056961814867751431689, 278: 9079598147510263717870894449029933369491131786514446266146, 279: 14691098406862188148944207245954912110548093601382197697835, 280: 23770696554372451866815101694984845480039225387896643963981, 281: 38461794961234640015759308940939757590587318989278841661816, 282: 62232491515607091882574410635924603070626544377175485625797, 283: 100694286476841731898333719576864360661213863366454327287613, 284: 162926777992448823780908130212788963731840407743629812913410, 285: 263621064469290555679241849789653324393054271110084140201023, 286: 426547842461739379460149980002442288124894678853713953114433, 287: 690168906931029935139391829792095612517948949963798093315456, 288: 1116716749392769314599541809794537900642843628817512046429889, 289: 1806885656323799249738933639586633513160792578781310139745345, 290: 2923602405716568564338475449381171413803636207598822186175234, 291: 4730488062040367814077409088967804926964428786380132325920579, 292: 7654090467756936378415884538348976340768064993978954512095813, 293: 12384578529797304192493293627316781267732493780359086838016392, 294: 20038668997554240570909178165665757608500558774338041350112205, 295: 32423247527351544763402471792982538876233052554697128188128597, 296: 52461916524905785334311649958648296484733611329035169538240802, 297: 84885164052257330097714121751630835360966663883732297726369399, 298: 137347080577163115432025771710279131845700275212767467264610201, 299: 222232244629420445529739893461909967206666939096499764990979600, 300: 359579325206583560961765665172189099052367214309267232255589801, 301: 581811569836004006491505558634099066259034153405766997246569401, 302: 941390895042587567453271223806288165311401367715034229502159202, 303: 1523202464878591573944776782440387231570435521120801226748728603, 304: 2464593359921179141398048006246675396881836888835835456250887805, 305: 3987795824799770715342824788687062628452272409956636682999616408, 306: 6452389184720949856740872794933738025334109298792472139250504213, 307: 10440185009520720572083697583620800653786381708749108822250120621, 308: 16892574194241670428824570378554538679120491007541580961500624834, 309: 27332759203762391000908267962175339332906872716290689783750745455, 310: 44225333398004061429732838340729878012027363723832270745251370289, 311: 71558092601766452430641106302905217344934236440122960529002115744, 312: 115783425999770513860373944643635095356961600163955231274253486033, 313: 187341518601536966291015050946540312701895836604078191803255601777, 314: 303124944601307480151388995590175408058857436768033423077509087810, 315: 490466463202844446442404046536715720760753273372111614880764689587, 316: 793591407804151926593793042126891128819610710140145037958273777397, 317: 1284057871006996373036197088663606849580363983512256652839038466984, 318: 2077649278811148299629990130790497978399974693652401690797312244381, 319: 3361707149818144672666187219454104827980338677164658343636350711365, 320: 5439356428629292972296177350244602806380313370817060034433662955746, 321: 8801063578447437644962364569698707634360652047981718378070013667111, 322: 14240420007076730617258541919943310440740965418798778412503676622857, 323: 23041483585524168262220906489642018075101617466780496790573690289968, 324: 37281903592600898879479448409585328515842582885579275203077366912825, 325: 60323387178125067141700354899227346590944200352359771993651057202793, 326: 97605290770725966021179803308812675106786783237939047196728424115618, 327: 157928677948851033162880158208040021697730983590298819190379481318411, 328: 255533968719576999184059961516852696804517766828237866387107905434029, 329: 413462646668428032346940119724892718502248750418536685577487386752440, 330: 668996615388005031531000081241745415306766517246774551964595292186469, 331: 1082459262056433063877940200966638133809015267665311237542082678938909, 332: 1751455877444438095408940282208383549115781784912085789506677971125378, 333: 2833915139500871159286880483175021682924797052577397027048760650064287, 334: 4585371016945309254695820765383405232040578837489482816555438621189665, 335: 7419286156446180413982701248558426914965375890066879843604199271253952, 336: 12004657173391489668678522013941832147005954727556362660159637892443617, 337: 19423943329837670082661223262500259061971330617623242503763837163697569, 338: 31428600503229159751339745276442091208977285345179605163923475056141186, 339: 50852543833066829834000968538942350270948615962802847667687312219838755, 340: 82281144336295989585340713815384441479925901307982452831610787275979941, 341: 133133688169362819419341682354326791750874517270785300499298099495818696, 342: 215414832505658809004682396169711233230800418578767753330908886771798637, 343: 348548520675021628424024078524038024981674935849553053830206986267617333, 344: 563963353180680437428706474693749258212475354428320807161115873039415970, 345: 912511873855702065852730553217787283194150290277873860991322859307033303, 346: 1476475227036382503281437027911536541406625644706194668152438732346449273, 347: 2388987100892084569134167581129323824600775934984068529143761591653482576, 348: 3865462327928467072415604609040860366007401579690263197296200323999931849, 349: 6254449428820551641549772190170184190608177514674331726439961915653414425, 350: 10119911756749018713965376799211044556615579094364594923736162239653346274, 351: 16374361185569570355515148989381228747223756609038926650176124155306760699, 352: 26494272942318589069480525788592273303839335703403521573912286394960106973, 353: 42868634127888159424995674777973502051063092312442448224088410550266867672, 354: 69362907070206748494476200566565775354902428015845969798000696945226974645, 355: 112231541198094907919471875344539277405965520328288418022089107495493842317, 356: 181594448268301656413948075911105052760867948344134387820089804440720816962, 357: 293825989466396564333419951255644330166833468672422805842178911936214659279, 358: 475420437734698220747368027166749382927701417016557193662268716376935476241, 359: 769246427201094785080787978422393713094534885688979999504447628313150135520, 360: 1244666864935793005828156005589143096022236302705537193166716344690085611761, 361: 2013913292136887790908943984011536809116771188394517192671163973003235747281, 362: 3258580157072680796737099989600679905139007491100054385837880317693321359042, 363: 5272493449209568587646043973612216714255778679494571578509044290696557106323, 364: 8531073606282249384383143963212896619394786170594625964346924608389878465365, 365: 13803567055491817972029187936825113333650564850089197542855968899086435571688, 366: 22334640661774067356412331900038009953045351020683823507202893507476314037053, 367: 36138207717265885328441519836863123286695915870773021050058862406562749608741, 368: 58472848379039952684853851736901133239741266891456844557261755914039063645794, 369: 94611056096305838013295371573764256526437182762229865607320618320601813254535, 370: 153083904475345790698149223310665389766178449653686710164582374234640876900329, 371: 247694960571651628711444594884429646292615632415916575771902992555242690154864, 372: 400778865046997419409593818195095036058794082069603285936485366789883567055193, 373: 648473825618649048121038413079524682351409714485519861708388359345126257210057, 374: 1049252690665646467530632231274619718410203796555123147644873726135009824265250, 375: 1697726516284295515651670644354144400761613511040643009353262085480136081475307, 376: 2746979206949941983182302875628764119171817307595766156998135811615145905740557, 377: 4444705723234237498833973519982908519933430818636409166351397897095281987215864, 378: 7191684930184179482016276395611672639105248126232175323349533708710427892956421, 379: 11636390653418416980850249915594581159038678944868584489700931605805709880172285, 380: 18828075583602596462866526311206253798143927071100759813050465314516137773128706, 381: 30464466237021013443716776226800834957182606015969344302751396920321847653300991, 382: 49292541820623609906583302538007088755326533087070104115801862234837985426429697, 383: 79757008057644623350300078764807923712509139103039448418553259155159833079730688, 384: 129049549878268233256883381302815012467835672190109552534355121389997818506160385, 385: 208806557935912856607183460067622936180344811293149000952908380545157651585891073, 386: 337856107814181089864066841370437948648180483483258553487263501935155470092051458, 387: 546662665750093946471250301438060884828525294776407554440171882480313121677942531, 388: 884518773564275036335317142808498833476705778259666107927435384415468591769993989, 389: 1431181439314368982806567444246559718305231073036073662367607266895781713447936520, 390: 2315700212878644019141884587055058551781936851295739770295042651311250305217930509, 391: 3746881652193013001948452031301618270087167924331813432662649918207032018665867029, 392: 6062581865071657021090336618356676821869104775627553202957692569518282323883797538, 393: 9809463517264670023038788649658295091956272699959366635620342487725314342549664567, 394: 15872045382336327044129125268014971913825377475586919838578035057243596666433462105, 395: 25681508899600997067167913917673267005781650175546286474198377544968911008983126672, 396: 41553554281937324111297039185688238919607027651133206312776412602212507675416588777, 397: 67235063181538321178464953103361505925388677826679492786974790147181418684399715449, 398: 108788617463475645289761992289049744844995705477812699099751202749393926359816304226, 399: 176023680645013966468226945392411250770384383304492191886725992896575345044216019675, 400: 284812298108489611757988937681460995615380088782304890986477195645969271404032323901, 401: 460835978753503578226215883073872246385764472086797082873203188542544616448248343576, 402: 745648276861993189984204820755333242001144560869101973859680384188513887852280667477, 403: 1206484255615496768210420703829205488386909032955899056732883572731058504300529011053, 404: 1952132532477489958194625524584538730388053593825001030592563956919572392152809678530, 405: 3158616788092986726405046228413744218774962626780900087325447529650630896453338689583, 406: 5110749320570476684599671752998282949163016220605901117918011486570203288606148368113, 407: 8269366108663463411004717981412027167937978847386801205243459016220834185059487057696, 408: 13380115429233940095604389734410310117100995067992702323161470502791037473665635425809, 409: 21649481537897403506609107715822337285038973915379503528404929519011871658725122483505, 410: 35029596967131343602213497450232647402139968983372205851566400021802909132390757909314, 411: 56679078505028747108822605166054984687178942898751709379971329540814780791115880392819, 412: 91708675472160090711036102616287632089318911882123915231537729562617689923506638302133, 413: 148387753977188837819858707782342616776497854780875624611509059103432470714622518694952, 414: 240096429449348928530894810398630248865816766662999539843046788666050160638129156997085, 415: 388484183426537766350753518180972865642314621443875164454555847769482631352751675692037, 416: 628580612875886694881648328579603114508131388106874704297602636435532791990880832689122, 417: 1017064796302424461232401846760575980150446009550749868752158484205015423343632508381159, 418: 1645645409178311156114050175340179094658577397657624573049761120640548215334513341070281, 419: 2662710205480735617346452022100755074809023407208374441801919604845563638678145849451440, 420: 4308355614659046773460502197440934169467600804865999014851680725486111854012659190521721, 421: 6971065820139782390806954219541689244276624212074373456653600330331675492690805039973161, 422: 11279421434798829164267456416982623413744225016940372471505281055817787346703464230494882, 423: 18250487254938611555074410636524312658020849229014745928158881386149462839394269270468043, 424: 29529908689737440719341867053506936071765074245955118399664162441967250186097733500962925, 425: 47780395944676052274416277690031248729785923474969864327823043828116713025492002771430968, 426: 77310304634413492993758144743538184801550997720924982727487206270083963211589736272393893, 427: 125090700579089545268174422433569433531336921195894847055310250098200676237081739043824861, 428: 202401005213503038261932567177107618332887918916819829782797456368284639448671475316218754, 429: 327491705792592583530106989610677051864224840112714676838107706466485315685753214360043615, 430: 529892711006095621792039556787784670197112759029534506620905162834769955134424689676262369, 431: 857384416798688205322146546398461722061337599142249183459012869301255270820177904036305984, 432: 1387277127804783827114186103186246392258450358171783690079918032136025225954602593712568353, 433: 2244661544603472032436332649584708114319787957314032873538930901437280496774780497748874337, 434: 3631938672408255859550518752770954506578238315485816563618848933573305722729383091461442690, 435: 5876600217011727891986851402355662620898026272799849437157779835010586219504163589210317027, 436: 9508538889419983751537370155126617127476264588285666000776628768583891942233546680671759717, 437: 15385139106431711643524221557482279748374290861085515437934408603594478161737710269882076744, 438: 24893677995851695395061591712608896875850555449371181438711037372178370103971256950553836461, 439: 40278817102283407038585813270091176624224846310456696876645445975772848265708967220435913205, 440: 65172495098135102433647404982700073500075401759827878315356483347951218369680224170989749666, 441: 105451312200418509472233218252791250124300248070284575192001929323724066635389191391425662871, 442: 170623807298553611905880623235491323624375649830112453507358412671675285005069415562415412537, 443: 276075119498972121378113841488282573748675897900397028699360341995399351640458606953841075408, 444: 446698926797525733283994464723773897373051547730509482206718754667074636645528022516256487945, 445: 722774046296497854662108306212056471121727445630906510906079096662473988285986629470097563353, 446: 1169472973094023587946102770935830368494778993361415993112797851329548624931514651986354051298, 447: 1892247019390521442608211077147886839616506438992322504018876947992022613217501281456451614651, 448: 3061719992484545030554313848083717208111285432353738497131674799321571238149015933442805665949, 449: 4953967011875066473162524925231604047727791871346061001150551747313593851366517214899257280600, 450: 8015687004359611503716838773315321255839077303699799498282226546635165089515533148342062946549, 451: 12969654016234677976879363698546925303566869175045860499432778293948758940882050363241320227149, 452: 20985341020594289480596202471862246559405946478745659997715004840583924030397583511583383173698, 453: 33954995036828967457475566170409171862972815653791520497147783134532682971279633874824703400847, 454: 54940336057423256938071768642271418422378762132537180494862787975116607001677217386408086574545, 455: 88895331094252224395547334812680590285351577786328700992010571109649289972956851261232789975392, 456: 143835667151675481333619103454952008707730339918865881486873359084765896974634068647640876549937, 457: 232730998245927705729166438267632598993081917705194582478883930194415186947590919908873666525329, 458: 376566665397603187062785541722584607700812257624060463965757289279181083922224988556514543075266, 459: 609297663643530892791951979990217206693894175329255046444641219473596270869815908465388209600595, 460: 985864329041134079854737521712801814394706432953315510410398508752777354792040897021902752675861, 461: 1595161992684664972646689501703019021088600608282570556855039728226373625661856805487290962276456, 462: 2581026321725799052501427023415820835483307041235886067265438236979150980453897702509193714952317, 463: 4176188314410464025148116525118839856571907649518456624120477965205524606115754507996484677228773, 464: 6757214636136263077649543548534660692055214690754342691385916202184675586569652210505678392181090, 465: 10933402950546727102797660073653500548627122340272799315506394167390200192685406718502163069409863, 466: 17690617586682990180447203622188161240682337031027142006892310369574875779255058929007841461590953, 467: 28624020537229717283244863695841661789309459371299941322398704536965075971940465647510004531000816, 468: 46314638123912707463692067318029823029991796402327083329291014906539951751195524576517845992591769, 469: 74938658661142424746936931013871484819301255773627024651689719443505027723135990224027850523592585, 470: 121253296785055132210628998331901307849293052175954107980980734350044979474331514800545696516184354, 471: 196191955446197556957565929345772792668594307949581132632670453793550007197467505024573547039776939, 472: 317445252231252689168194927677674100517887360125535240613651188143594986671799019825119243555961293, 473: 513637207677450246125760857023446893186481668075116373246321641937144993869266524849692790595738232, 474: 831082459908702935293955784701120993704369028200651613859972830080739980541065544674812034151699525, 475: 1344719667586153181419716641724567886890850696275767987106294472017884974410332069524504824747437757, 476: 2175802127494856116713672426425688880595219724476419600966267302098624954951397614199316858899137282, 477: 3520521795081009298133389068150256767486070420752187588072561774116509929361729683723821683646575039, 478: 5696323922575865414847061494575945648081290145228607189038829076215134884313127297923138542545712321, 479: 9216845717656874712980450562726202415567360565980794777111390850331644813674856981646960226192287360, 480: 14913169640232740127827512057302148063648650711209401966150219926546779697987984279570098768737999681, 481: 24130015357889614840807962620028350479216011277190196743261610776878424511662841261217058994930287041, 482: 39043184998122354968635474677330498542864661988399598709411830703425204209650825540787157763668286722, 483: 63173200356011969809443437297358849022080673265589795452673441480303628721313666802004216758598573763, 484: 102216385354134324778078911974689347564945335253989394162085272183728832930964492342791374522266860485, 485: 165389585710146294587522349272048196587026008519579189614758713664032461652278159144795591280865434248, 486: 267605971064280619365601261246737544151971343773568583776843985847761294583242651487586965803132294733, 487: 432995556774426913953123610518785740738997352293147773391602699511793756235520810632382557083997728981, 488: 700601527838707533318724871765523284890968696066716357168446685359555050818763462119969522887130023714, 489: 1133597084613134447271848482284309025629966048359864130560049384871348807054284272752352079971127752695, 490: 1834198612451841980590573354049832310520934744426580487728496070230903857873047734872321602858257776409, 491: 2967795697064976427862421836334141336150900792786444618288545455102252664927332007624673682829385529104, 492: 4801994309516818408452995190383973646671835537213025106017041525333156522800379742496995285687643305513, 493: 7769790006581794836315417026718114982822736329999469724305586980435409187727711750121668968517028834617, 494: 12571784316098613244768412217102088629494571867212494830322628505768565710528091492618664254204672140130, 495: 20341574322680408081083829243820203612317308197211964554628215486203974898255803242740333222721700974747, 496: 32913358638779021325852241460922292241811880064424459384950843991972540608783894735358997476926373114877, 497: 53254932961459429406936070704742495854129188261636423939579059478176515507039697978099330699648074089624, 498: 86168291600238450732788312165664788095941068326060883324529903470149056115823592713458328176574447204501, 499: 139423224561697880139724382870407283950070256587697307264108962948325571622863290691557658876222521294125, 500: 225591516161936330872512695036072072046011324913758190588638866418474627738686883405015987052796968498626}\n"
          ]
        }
      ]
    },
    {
      "cell_type": "code",
      "source": [],
      "metadata": {
        "id": "jIO_Dg441BeX"
      },
      "execution_count": null,
      "outputs": []
    },
    {
      "cell_type": "markdown",
      "source": [
        "## lambda **function**"
      ],
      "metadata": {
        "id": "1FZrb2Fu3tC7"
      }
    },
    {
      "cell_type": "code",
      "source": [
        "#lambda input:expresion\n",
        "x=lambda x:x**2\n",
        "x(9)"
      ],
      "metadata": {
        "colab": {
          "base_uri": "https://localhost:8080/"
        },
        "id": "1hy5bRyK3yIv",
        "outputId": "88417e7a-b7bc-4533-e8f8-1719d5b21df5"
      },
      "execution_count": 4,
      "outputs": [
        {
          "output_type": "execute_result",
          "data": {
            "text/plain": [
              "81"
            ]
          },
          "metadata": {},
          "execution_count": 4
        }
      ]
    },
    {
      "cell_type": "code",
      "source": [
        "a=lambda x,y:x+y\n",
        "a(4,5)"
      ],
      "metadata": {
        "colab": {
          "base_uri": "https://localhost:8080/"
        },
        "id": "sSfm__Hc3-FM",
        "outputId": "3102f05f-e282-4429-dc04-f5c16960af18"
      },
      "execution_count": 5,
      "outputs": [
        {
          "output_type": "execute_result",
          "data": {
            "text/plain": [
              "9"
            ]
          },
          "metadata": {},
          "execution_count": 5
        }
      ]
    },
    {
      "cell_type": "code",
      "source": [
        "#difference\n",
        "#there is no return value\n",
        "#one line code\n",
        "#not used for code reusability\n",
        "#no name of lambda function\n",
        "#higer order functions ke liye use karte hai\n",
        "\n"
      ],
      "metadata": {
        "id": "IRil177G4HBu"
      },
      "execution_count": 6,
      "outputs": []
    },
    {
      "cell_type": "code",
      "source": [
        "b=lambda x:x[0]==\"a\"\n",
        "b(\"sdftwd\")"
      ],
      "metadata": {
        "colab": {
          "base_uri": "https://localhost:8080/"
        },
        "id": "eV7aXdd64qLg",
        "outputId": "d12ca27d-4383-4b5c-8b1c-8a8f60fd3ae1"
      },
      "execution_count": 7,
      "outputs": [
        {
          "output_type": "execute_result",
          "data": {
            "text/plain": [
              "False"
            ]
          },
          "metadata": {},
          "execution_count": 7
        }
      ]
    },
    {
      "cell_type": "code",
      "source": [
        "b(\"ajhfg\")"
      ],
      "metadata": {
        "colab": {
          "base_uri": "https://localhost:8080/"
        },
        "id": "w5pI1Kkb42gg",
        "outputId": "e763d6de-cdfb-45f0-bb7e-dbe20a8cb035"
      },
      "execution_count": 8,
      "outputs": [
        {
          "output_type": "execute_result",
          "data": {
            "text/plain": [
              "True"
            ]
          },
          "metadata": {},
          "execution_count": 8
        }
      ]
    },
    {
      "cell_type": "code",
      "source": [
        "b=lambda x:\"even\" if x%2==0 else \"odd\"\n",
        "b(3)"
      ],
      "metadata": {
        "colab": {
          "base_uri": "https://localhost:8080/",
          "height": 35
        },
        "id": "EqNysYuM45-_",
        "outputId": "096f1b4a-b1db-41b6-ecbb-f014c752d68a"
      },
      "execution_count": 9,
      "outputs": [
        {
          "output_type": "execute_result",
          "data": {
            "text/plain": [
              "'odd'"
            ],
            "application/vnd.google.colaboratory.intrinsic+json": {
              "type": "string"
            }
          },
          "metadata": {},
          "execution_count": 9
        }
      ]
    },
    {
      "cell_type": "code",
      "source": [
        "def return_sum(func,L):\n",
        "  result=0\n",
        "  for i in L:\n",
        "    if func(i):\n",
        "      result=result+i\n",
        "  return result\n",
        "L=[11,12,13,14,45,67,45,34,24,23,13,9,18,27,2,34,46,56,24]\n",
        "x=lambda x:x%2==0\n",
        "y=lambda x:x%2!=0\n",
        "z=lambda x:x%3==0\n",
        "\n",
        "print(return_sum(x,L))\n",
        "print(return_sum(y,L))\n",
        "print(return_sum(z,L))\n",
        "\n",
        "\n"
      ],
      "metadata": {
        "colab": {
          "base_uri": "https://localhost:8080/"
        },
        "id": "lQ1B8fdD5GUl",
        "outputId": "f97952ed-db87-4dd3-8c5b-425aa08ce01a"
      },
      "execution_count": 17,
      "outputs": [
        {
          "output_type": "stream",
          "name": "stdout",
          "text": [
            "264\n",
            "253\n",
            "204\n"
          ]
        }
      ]
    },
    {
      "cell_type": "code",
      "source": [
        "#map function\n",
        "L1=[1,2,3,5,6,7]\n",
        "map(lambda x:x*2,L1)"
      ],
      "metadata": {
        "colab": {
          "base_uri": "https://localhost:8080/"
        },
        "id": "_H9wBBPS6UsJ",
        "outputId": "3fbb4d00-89ab-4105-fc00-ddd465e2241c"
      },
      "execution_count": 18,
      "outputs": [
        {
          "output_type": "execute_result",
          "data": {
            "text/plain": [
              "<map at 0x79a63d6f6c50>"
            ]
          },
          "metadata": {},
          "execution_count": 18
        }
      ]
    },
    {
      "cell_type": "code",
      "source": [
        "list(map(lambda x:x*2,L1))"
      ],
      "metadata": {
        "colab": {
          "base_uri": "https://localhost:8080/"
        },
        "id": "ZfHwQz1h7q3k",
        "outputId": "77e192e2-1b1b-4c53-c712-16c126f126fa"
      },
      "execution_count": 19,
      "outputs": [
        {
          "output_type": "execute_result",
          "data": {
            "text/plain": [
              "[2, 4, 6, 10, 12, 14]"
            ]
          },
          "metadata": {},
          "execution_count": 19
        }
      ]
    },
    {
      "cell_type": "code",
      "source": [
        "student={\n",
        "         {\n",
        "          \"name\":\"Reena\",\n",
        "          'fname':'Sewa Ram',\n",
        "          'Address':'Sandil'\n",
        "          },\n",
        "         {\n",
        "          'name':'Golu',\n",
        "          'fname':'sonu',\n",
        "          'Address':'jind'\n",
        "          },\n",
        "         {\n",
        "          'name':'Ayush',\n",
        "          'fname':'sanjeev',\n",
        "          'address':'kaithal'\n",
        "          }\n",
        "}"
      ],
      "metadata": {
        "colab": {
          "base_uri": "https://localhost:8080/",
          "height": 245
        },
        "id": "u3l3NaWn7xLn",
        "outputId": "849a0e28-c52e-4dc1-c9d7-ebbf10994742"
      },
      "execution_count": 27,
      "outputs": [
        {
          "output_type": "error",
          "ename": "TypeError",
          "evalue": "ignored",
          "traceback": [
            "\u001b[0;31m---------------------------------------------------------------------------\u001b[0m",
            "\u001b[0;31mTypeError\u001b[0m                                 Traceback (most recent call last)",
            "\u001b[0;32m<ipython-input-27-581e0f2bcd8b>\u001b[0m in \u001b[0;36m<cell line: 3>\u001b[0;34m()\u001b[0m\n\u001b[0;32m----> 1\u001b[0;31m student={\n\u001b[0m\u001b[1;32m      2\u001b[0m          {\n\u001b[1;32m      3\u001b[0m           \u001b[0;34m\"name\"\u001b[0m\u001b[0;34m:\u001b[0m\u001b[0;34m\"Reena\"\u001b[0m\u001b[0;34m,\u001b[0m\u001b[0;34m\u001b[0m\u001b[0;34m\u001b[0m\u001b[0m\n\u001b[1;32m      4\u001b[0m           \u001b[0;34m'fname'\u001b[0m\u001b[0;34m:\u001b[0m\u001b[0;34m'Sewa Ram'\u001b[0m\u001b[0;34m,\u001b[0m\u001b[0;34m\u001b[0m\u001b[0;34m\u001b[0m\u001b[0m\n\u001b[1;32m      5\u001b[0m           \u001b[0;34m'Address'\u001b[0m\u001b[0;34m:\u001b[0m\u001b[0;34m'Sandil'\u001b[0m\u001b[0;34m\u001b[0m\u001b[0;34m\u001b[0m\u001b[0m\n",
            "\u001b[0;31mTypeError\u001b[0m: unhashable type: 'dict'"
          ]
        }
      ]
    },
    {
      "cell_type": "code",
      "source": [
        "#filter function\n",
        "L=[1,2,3,4,5,7,8]\n",
        "list(filter(lambda x:x>4,L))"
      ],
      "metadata": {
        "colab": {
          "base_uri": "https://localhost:8080/"
        },
        "id": "kouO6ojd9G8c",
        "outputId": "96c88567-6c92-49b9-d958-eede86fb3ba4"
      },
      "execution_count": 28,
      "outputs": [
        {
          "output_type": "execute_result",
          "data": {
            "text/plain": [
              "[5, 7, 8]"
            ]
          },
          "metadata": {},
          "execution_count": 28
        }
      ]
    },
    {
      "cell_type": "code",
      "source": [
        "f=[\"Apple\",\"Orange\",\"Mango\",\"Guava\"]\n",
        "list(filter(lambda f:'e' in f,f))"
      ],
      "metadata": {
        "colab": {
          "base_uri": "https://localhost:8080/"
        },
        "id": "aa-x88UR-d4-",
        "outputId": "5f1a0d91-ebc8-4c7c-cfd5-39711f4b1c58"
      },
      "execution_count": 29,
      "outputs": [
        {
          "output_type": "execute_result",
          "data": {
            "text/plain": [
              "['Apple', 'Orange']"
            ]
          },
          "metadata": {},
          "execution_count": 29
        }
      ]
    },
    {
      "cell_type": "code",
      "source": [
        "#Reduce function\n",
        "import functools\n",
        "L=[1,2,3,4,6,8,9]"
      ],
      "metadata": {
        "id": "8rzWorpP-yFA"
      },
      "execution_count": 33,
      "outputs": []
    },
    {
      "cell_type": "code",
      "source": [
        "functools.reduce(lambda x,y:x+y,L)"
      ],
      "metadata": {
        "colab": {
          "base_uri": "https://localhost:8080/"
        },
        "id": "g2cmu3YZ-4j_",
        "outputId": "efa4c8d0-77f6-435d-c484-50daa26f473b"
      },
      "execution_count": 35,
      "outputs": [
        {
          "output_type": "execute_result",
          "data": {
            "text/plain": [
              "33"
            ]
          },
          "metadata": {},
          "execution_count": 35
        }
      ]
    },
    {
      "cell_type": "code",
      "source": [
        "L1=[12,23,45,67,89]\n",
        "functools.reduce(lambda x,y:x if x>y else y,L1)"
      ],
      "metadata": {
        "colab": {
          "base_uri": "https://localhost:8080/"
        },
        "id": "it4kDIv2_WWt",
        "outputId": "b2d6a2c0-1919-4f7e-9b4c-3e850fcb03c8"
      },
      "execution_count": 36,
      "outputs": [
        {
          "output_type": "execute_result",
          "data": {
            "text/plain": [
              "89"
            ]
          },
          "metadata": {},
          "execution_count": 36
        }
      ]
    },
    {
      "cell_type": "code",
      "source": [],
      "metadata": {
        "id": "m6ITCekS_x6E"
      },
      "execution_count": null,
      "outputs": []
    }
  ],
  "metadata": {
    "colab": {
      "provenance": [],
      "authorship_tag": "ABX9TyNUtcuxRSeIuuYpruv70vAN",
      "include_colab_link": true
    },
    "kernelspec": {
      "display_name": "Python 3",
      "name": "python3"
    },
    "language_info": {
      "name": "python"
    }
  },
  "nbformat": 4,
  "nbformat_minor": 0
}