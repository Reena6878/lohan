{
  "nbformat": 4,
  "nbformat_minor": 0,
  "metadata": {
    "colab": {
      "provenance": [],
      "authorship_tag": "ABX9TyNhOoLG88BKvc3BGVVqt2wj",
      "include_colab_link": true
    },
    "kernelspec": {
      "name": "python3",
      "display_name": "Python 3"
    },
    "language_info": {
      "name": "python"
    }
  },
  "cells": [
    {
      "cell_type": "markdown",
      "metadata": {
        "id": "view-in-github",
        "colab_type": "text"
      },
      "source": [
        "<a href=\"https://colab.research.google.com/github/Reena6878/lohan/blob/master/zipfile.ipynb\" target=\"_parent\"><img src=\"https://colab.research.google.com/assets/colab-badge.svg\" alt=\"Open In Colab\"/></a>"
      ]
    },
    {
      "cell_type": "code",
      "execution_count": 2,
      "metadata": {
        "colab": {
          "base_uri": "https://localhost:8080/"
        },
        "id": "vez_U_gMMHEP",
        "outputId": "a02254ad-0f8f-4eea-c24d-5c29bd48c2b3"
      },
      "outputs": [
        {
          "output_type": "stream",
          "name": "stdout",
          "text": [
            "/content/Assignment.zip\n"
          ]
        }
      ],
      "source": [
        "import shutil\n",
        "import os.path\n",
        "\n",
        "# Creating the ZIP file\n",
        "archived = shutil.make_archive('Assignment', 'zip', '/content/assignment3.ipynb')\n",
        "\n",
        "if os.path.exists('/content/assignment3.ipynb'):\n",
        "   print(archived)\n",
        "else:\n",
        "   print(\"ZIP file not created\")\n",
        "\n"
      ]
    },
    {
      "cell_type": "code",
      "source": [],
      "metadata": {
        "id": "6m5KZs3wbbmB"
      },
      "execution_count": null,
      "outputs": []
    }
  ]
}