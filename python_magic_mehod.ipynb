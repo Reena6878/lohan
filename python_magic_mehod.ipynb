{
  "nbformat": 4,
  "nbformat_minor": 0,
  "metadata": {
    "colab": {
      "provenance": [],
      "authorship_tag": "ABX9TyM2wbfTjpjBCyYoqvu/06uD",
      "include_colab_link": true
    },
    "kernelspec": {
      "name": "python3",
      "display_name": "Python 3"
    },
    "language_info": {
      "name": "python"
    }
  },
  "cells": [
    {
      "cell_type": "markdown",
      "metadata": {
        "id": "view-in-github",
        "colab_type": "text"
      },
      "source": [
        "<a href=\"https://colab.research.google.com/github/Reena6878/lohan/blob/master/python_magic_mehod.ipynb\" target=\"_parent\"><img src=\"https://colab.research.google.com/assets/colab-badge.svg\" alt=\"Open In Colab\"/></a>"
      ]
    },
    {
      "cell_type": "code",
      "execution_count": 1,
      "metadata": {
        "id": "RP6zU3bPIfVM"
      },
      "outputs": [],
      "source": [
        "class fraction:\n",
        "    def __init__(self,n,d):\n",
        "        self.num=n\n",
        "        self.den=d\n",
        "\n",
        "    def __str__(self):\n",
        "        return \"{}/{}\".format(self.num,self.den)\n",
        "\n",
        "    def __add__(self,other):\n",
        "        temp_num=self.num*other.den+self.den*other.num\n",
        "        temp_den=self.den*other.den\n",
        "\n",
        "        return \"{}/{}\".format(temp_num,temp_den)\n",
        "\n",
        "\n",
        "    def __sub__(self,other):\n",
        "        temp_num=self.num*other.den-self.den*other.num\n",
        "        temp_den=self.den*other.den\n",
        "\n",
        "        return \"{}/{}\".format(temp_num,temp_den)\n",
        "\n",
        "\n",
        "    def __mul__(self,other):\n",
        "        temp_num=self.num*other.num\n",
        "        temp_den=self.den*other.den\n",
        "\n",
        "        return \"{}/{}\".format(temp_num,temp_den)\n",
        "    def __truediv__(self,other):\n",
        "        temp_num=self.num*other.den\n",
        "        temp_den=self.den*other.num\n",
        "\n",
        "        return \"{}/{}\".format(temp_num,temp_den)\n",
        "\n",
        "\n",
        "\n",
        "\n",
        "\n",
        "\n",
        "\n"
      ]
    },
    {
      "cell_type": "code",
      "source": [
        "x=fraction(3,4)"
      ],
      "metadata": {
        "id": "tKG2dQIOIrYw"
      },
      "execution_count": 2,
      "outputs": []
    },
    {
      "cell_type": "code",
      "source": [
        "y=fraction(5,6)"
      ],
      "metadata": {
        "id": "SUGM3VD7I5W9"
      },
      "execution_count": 3,
      "outputs": []
    },
    {
      "cell_type": "code",
      "source": [
        "print(x)"
      ],
      "metadata": {
        "colab": {
          "base_uri": "https://localhost:8080/"
        },
        "id": "Wh3gIt68I8Bb",
        "outputId": "23e47f5e-47d5-4862-a382-b90b8c507c42"
      },
      "execution_count": 4,
      "outputs": [
        {
          "output_type": "stream",
          "name": "stdout",
          "text": [
            "3/4\n"
          ]
        }
      ]
    },
    {
      "cell_type": "code",
      "source": [
        "print(y)"
      ],
      "metadata": {
        "colab": {
          "base_uri": "https://localhost:8080/"
        },
        "id": "PmW8fp1PI-Tb",
        "outputId": "f2e6ceeb-f96b-48e4-f083-3ff7885c2c43"
      },
      "execution_count": 5,
      "outputs": [
        {
          "output_type": "stream",
          "name": "stdout",
          "text": [
            "5/6\n"
          ]
        }
      ]
    },
    {
      "cell_type": "code",
      "source": [
        "print(x+y)"
      ],
      "metadata": {
        "colab": {
          "base_uri": "https://localhost:8080/"
        },
        "id": "Ly40siGIJAFJ",
        "outputId": "019f80af-07f1-4ca8-b1ba-d256de571427"
      },
      "execution_count": 6,
      "outputs": [
        {
          "output_type": "stream",
          "name": "stdout",
          "text": [
            "38/24\n"
          ]
        }
      ]
    },
    {
      "cell_type": "code",
      "source": [
        "print(x-y)\n",
        "print(y-x)"
      ],
      "metadata": {
        "colab": {
          "base_uri": "https://localhost:8080/"
        },
        "id": "VrpOek1wJCuB",
        "outputId": "96ab330a-163b-45f9-d4a5-afa89226585e"
      },
      "execution_count": 9,
      "outputs": [
        {
          "output_type": "stream",
          "name": "stdout",
          "text": [
            "-2/24\n",
            "2/24\n"
          ]
        }
      ]
    },
    {
      "cell_type": "code",
      "source": [
        "print(x/y)"
      ],
      "metadata": {
        "colab": {
          "base_uri": "https://localhost:8080/"
        },
        "id": "MnUDYNitJFKi",
        "outputId": "d24a4f7a-e6bf-4b1f-d412-964eb05ead2d"
      },
      "execution_count": 8,
      "outputs": [
        {
          "output_type": "stream",
          "name": "stdout",
          "text": [
            "18/20\n"
          ]
        }
      ]
    },
    {
      "cell_type": "code",
      "source": [],
      "metadata": {
        "id": "IHECMGEjJG3S"
      },
      "execution_count": null,
      "outputs": []
    }
  ]
}