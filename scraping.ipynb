{
  "nbformat": 4,
  "nbformat_minor": 0,
  "metadata": {
    "colab": {
      "provenance": [],
      "authorship_tag": "ABX9TyM4wwn00L4iRMBNBEfWIpAr",
      "include_colab_link": true
    },
    "kernelspec": {
      "name": "python3",
      "display_name": "Python 3"
    },
    "language_info": {
      "name": "python"
    }
  },
  "cells": [
    {
      "cell_type": "markdown",
      "metadata": {
        "id": "view-in-github",
        "colab_type": "text"
      },
      "source": [
        "<a href=\"https://colab.research.google.com/github/Reena6878/lohan/blob/master/scraping.ipynb\" target=\"_parent\"><img src=\"https://colab.research.google.com/assets/colab-badge.svg\" alt=\"Open In Colab\"/></a>"
      ]
    },
    {
      "cell_type": "code",
      "execution_count": null,
      "metadata": {
        "id": "IA-jvbS6ebVr"
      },
      "outputs": [],
      "source": [
        "import requests, webbrowser"
      ]
    },
    {
      "cell_type": "code",
      "source": [
        "pip install beautifulsoup"
      ],
      "metadata": {
        "colab": {
          "base_uri": "https://localhost:8080/"
        },
        "id": "nSWp7L-WaEY4",
        "outputId": "4aa04c5a-5ac7-4f98-dc11-7e588c49e342"
      },
      "execution_count": null,
      "outputs": [
        {
          "output_type": "stream",
          "name": "stdout",
          "text": [
            "Collecting beautifulsoup\n",
            "  Downloading BeautifulSoup-3.2.2.tar.gz (32 kB)\n",
            "  \u001b[1;31merror\u001b[0m: \u001b[1msubprocess-exited-with-error\u001b[0m\n",
            "  \n",
            "  \u001b[31m×\u001b[0m \u001b[32mpython setup.py egg_info\u001b[0m did not run successfully.\n",
            "  \u001b[31m│\u001b[0m exit code: \u001b[1;36m1\u001b[0m\n",
            "  \u001b[31m╰─>\u001b[0m See above for output.\n",
            "  \n",
            "  \u001b[1;35mnote\u001b[0m: This error originates from a subprocess, and is likely not a problem with pip.\n",
            "  Preparing metadata (setup.py) ... \u001b[?25l\u001b[?25herror\n",
            "\u001b[1;31merror\u001b[0m: \u001b[1mmetadata-generation-failed\u001b[0m\n",
            "\n",
            "\u001b[31m×\u001b[0m Encountered error while generating package metadata.\n",
            "\u001b[31m╰─>\u001b[0m See above for output.\n",
            "\n",
            "\u001b[1;35mnote\u001b[0m: This is an issue with the package mentioned above, not pip.\n",
            "\u001b[1;36mhint\u001b[0m: See above for details.\n"
          ]
        }
      ]
    },
    {
      "cell_type": "code",
      "source": [
        "from bs4 import BeautifulSoup\n",
        "import pandas as pd"
      ],
      "metadata": {
        "id": "gJJxX7cShYao"
      },
      "execution_count": 40,
      "outputs": []
    },
    {
      "cell_type": "code",
      "source": [
        "Product_name=[]\n",
        "Prices=[]\n",
        "Description=[]\n",
        "Review=[]\n",
        "for i in range(2,12):\n",
        "  url=\"https://www.flipkart.com/search?q=mobiles%20under%2050000&otracker=search&otracker1=search&marketplace=FLIPKART&as-show=on&as=off\"+str(i)\n",
        "\n",
        "  r=requests.get(url)\n",
        "\n",
        "  soup=BeautifulSoup(r.text,'lxml')\n",
        "  box=soup.find(\"div\",class_=\"_2kHMtA\")\n",
        "\n",
        "  names = box.find_all(\"div\",class_ = \"_4rR01T\")\n",
        "  for i in names:\n",
        "    name=i.text\n",
        "    Product_name.append(name)\n",
        "  #print(len(Product_name))\n",
        "\n",
        "\n",
        "  prices = box.find_all(\"div\",class_ = \"_30jeq3 _1_WHN1\")\n",
        "  for i in prices:\n",
        "    prices=i.text\n",
        "    Prices.append(prices)\n",
        "  #print(len(Prices))\n",
        "\n",
        "\n",
        "  description=box.find_all(\"ul\",class_=\"_1xgFaf\")\n",
        "  for i in description:\n",
        "    description=i.text\n",
        "    Description.append(description)\n",
        "  #print(len(Description))\n",
        "\n",
        "  reviews=box.find_all(\"div\",class_=\"_3LWZlK\")\n",
        "  for i in reviews:\n",
        "    reviews=i.text\n",
        "    Review.append(reviews)\n",
        "    #print(Review)\n",
        "  #print(len(Review))\n",
        "\n",
        "df=pd.DataFrame({\"Product_name\":Product_name,\"Prices\":Prices,\"Description\":Description,\"Review\":Review})\n",
        "print(df)\n",
        "df.to_csv(\"flipkartmobile_under_50000.csv\")\n",
        "\n",
        "\n"
      ],
      "metadata": {
        "id": "eDjKIu72iTut",
        "colab": {
          "base_uri": "https://localhost:8080/"
        },
        "outputId": "0adc26e7-6f7b-41c3-c15a-33191496f183"
      },
      "execution_count": 62,
      "outputs": [
        {
          "output_type": "stream",
          "name": "stdout",
          "text": [
            "                               Product_name   Prices  \\\n",
            "0  OnePlus 11R 5G (Galactic Silver, 256 GB)  ₹43,749   \n",
            "1  OnePlus 11R 5G (Galactic Silver, 256 GB)  ₹43,764   \n",
            "2  OnePlus 11R 5G (Galactic Silver, 256 GB)  ₹43,749   \n",
            "3  OnePlus 11R 5G (Galactic Silver, 256 GB)  ₹43,749   \n",
            "4  OnePlus 11R 5G (Galactic Silver, 256 GB)  ₹43,764   \n",
            "5  OnePlus 11R 5G (Galactic Silver, 256 GB)  ₹43,749   \n",
            "6  OnePlus 11R 5G (Galactic Silver, 256 GB)  ₹43,749   \n",
            "7  OnePlus 11R 5G (Galactic Silver, 256 GB)  ₹43,749   \n",
            "8  OnePlus 11R 5G (Galactic Silver, 256 GB)  ₹43,764   \n",
            "9  OnePlus 11R 5G (Galactic Silver, 256 GB)  ₹43,764   \n",
            "\n",
            "                                         Description Review  \n",
            "0  16 GB RAM | 256 GB ROM17.02 cm (6.7 inch) Disp...    4.5  \n",
            "1  16 GB RAM | 256 GB ROM17.02 cm (6.7 inch) Disp...    4.5  \n",
            "2  16 GB RAM | 256 GB ROM17.02 cm (6.7 inch) Disp...    4.5  \n",
            "3  16 GB RAM | 256 GB ROM17.02 cm (6.7 inch) Disp...    4.5  \n",
            "4  16 GB RAM | 256 GB ROM17.02 cm (6.7 inch) Disp...    4.5  \n",
            "5  16 GB RAM | 256 GB ROM17.02 cm (6.7 inch) Disp...    4.5  \n",
            "6  16 GB RAM | 256 GB ROM17.02 cm (6.7 inch) Disp...    4.5  \n",
            "7  16 GB RAM | 256 GB ROM17.02 cm (6.7 inch) Disp...    4.5  \n",
            "8  16 GB RAM | 256 GB ROM17.02 cm (6.7 inch) Disp...    4.5  \n",
            "9  16 GB RAM | 256 GB ROM17.02 cm (6.7 inch) Disp...    4.5  \n"
          ]
        }
      ]
    },
    {
      "cell_type": "code",
      "source": [
        "\n"
      ],
      "metadata": {
        "id": "Hl4pnxrPdU6V"
      },
      "execution_count": 36,
      "outputs": []
    },
    {
      "cell_type": "code",
      "source": [],
      "metadata": {
        "id": "wAEliYWaq_VZ"
      },
      "execution_count": null,
      "outputs": []
    }
  ]
}